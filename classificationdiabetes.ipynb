{
 "cells": [
  {
   "cell_type": "code",
   "execution_count": 1,
   "metadata": {
    "execution": {
     "iopub.execute_input": "2020-08-18T01:10:28.618373Z",
     "iopub.status.busy": "2020-08-18T01:10:28.617513Z",
     "iopub.status.idle": "2020-08-18T01:10:32.062900Z",
     "shell.execute_reply": "2020-08-18T01:10:32.062158Z"
    },
    "papermill": {
     "duration": 3.486051,
     "end_time": "2020-08-18T01:10:32.063042",
     "exception": false,
     "start_time": "2020-08-18T01:10:28.576991",
     "status": "completed"
    },
    "tags": []
   },
   "outputs": [],
   "source": [
    "import numpy as np # linear algebra\n",
    "import pandas as pd\n",
    "import statsmodels.api as sm\n",
    "import seaborn as sns\n",
    "import matplotlib.pyplot as plt\n",
    "from sklearn.preprocessing import scale, StandardScaler\n",
    "from sklearn.model_selection import train_test_split, GridSearchCV, cross_val_score\n",
    "from sklearn.metrics import confusion_matrix, accuracy_score, mean_squared_error, r2_score, roc_auc_score, roc_curve, classification_report\n",
    "from sklearn.linear_model import LogisticRegression\n",
    "from sklearn.neighbors import KNeighborsClassifier\n",
    "from sklearn.svm import SVC\n",
    "from sklearn.neural_network import MLPClassifier\n",
    "from sklearn.tree import DecisionTreeClassifier\n",
    "from sklearn.ensemble import RandomForestClassifier\n",
    "from sklearn.ensemble import GradientBoostingClassifier\n",
    "from lightgbm import LGBMClassifier\n",
    "from sklearn.model_selection import KFold\n",
    "from xgboost import XGBClassifier\n",
    "\n",
    "from warnings import filterwarnings\n",
    "filterwarnings('ignore')"
   ]
  },
  {
   "cell_type": "code",
   "execution_count": 2,
   "metadata": {
    "_cell_guid": "79c7e3d0-c299-4dcb-8224-4455121ee9b0",
    "_uuid": "d629ff2d2480ee46fbb7e2d37f6b5fab8052498a",
    "execution": {
     "iopub.execute_input": "2020-08-18T01:10:32.129741Z",
     "iopub.status.busy": "2020-08-18T01:10:32.128927Z",
     "iopub.status.idle": "2020-08-18T01:10:32.142612Z",
     "shell.execute_reply": "2020-08-18T01:10:32.141658Z"
    },
    "papermill": {
     "duration": 0.049476,
     "end_time": "2020-08-18T01:10:32.142766",
     "exception": false,
     "start_time": "2020-08-18T01:10:32.093290",
     "status": "completed"
    },
    "tags": []
   },
   "outputs": [],
   "source": [
    "df = pd.read_csv(\"diabetes.csv\")"
   ]
  },
  {
   "cell_type": "code",
   "execution_count": 3,
   "metadata": {
    "execution": {
     "iopub.execute_input": "2020-08-18T01:10:32.219681Z",
     "iopub.status.busy": "2020-08-18T01:10:32.217729Z",
     "iopub.status.idle": "2020-08-18T01:10:32.235288Z",
     "shell.execute_reply": "2020-08-18T01:10:32.234428Z"
    },
    "papermill": {
     "duration": 0.062764,
     "end_time": "2020-08-18T01:10:32.235432",
     "exception": false,
     "start_time": "2020-08-18T01:10:32.172668",
     "status": "completed"
    },
    "tags": []
   },
   "outputs": [
    {
     "data": {
      "text/html": [
       "<div>\n",
       "<style scoped>\n",
       "    .dataframe tbody tr th:only-of-type {\n",
       "        vertical-align: middle;\n",
       "    }\n",
       "\n",
       "    .dataframe tbody tr th {\n",
       "        vertical-align: top;\n",
       "    }\n",
       "\n",
       "    .dataframe thead th {\n",
       "        text-align: right;\n",
       "    }\n",
       "</style>\n",
       "<table border=\"1\" class=\"dataframe\">\n",
       "  <thead>\n",
       "    <tr style=\"text-align: right;\">\n",
       "      <th></th>\n",
       "      <th>Pregnancies</th>\n",
       "      <th>Glucose</th>\n",
       "      <th>BloodPressure</th>\n",
       "      <th>SkinThickness</th>\n",
       "      <th>Insulin</th>\n",
       "      <th>BMI</th>\n",
       "      <th>DiabetesPedigreeFunction</th>\n",
       "      <th>Age</th>\n",
       "      <th>Outcome</th>\n",
       "    </tr>\n",
       "  </thead>\n",
       "  <tbody>\n",
       "    <tr>\n",
       "      <td>0</td>\n",
       "      <td>6</td>\n",
       "      <td>148</td>\n",
       "      <td>72</td>\n",
       "      <td>35</td>\n",
       "      <td>0</td>\n",
       "      <td>33.6</td>\n",
       "      <td>0.627</td>\n",
       "      <td>50</td>\n",
       "      <td>1</td>\n",
       "    </tr>\n",
       "    <tr>\n",
       "      <td>1</td>\n",
       "      <td>1</td>\n",
       "      <td>85</td>\n",
       "      <td>66</td>\n",
       "      <td>29</td>\n",
       "      <td>0</td>\n",
       "      <td>26.6</td>\n",
       "      <td>0.351</td>\n",
       "      <td>31</td>\n",
       "      <td>0</td>\n",
       "    </tr>\n",
       "    <tr>\n",
       "      <td>2</td>\n",
       "      <td>8</td>\n",
       "      <td>183</td>\n",
       "      <td>64</td>\n",
       "      <td>0</td>\n",
       "      <td>0</td>\n",
       "      <td>23.3</td>\n",
       "      <td>0.672</td>\n",
       "      <td>32</td>\n",
       "      <td>1</td>\n",
       "    </tr>\n",
       "    <tr>\n",
       "      <td>3</td>\n",
       "      <td>1</td>\n",
       "      <td>89</td>\n",
       "      <td>66</td>\n",
       "      <td>23</td>\n",
       "      <td>94</td>\n",
       "      <td>28.1</td>\n",
       "      <td>0.167</td>\n",
       "      <td>21</td>\n",
       "      <td>0</td>\n",
       "    </tr>\n",
       "    <tr>\n",
       "      <td>4</td>\n",
       "      <td>0</td>\n",
       "      <td>137</td>\n",
       "      <td>40</td>\n",
       "      <td>35</td>\n",
       "      <td>168</td>\n",
       "      <td>43.1</td>\n",
       "      <td>2.288</td>\n",
       "      <td>33</td>\n",
       "      <td>1</td>\n",
       "    </tr>\n",
       "  </tbody>\n",
       "</table>\n",
       "</div>"
      ],
      "text/plain": [
       "   Pregnancies  Glucose  BloodPressure  SkinThickness  Insulin   BMI  \\\n",
       "0            6      148             72             35        0  33.6   \n",
       "1            1       85             66             29        0  26.6   \n",
       "2            8      183             64              0        0  23.3   \n",
       "3            1       89             66             23       94  28.1   \n",
       "4            0      137             40             35      168  43.1   \n",
       "\n",
       "   DiabetesPedigreeFunction  Age  Outcome  \n",
       "0                     0.627   50        1  \n",
       "1                     0.351   31        0  \n",
       "2                     0.672   32        1  \n",
       "3                     0.167   21        0  \n",
       "4                     2.288   33        1  "
      ]
     },
     "execution_count": 3,
     "metadata": {},
     "output_type": "execute_result"
    }
   ],
   "source": [
    "df.head()"
   ]
  },
  {
   "cell_type": "code",
   "execution_count": 4,
   "metadata": {
    "execution": {
     "iopub.execute_input": "2020-08-18T01:10:32.311194Z",
     "iopub.status.busy": "2020-08-18T01:10:32.309995Z",
     "iopub.status.idle": "2020-08-18T01:10:32.313558Z",
     "shell.execute_reply": "2020-08-18T01:10:32.312894Z"
    },
    "papermill": {
     "duration": 0.046212,
     "end_time": "2020-08-18T01:10:32.313709",
     "exception": false,
     "start_time": "2020-08-18T01:10:32.267497",
     "status": "completed"
    },
    "tags": []
   },
   "outputs": [],
   "source": [
    "models = []\n",
    "\n",
    "models.append((\"LR\", LogisticRegression()))\n",
    "models.append(('KNN', KNeighborsClassifier()))\n",
    "models.append(('SVR', SVC()))\n",
    "models.append(('CART', DecisionTreeClassifier()))\n",
    "models.append(('RandomForests', RandomForestClassifier()))\n",
    "models.append(('GradientBoosting', GradientBoostingClassifier()))\n",
    "models.append(('XGBoost', XGBClassifier()))\n",
    "models.append(('Light GBM', LGBMClassifier()))"
   ]
  },
  {
   "cell_type": "code",
   "execution_count": 5,
   "metadata": {
    "execution": {
     "iopub.execute_input": "2020-08-18T01:10:32.396953Z",
     "iopub.status.busy": "2020-08-18T01:10:32.396030Z",
     "iopub.status.idle": "2020-08-18T01:10:40.168462Z",
     "shell.execute_reply": "2020-08-18T01:10:40.169337Z"
    },
    "papermill": {
     "duration": 7.824793,
     "end_time": "2020-08-18T01:10:40.169549",
     "exception": false,
     "start_time": "2020-08-18T01:10:32.344756",
     "status": "completed"
    },
    "tags": []
   },
   "outputs": [
    {
     "name": "stdout",
     "output_type": "stream",
     "text": [
      "Holdout Method: LR 0.7597402597402597\n",
      "Cross Val Score LR 0.7734791524265209\n",
      "------------------------------------\n",
      "Holdout Method: KNN 0.7077922077922078\n",
      "Cross Val Score KNN 0.7213773069036227\n",
      "------------------------------------\n",
      "Holdout Method: SVR 0.7727272727272727\n",
      "Cross Val Score SVR 0.7578605604921396\n",
      "------------------------------------\n",
      "Holdout Method: CART 0.6883116883116883\n",
      "Cross Val Score CART 0.7057245386192755\n",
      "------------------------------------\n",
      "Holdout Method: RandomForests 0.7272727272727273\n",
      "Cross Val Score RandomForests 0.7656698564593303\n",
      "------------------------------------\n",
      "Holdout Method: GradientBoosting 0.7532467532467533\n",
      "Cross Val Score GradientBoosting 0.7578092959671908\n",
      "------------------------------------\n",
      "Holdout Method: XGBoost 0.6883116883116883\n",
      "Cross Val Score XGBoost 0.7357142857142857\n",
      "------------------------------------\n",
      "Holdout Method: Light GBM 0.6883116883116883\n",
      "Cross Val Score Light GBM 0.7343984962406016\n",
      "------------------------------------\n"
     ]
    }
   ],
   "source": [
    "X = df.drop(\"Outcome\",axis=1)\n",
    "y = df[\"Outcome\"]\n",
    "\n",
    "X_train, X_test, y_train, y_test = train_test_split(X,y,test_size=0.2,random_state=46)\n",
    "\n",
    "for name,model in models:\n",
    "    mod = model.fit(X_train,y_train) #trainleri modele fit etmek\n",
    "    y_pred = mod.predict(X_test) # tahmin\n",
    "    acc = accuracy_score(y_test, y_pred) #rmse hesabı\n",
    "    cvscore = cross_val_score(model, X,y, cv = 10).mean()\n",
    "    print(\"Holdout Method:\",end=\" \")\n",
    "    print(name,acc) #yazdırılacak kısım\n",
    "    print(\"Cross Val Score\",end=\" \")\n",
    "    print(name,cvscore)\n",
    "    print(\"------------------------------------\")"
   ]
  },
  {
   "cell_type": "code",
   "execution_count": 6,
   "metadata": {
    "execution": {
     "iopub.execute_input": "2020-08-18T01:10:40.260572Z",
     "iopub.status.busy": "2020-08-18T01:10:40.259681Z",
     "iopub.status.idle": "2020-08-18T01:10:40.267265Z",
     "shell.execute_reply": "2020-08-18T01:10:40.268059Z"
    },
    "papermill": {
     "duration": 0.056184,
     "end_time": "2020-08-18T01:10:40.268282",
     "exception": false,
     "start_time": "2020-08-18T01:10:40.212098",
     "status": "completed"
    },
    "tags": []
   },
   "outputs": [],
   "source": [
    "df = pd.read_csv(\"diabetes.csv\")"
   ]
  },
  {
   "cell_type": "code",
   "execution_count": 7,
   "metadata": {
    "execution": {
     "iopub.execute_input": "2020-08-18T01:10:40.357084Z",
     "iopub.status.busy": "2020-08-18T01:10:40.356184Z",
     "iopub.status.idle": "2020-08-18T01:10:40.405759Z",
     "shell.execute_reply": "2020-08-18T01:10:40.406393Z"
    },
    "papermill": {
     "duration": 0.097361,
     "end_time": "2020-08-18T01:10:40.406607",
     "exception": false,
     "start_time": "2020-08-18T01:10:40.309246",
     "status": "completed"
    },
    "tags": []
   },
   "outputs": [
    {
     "data": {
      "text/html": [
       "<div>\n",
       "<style scoped>\n",
       "    .dataframe tbody tr th:only-of-type {\n",
       "        vertical-align: middle;\n",
       "    }\n",
       "\n",
       "    .dataframe tbody tr th {\n",
       "        vertical-align: top;\n",
       "    }\n",
       "\n",
       "    .dataframe thead th {\n",
       "        text-align: right;\n",
       "    }\n",
       "</style>\n",
       "<table border=\"1\" class=\"dataframe\">\n",
       "  <thead>\n",
       "    <tr style=\"text-align: right;\">\n",
       "      <th></th>\n",
       "      <th>count</th>\n",
       "      <th>mean</th>\n",
       "      <th>std</th>\n",
       "      <th>min</th>\n",
       "      <th>25%</th>\n",
       "      <th>50%</th>\n",
       "      <th>75%</th>\n",
       "      <th>max</th>\n",
       "    </tr>\n",
       "  </thead>\n",
       "  <tbody>\n",
       "    <tr>\n",
       "      <td>Pregnancies</td>\n",
       "      <td>768.0</td>\n",
       "      <td>3.845052</td>\n",
       "      <td>3.369578</td>\n",
       "      <td>0.000</td>\n",
       "      <td>1.00000</td>\n",
       "      <td>3.0000</td>\n",
       "      <td>6.00000</td>\n",
       "      <td>17.00</td>\n",
       "    </tr>\n",
       "    <tr>\n",
       "      <td>Glucose</td>\n",
       "      <td>768.0</td>\n",
       "      <td>120.894531</td>\n",
       "      <td>31.972618</td>\n",
       "      <td>0.000</td>\n",
       "      <td>99.00000</td>\n",
       "      <td>117.0000</td>\n",
       "      <td>140.25000</td>\n",
       "      <td>199.00</td>\n",
       "    </tr>\n",
       "    <tr>\n",
       "      <td>BloodPressure</td>\n",
       "      <td>768.0</td>\n",
       "      <td>69.105469</td>\n",
       "      <td>19.355807</td>\n",
       "      <td>0.000</td>\n",
       "      <td>62.00000</td>\n",
       "      <td>72.0000</td>\n",
       "      <td>80.00000</td>\n",
       "      <td>122.00</td>\n",
       "    </tr>\n",
       "    <tr>\n",
       "      <td>SkinThickness</td>\n",
       "      <td>768.0</td>\n",
       "      <td>20.536458</td>\n",
       "      <td>15.952218</td>\n",
       "      <td>0.000</td>\n",
       "      <td>0.00000</td>\n",
       "      <td>23.0000</td>\n",
       "      <td>32.00000</td>\n",
       "      <td>99.00</td>\n",
       "    </tr>\n",
       "    <tr>\n",
       "      <td>Insulin</td>\n",
       "      <td>768.0</td>\n",
       "      <td>79.799479</td>\n",
       "      <td>115.244002</td>\n",
       "      <td>0.000</td>\n",
       "      <td>0.00000</td>\n",
       "      <td>30.5000</td>\n",
       "      <td>127.25000</td>\n",
       "      <td>846.00</td>\n",
       "    </tr>\n",
       "    <tr>\n",
       "      <td>BMI</td>\n",
       "      <td>768.0</td>\n",
       "      <td>31.992578</td>\n",
       "      <td>7.884160</td>\n",
       "      <td>0.000</td>\n",
       "      <td>27.30000</td>\n",
       "      <td>32.0000</td>\n",
       "      <td>36.60000</td>\n",
       "      <td>67.10</td>\n",
       "    </tr>\n",
       "    <tr>\n",
       "      <td>DiabetesPedigreeFunction</td>\n",
       "      <td>768.0</td>\n",
       "      <td>0.471876</td>\n",
       "      <td>0.331329</td>\n",
       "      <td>0.078</td>\n",
       "      <td>0.24375</td>\n",
       "      <td>0.3725</td>\n",
       "      <td>0.62625</td>\n",
       "      <td>2.42</td>\n",
       "    </tr>\n",
       "    <tr>\n",
       "      <td>Age</td>\n",
       "      <td>768.0</td>\n",
       "      <td>33.240885</td>\n",
       "      <td>11.760232</td>\n",
       "      <td>21.000</td>\n",
       "      <td>24.00000</td>\n",
       "      <td>29.0000</td>\n",
       "      <td>41.00000</td>\n",
       "      <td>81.00</td>\n",
       "    </tr>\n",
       "    <tr>\n",
       "      <td>Outcome</td>\n",
       "      <td>768.0</td>\n",
       "      <td>0.348958</td>\n",
       "      <td>0.476951</td>\n",
       "      <td>0.000</td>\n",
       "      <td>0.00000</td>\n",
       "      <td>0.0000</td>\n",
       "      <td>1.00000</td>\n",
       "      <td>1.00</td>\n",
       "    </tr>\n",
       "  </tbody>\n",
       "</table>\n",
       "</div>"
      ],
      "text/plain": [
       "                          count        mean         std     min       25%  \\\n",
       "Pregnancies               768.0    3.845052    3.369578   0.000   1.00000   \n",
       "Glucose                   768.0  120.894531   31.972618   0.000  99.00000   \n",
       "BloodPressure             768.0   69.105469   19.355807   0.000  62.00000   \n",
       "SkinThickness             768.0   20.536458   15.952218   0.000   0.00000   \n",
       "Insulin                   768.0   79.799479  115.244002   0.000   0.00000   \n",
       "BMI                       768.0   31.992578    7.884160   0.000  27.30000   \n",
       "DiabetesPedigreeFunction  768.0    0.471876    0.331329   0.078   0.24375   \n",
       "Age                       768.0   33.240885   11.760232  21.000  24.00000   \n",
       "Outcome                   768.0    0.348958    0.476951   0.000   0.00000   \n",
       "\n",
       "                               50%        75%     max  \n",
       "Pregnancies                 3.0000    6.00000   17.00  \n",
       "Glucose                   117.0000  140.25000  199.00  \n",
       "BloodPressure              72.0000   80.00000  122.00  \n",
       "SkinThickness              23.0000   32.00000   99.00  \n",
       "Insulin                    30.5000  127.25000  846.00  \n",
       "BMI                        32.0000   36.60000   67.10  \n",
       "DiabetesPedigreeFunction    0.3725    0.62625    2.42  \n",
       "Age                        29.0000   41.00000   81.00  \n",
       "Outcome                     0.0000    1.00000    1.00  "
      ]
     },
     "execution_count": 7,
     "metadata": {},
     "output_type": "execute_result"
    }
   ],
   "source": [
    "df.describe().T"
   ]
  },
  {
   "cell_type": "code",
   "execution_count": 8,
   "metadata": {
    "execution": {
     "iopub.execute_input": "2020-08-18T01:10:40.487354Z",
     "iopub.status.busy": "2020-08-18T01:10:40.486553Z",
     "iopub.status.idle": "2020-08-18T01:10:40.493820Z",
     "shell.execute_reply": "2020-08-18T01:10:40.492949Z"
    },
    "papermill": {
     "duration": 0.051975,
     "end_time": "2020-08-18T01:10:40.494007",
     "exception": false,
     "start_time": "2020-08-18T01:10:40.442032",
     "status": "completed"
    },
    "tags": []
   },
   "outputs": [],
   "source": [
    "df[[\"Glucose\",\"BloodPressure\",\"SkinThickness\",\"Insulin\",\"BMI\"]] = df[[\"Glucose\",\"BloodPressure\",\"SkinThickness\",\"Insulin\",\"BMI\"]].replace(0,np.NaN)"
   ]
  },
  {
   "cell_type": "code",
   "execution_count": 9,
   "metadata": {
    "execution": {
     "iopub.execute_input": "2020-08-18T01:10:40.574153Z",
     "iopub.status.busy": "2020-08-18T01:10:40.570658Z",
     "iopub.status.idle": "2020-08-18T01:10:40.579903Z",
     "shell.execute_reply": "2020-08-18T01:10:40.579037Z"
    },
    "papermill": {
     "duration": 0.050315,
     "end_time": "2020-08-18T01:10:40.580044",
     "exception": false,
     "start_time": "2020-08-18T01:10:40.529729",
     "status": "completed"
    },
    "tags": []
   },
   "outputs": [
    {
     "data": {
      "text/plain": [
       "Pregnancies                   0\n",
       "Glucose                       5\n",
       "BloodPressure                35\n",
       "SkinThickness               227\n",
       "Insulin                     374\n",
       "BMI                          11\n",
       "DiabetesPedigreeFunction      0\n",
       "Age                           0\n",
       "Outcome                       0\n",
       "dtype: int64"
      ]
     },
     "execution_count": 9,
     "metadata": {},
     "output_type": "execute_result"
    }
   ],
   "source": [
    "df.isnull().sum()"
   ]
  },
  {
   "cell_type": "code",
   "execution_count": 10,
   "metadata": {
    "execution": {
     "iopub.execute_input": "2020-08-18T01:10:40.727123Z",
     "iopub.status.busy": "2020-08-18T01:10:40.720885Z",
     "iopub.status.idle": "2020-08-18T01:10:40.771086Z",
     "shell.execute_reply": "2020-08-18T01:10:40.770165Z"
    },
    "papermill": {
     "duration": 0.15543,
     "end_time": "2020-08-18T01:10:40.771276",
     "exception": false,
     "start_time": "2020-08-18T01:10:40.615846",
     "status": "completed"
    },
    "tags": []
   },
   "outputs": [],
   "source": [
    "naValues = [\"Glucose\",\"BloodPressure\",\"SkinThickness\",\"Insulin\",\"BMI\"]\n",
    "\n",
    "for i in naValues:\n",
    "    df[i][(df[i].isnull()) & (df[\"Outcome\"] == 0)] = df[i][(df[i].isnull()) & (df[\"Outcome\"] == 0)].fillna(df[i][df[\"Outcome\"] == 0].mean())\n",
    "    df[i][(df[i].isnull()) & (df[\"Outcome\"] == 1)] = df[i][(df[i].isnull()) & (df[\"Outcome\"] == 1)].fillna(df[i][df[\"Outcome\"] == 1].mean())"
   ]
  },
  {
   "cell_type": "code",
   "execution_count": 11,
   "metadata": {
    "execution": {
     "iopub.execute_input": "2020-08-18T01:10:40.854740Z",
     "iopub.status.busy": "2020-08-18T01:10:40.853721Z",
     "iopub.status.idle": "2020-08-18T01:10:40.858632Z",
     "shell.execute_reply": "2020-08-18T01:10:40.857960Z"
    },
    "papermill": {
     "duration": 0.050374,
     "end_time": "2020-08-18T01:10:40.858785",
     "exception": false,
     "start_time": "2020-08-18T01:10:40.808411",
     "status": "completed"
    },
    "tags": []
   },
   "outputs": [
    {
     "data": {
      "text/plain": [
       "Pregnancies                 0\n",
       "Glucose                     0\n",
       "BloodPressure               0\n",
       "SkinThickness               0\n",
       "Insulin                     0\n",
       "BMI                         0\n",
       "DiabetesPedigreeFunction    0\n",
       "Age                         0\n",
       "Outcome                     0\n",
       "dtype: int64"
      ]
     },
     "execution_count": 11,
     "metadata": {},
     "output_type": "execute_result"
    }
   ],
   "source": [
    "df.isnull().sum()"
   ]
  },
  {
   "cell_type": "markdown",
   "metadata": {
    "papermill": {
     "duration": 0.049978,
     "end_time": "2020-08-18T01:10:40.951345",
     "exception": false,
     "start_time": "2020-08-18T01:10:40.901367",
     "status": "completed"
    },
    "tags": []
   },
   "source": [
    "df[(df[\"Glucose\"].isnull()) & (df[\"Outcome\"] == 0)]\n",
    "\n",
    "df[\"Glucose\"][(df[\"Glucose\"].isnull()) & (df[\"Outcome\"] == 0)] = df[\"Glucose\"][(df[\"Glucose\"].isnull()) & (df[\"Outcome\"] == 0)].fillna(110.643863)\n",
    "\n",
    "df[\"Glucose\"][(df[\"Glucose\"].isnull()) & (df[\"Outcome\"] == 1)] = df[\"Glucose\"][(df[\"Glucose\"].isnull()) & (df[\"Outcome\"] == 1)].fillna(142.319549)\n",
    "\n",
    "#----------------------------------------------------------------\n",
    "\n",
    "df[\"BloodPressure\"][(df[\"BloodPressure\"].isnull()) & (df[\"Outcome\"] == 0)] = df[\"BloodPressure\"][(df[\"BloodPressure\"].isnull()) & (df[\"Outcome\"] == 0)].fillna(70.877339)\n",
    "\n",
    "df[\"BloodPressure\"][(df[\"BloodPressure\"].isnull()) & (df[\"Outcome\"] == 1)] = df[\"BloodPressure\"][(df[\"BloodPressure\"].isnull()) & (df[\"Outcome\"] == 1)].fillna(75.321429)\n",
    "\n",
    "#-----------------------------------------------------------------\n",
    "\n",
    "df[\"SkinThickness\"][(df[\"SkinThickness\"].isnull()) & (df[\"Outcome\"] == 0)] = df[\"SkinThickness\"][(df[\"SkinThickness\"].isnull()) & (df[\"Outcome\"] == 0)].fillna(27.235457)\n",
    "\n",
    "df[\"SkinThickness\"][(df[\"SkinThickness\"].isnull()) & (df[\"Outcome\"] == 1)] = df[\"SkinThickness\"][(df[\"SkinThickness\"].isnull()) & (df[\"Outcome\"] == 1)].fillna(33.000000)\n",
    "\n",
    "#-----------------------------------------------------------------\n",
    "\n",
    "df[\"Insulin\"][(df[\"Insulin\"].isnull()) & (df[\"Outcome\"] == 0)] = df[\"Insulin\"][(df[\"Insulin\"].isnull()) & (df[\"Outcome\"] == 0)].fillna(130.287879)\n",
    "\n",
    "df[\"Insulin\"][(df[\"Insulin\"].isnull()) & (df[\"Outcome\"] == 1)] = df[\"Insulin\"][(df[\"Insulin\"].isnull()) & (df[\"Outcome\"] == 1)].fillna(206.846154)\n",
    "\n",
    "#-----------------------------------------------------------------\n",
    "\n",
    "df[\"BMI\"][(df[\"BMI\"].isnull()) & (df[\"Outcome\"] == 0)] = df[\"BMI\"][(df[\"BMI\"].isnull()) & (df[\"Outcome\"] == 0)].fillna(30.859674)\n",
    "\n",
    "df[\"BMI\"][(df[\"BMI\"].isnull()) & (df[\"Outcome\"] == 1)] = df[\"BMI\"][(df[\"BMI\"].isnull()) & (df[\"Outcome\"] == 1)].fillna(35.406767)"
   ]
  },
  {
   "cell_type": "code",
   "execution_count": 13,
   "metadata": {
    "execution": {
     "iopub.execute_input": "2020-08-18T01:10:41.058650Z",
     "iopub.status.busy": "2020-08-18T01:10:41.057435Z",
     "iopub.status.idle": "2020-08-18T01:10:41.063393Z",
     "shell.execute_reply": "2020-08-18T01:10:41.062748Z"
    },
    "papermill": {
     "duration": 0.071536,
     "end_time": "2020-08-18T01:10:41.063573",
     "exception": false,
     "start_time": "2020-08-18T01:10:40.992037",
     "status": "completed"
    },
    "tags": []
   },
   "outputs": [
    {
     "data": {
      "text/html": [
       "<div>\n",
       "<style scoped>\n",
       "    .dataframe tbody tr th:only-of-type {\n",
       "        vertical-align: middle;\n",
       "    }\n",
       "\n",
       "    .dataframe tbody tr th {\n",
       "        vertical-align: top;\n",
       "    }\n",
       "\n",
       "    .dataframe thead th {\n",
       "        text-align: right;\n",
       "    }\n",
       "</style>\n",
       "<table border=\"1\" class=\"dataframe\">\n",
       "  <thead>\n",
       "    <tr style=\"text-align: right;\">\n",
       "      <th></th>\n",
       "      <th>Pregnancies</th>\n",
       "      <th>Glucose</th>\n",
       "      <th>BloodPressure</th>\n",
       "      <th>SkinThickness</th>\n",
       "      <th>Insulin</th>\n",
       "      <th>BMI</th>\n",
       "      <th>DiabetesPedigreeFunction</th>\n",
       "      <th>Age</th>\n",
       "      <th>Outcome</th>\n",
       "    </tr>\n",
       "  </thead>\n",
       "  <tbody>\n",
       "    <tr>\n",
       "      <th>0</th>\n",
       "      <td>6</td>\n",
       "      <td>148.0</td>\n",
       "      <td>72.0</td>\n",
       "      <td>35.0</td>\n",
       "      <td>206.846154</td>\n",
       "      <td>33.6</td>\n",
       "      <td>0.627</td>\n",
       "      <td>50</td>\n",
       "      <td>1</td>\n",
       "    </tr>\n",
       "    <tr>\n",
       "      <th>1</th>\n",
       "      <td>1</td>\n",
       "      <td>85.0</td>\n",
       "      <td>66.0</td>\n",
       "      <td>29.0</td>\n",
       "      <td>130.287879</td>\n",
       "      <td>26.6</td>\n",
       "      <td>0.351</td>\n",
       "      <td>31</td>\n",
       "      <td>0</td>\n",
       "    </tr>\n",
       "    <tr>\n",
       "      <th>2</th>\n",
       "      <td>8</td>\n",
       "      <td>183.0</td>\n",
       "      <td>64.0</td>\n",
       "      <td>33.0</td>\n",
       "      <td>206.846154</td>\n",
       "      <td>23.3</td>\n",
       "      <td>0.672</td>\n",
       "      <td>32</td>\n",
       "      <td>1</td>\n",
       "    </tr>\n",
       "    <tr>\n",
       "      <th>3</th>\n",
       "      <td>1</td>\n",
       "      <td>89.0</td>\n",
       "      <td>66.0</td>\n",
       "      <td>23.0</td>\n",
       "      <td>94.000000</td>\n",
       "      <td>28.1</td>\n",
       "      <td>0.167</td>\n",
       "      <td>21</td>\n",
       "      <td>0</td>\n",
       "    </tr>\n",
       "    <tr>\n",
       "      <th>4</th>\n",
       "      <td>0</td>\n",
       "      <td>137.0</td>\n",
       "      <td>40.0</td>\n",
       "      <td>35.0</td>\n",
       "      <td>168.000000</td>\n",
       "      <td>43.1</td>\n",
       "      <td>2.288</td>\n",
       "      <td>33</td>\n",
       "      <td>1</td>\n",
       "    </tr>\n",
       "  </tbody>\n",
       "</table>\n",
       "</div>"
      ],
      "text/plain": [
       "   Pregnancies  Glucose  BloodPressure  SkinThickness     Insulin   BMI  \\\n",
       "0            6    148.0           72.0           35.0  206.846154  33.6   \n",
       "1            1     85.0           66.0           29.0  130.287879  26.6   \n",
       "2            8    183.0           64.0           33.0  206.846154  23.3   \n",
       "3            1     89.0           66.0           23.0   94.000000  28.1   \n",
       "4            0    137.0           40.0           35.0  168.000000  43.1   \n",
       "\n",
       "   DiabetesPedigreeFunction  Age  Outcome  \n",
       "0                     0.627   50        1  \n",
       "1                     0.351   31        0  \n",
       "2                     0.672   32        1  \n",
       "3                     0.167   21        0  \n",
       "4                     2.288   33        1  "
      ]
     },
     "execution_count": 13,
     "metadata": {},
     "output_type": "execute_result"
    }
   ],
   "source": [
    "df.head()"
   ]
  },
  {
   "cell_type": "code",
   "execution_count": 14,
   "metadata": {
    "execution": {
     "iopub.execute_input": "2020-08-18T01:10:41.156024Z",
     "iopub.status.busy": "2020-08-18T01:10:41.154828Z",
     "iopub.status.idle": "2020-08-18T01:10:41.159549Z",
     "shell.execute_reply": "2020-08-18T01:10:41.158868Z"
    },
    "papermill": {
     "duration": 0.054951,
     "end_time": "2020-08-18T01:10:41.159685",
     "exception": false,
     "start_time": "2020-08-18T01:10:41.104734",
     "status": "completed"
    },
    "tags": []
   },
   "outputs": [
    {
     "name": "stdout",
     "output_type": "stream",
     "text": [
      "<class 'pandas.core.frame.DataFrame'>\n",
      "RangeIndex: 768 entries, 0 to 767\n",
      "Data columns (total 9 columns):\n",
      " #   Column                    Non-Null Count  Dtype  \n",
      "---  ------                    --------------  -----  \n",
      " 0   Pregnancies               768 non-null    int64  \n",
      " 1   Glucose                   768 non-null    float64\n",
      " 2   BloodPressure             768 non-null    float64\n",
      " 3   SkinThickness             768 non-null    float64\n",
      " 4   Insulin                   768 non-null    float64\n",
      " 5   BMI                       768 non-null    float64\n",
      " 6   DiabetesPedigreeFunction  768 non-null    float64\n",
      " 7   Age                       768 non-null    int64  \n",
      " 8   Outcome                   768 non-null    int64  \n",
      "dtypes: float64(6), int64(3)\n",
      "memory usage: 54.1 KB\n"
     ]
    }
   ],
   "source": [
    "df.info()"
   ]
  },
  {
   "cell_type": "code",
   "execution_count": 15,
   "metadata": {
    "execution": {
     "iopub.execute_input": "2020-08-18T01:10:41.244543Z",
     "iopub.status.busy": "2020-08-18T01:10:41.243553Z",
     "iopub.status.idle": "2020-08-18T01:10:41.247503Z",
     "shell.execute_reply": "2020-08-18T01:10:41.248131Z"
    },
    "papermill": {
     "duration": 0.049274,
     "end_time": "2020-08-18T01:10:41.248313",
     "exception": false,
     "start_time": "2020-08-18T01:10:41.199039",
     "status": "completed"
    },
    "tags": []
   },
   "outputs": [
    {
     "data": {
      "text/plain": [
       "(768, 9)"
      ]
     },
     "execution_count": 15,
     "metadata": {},
     "output_type": "execute_result"
    }
   ],
   "source": [
    "df.shape"
   ]
  },
  {
   "cell_type": "code",
   "execution_count": 16,
   "metadata": {
    "execution": {
     "iopub.execute_input": "2020-08-18T01:10:41.335070Z",
     "iopub.status.busy": "2020-08-18T01:10:41.333877Z",
     "iopub.status.idle": "2020-08-18T01:10:41.338623Z",
     "shell.execute_reply": "2020-08-18T01:10:41.337964Z"
    },
    "papermill": {
     "duration": 0.052392,
     "end_time": "2020-08-18T01:10:41.338754",
     "exception": false,
     "start_time": "2020-08-18T01:10:41.286362",
     "status": "completed"
    },
    "tags": []
   },
   "outputs": [
    {
     "data": {
      "text/plain": [
       "0    500\n",
       "1    268\n",
       "Name: Outcome, dtype: int64"
      ]
     },
     "execution_count": 16,
     "metadata": {},
     "output_type": "execute_result"
    }
   ],
   "source": [
    "df[\"Outcome\"].value_counts()"
   ]
  },
  {
   "cell_type": "code",
   "execution_count": 17,
   "metadata": {
    "execution": {
     "iopub.execute_input": "2020-08-18T01:10:41.421299Z",
     "iopub.status.busy": "2020-08-18T01:10:41.420480Z",
     "iopub.status.idle": "2020-08-18T01:10:41.424520Z",
     "shell.execute_reply": "2020-08-18T01:10:41.423882Z"
    },
    "papermill": {
     "duration": 0.047678,
     "end_time": "2020-08-18T01:10:41.424660",
     "exception": false,
     "start_time": "2020-08-18T01:10:41.376982",
     "status": "completed"
    },
    "tags": []
   },
   "outputs": [],
   "source": [
    "import matplotlib.pyplot as plt\n",
    "import seaborn as sns"
   ]
  },
  {
   "cell_type": "code",
   "execution_count": 18,
   "metadata": {
    "execution": {
     "iopub.execute_input": "2020-08-18T01:10:41.508143Z",
     "iopub.status.busy": "2020-08-18T01:10:41.507182Z",
     "iopub.status.idle": "2020-08-18T01:10:41.693333Z",
     "shell.execute_reply": "2020-08-18T01:10:41.692638Z"
    },
    "papermill": {
     "duration": 0.231184,
     "end_time": "2020-08-18T01:10:41.693467",
     "exception": false,
     "start_time": "2020-08-18T01:10:41.462283",
     "status": "completed"
    },
    "tags": []
   },
   "outputs": [
    {
     "data": {
      "text/plain": [
       "<matplotlib.axes._subplots.AxesSubplot at 0x7fcc35239790>"
      ]
     },
     "execution_count": 18,
     "metadata": {},
     "output_type": "execute_result"
    },
    {
     "data": {
      "image/png": "[encoded data removed]",
      "text/plain": [
       "<Figure size 432x288 with 1 Axes>"
      ]
     },
     "metadata": {
      "needs_background": "light"
     },
     "output_type": "display_data"
    }
   ],
   "source": [
    "df.Outcome.value_counts().plot.barh()"
   ]
  },
  {
   "cell_type": "code",
   "execution_count": 19,
   "metadata": {
    "execution": {
     "iopub.execute_input": "2020-08-18T01:10:41.783657Z",
     "iopub.status.busy": "2020-08-18T01:10:41.780768Z",
     "iopub.status.idle": "2020-08-18T01:10:41.833755Z",
     "shell.execute_reply": "2020-08-18T01:10:41.833017Z"
    },
    "papermill": {
     "duration": 0.101818,
     "end_time": "2020-08-18T01:10:41.833915",
     "exception": false,
     "start_time": "2020-08-18T01:10:41.732097",
     "status": "completed"
    },
    "tags": []
   },
   "outputs": [
    {
     "data": {
      "text/html": [
       "<div>\n",
       "<style scoped>\n",
       "    .dataframe tbody tr th:only-of-type {\n",
       "        vertical-align: middle;\n",
       "    }\n",
       "\n",
       "    .dataframe tbody tr th {\n",
       "        vertical-align: top;\n",
       "    }\n",
       "\n",
       "    .dataframe thead th {\n",
       "        text-align: right;\n",
       "    }\n",
       "</style>\n",
       "<table border=\"1\" class=\"dataframe\">\n",
       "  <thead>\n",
       "    <tr style=\"text-align: right;\">\n",
       "      <th></th>\n",
       "      <th>count</th>\n",
       "      <th>mean</th>\n",
       "      <th>std</th>\n",
       "      <th>min</th>\n",
       "      <th>1%</th>\n",
       "      <th>5%</th>\n",
       "      <th>10%</th>\n",
       "      <th>25%</th>\n",
       "      <th>50%</th>\n",
       "      <th>75%</th>\n",
       "      <th>80%</th>\n",
       "      <th>90%</th>\n",
       "      <th>95%</th>\n",
       "      <th>99%</th>\n",
       "      <th>max</th>\n",
       "    </tr>\n",
       "  </thead>\n",
       "  <tbody>\n",
       "    <tr>\n",
       "      <th>Pregnancies</th>\n",
       "      <td>768.0</td>\n",
       "      <td>3.845052</td>\n",
       "      <td>3.369578</td>\n",
       "      <td>0.000</td>\n",
       "      <td>0.00000</td>\n",
       "      <td>0.00000</td>\n",
       "      <td>0.000</td>\n",
       "      <td>1.00000</td>\n",
       "      <td>3.000000</td>\n",
       "      <td>6.000000</td>\n",
       "      <td>7.000000</td>\n",
       "      <td>9.0000</td>\n",
       "      <td>10.00000</td>\n",
       "      <td>13.00000</td>\n",
       "      <td>17.00</td>\n",
       "    </tr>\n",
       "    <tr>\n",
       "      <th>Glucose</th>\n",
       "      <td>768.0</td>\n",
       "      <td>121.697358</td>\n",
       "      <td>30.462008</td>\n",
       "      <td>44.000</td>\n",
       "      <td>67.67000</td>\n",
       "      <td>80.00000</td>\n",
       "      <td>86.700</td>\n",
       "      <td>99.75000</td>\n",
       "      <td>117.000000</td>\n",
       "      <td>141.000000</td>\n",
       "      <td>147.000000</td>\n",
       "      <td>167.0000</td>\n",
       "      <td>181.00000</td>\n",
       "      <td>196.00000</td>\n",
       "      <td>199.00</td>\n",
       "    </tr>\n",
       "    <tr>\n",
       "      <th>BloodPressure</th>\n",
       "      <td>768.0</td>\n",
       "      <td>72.428141</td>\n",
       "      <td>12.106044</td>\n",
       "      <td>24.000</td>\n",
       "      <td>44.00000</td>\n",
       "      <td>52.00000</td>\n",
       "      <td>58.000</td>\n",
       "      <td>64.00000</td>\n",
       "      <td>72.000000</td>\n",
       "      <td>80.000000</td>\n",
       "      <td>82.000000</td>\n",
       "      <td>88.0000</td>\n",
       "      <td>90.00000</td>\n",
       "      <td>106.00000</td>\n",
       "      <td>122.00</td>\n",
       "    </tr>\n",
       "    <tr>\n",
       "      <th>SkinThickness</th>\n",
       "      <td>768.0</td>\n",
       "      <td>29.247042</td>\n",
       "      <td>8.923908</td>\n",
       "      <td>7.000</td>\n",
       "      <td>10.00000</td>\n",
       "      <td>14.35000</td>\n",
       "      <td>18.000</td>\n",
       "      <td>25.00000</td>\n",
       "      <td>28.000000</td>\n",
       "      <td>33.000000</td>\n",
       "      <td>35.000000</td>\n",
       "      <td>40.0000</td>\n",
       "      <td>44.00000</td>\n",
       "      <td>51.33000</td>\n",
       "      <td>99.00</td>\n",
       "    </tr>\n",
       "    <tr>\n",
       "      <th>Insulin</th>\n",
       "      <td>768.0</td>\n",
       "      <td>157.003527</td>\n",
       "      <td>88.860914</td>\n",
       "      <td>14.000</td>\n",
       "      <td>24.34000</td>\n",
       "      <td>50.00000</td>\n",
       "      <td>67.000</td>\n",
       "      <td>121.50000</td>\n",
       "      <td>130.287879</td>\n",
       "      <td>206.846154</td>\n",
       "      <td>206.846154</td>\n",
       "      <td>210.0000</td>\n",
       "      <td>293.00000</td>\n",
       "      <td>519.90000</td>\n",
       "      <td>846.00</td>\n",
       "    </tr>\n",
       "    <tr>\n",
       "      <th>BMI</th>\n",
       "      <td>768.0</td>\n",
       "      <td>32.446420</td>\n",
       "      <td>6.878970</td>\n",
       "      <td>18.200</td>\n",
       "      <td>19.50000</td>\n",
       "      <td>22.23500</td>\n",
       "      <td>24.000</td>\n",
       "      <td>27.50000</td>\n",
       "      <td>32.050000</td>\n",
       "      <td>36.600000</td>\n",
       "      <td>37.800000</td>\n",
       "      <td>41.5000</td>\n",
       "      <td>44.39500</td>\n",
       "      <td>50.75900</td>\n",
       "      <td>67.10</td>\n",
       "    </tr>\n",
       "    <tr>\n",
       "      <th>DiabetesPedigreeFunction</th>\n",
       "      <td>768.0</td>\n",
       "      <td>0.471876</td>\n",
       "      <td>0.331329</td>\n",
       "      <td>0.078</td>\n",
       "      <td>0.09468</td>\n",
       "      <td>0.14035</td>\n",
       "      <td>0.165</td>\n",
       "      <td>0.24375</td>\n",
       "      <td>0.372500</td>\n",
       "      <td>0.626250</td>\n",
       "      <td>0.687000</td>\n",
       "      <td>0.8786</td>\n",
       "      <td>1.13285</td>\n",
       "      <td>1.69833</td>\n",
       "      <td>2.42</td>\n",
       "    </tr>\n",
       "    <tr>\n",
       "      <th>Age</th>\n",
       "      <td>768.0</td>\n",
       "      <td>33.240885</td>\n",
       "      <td>11.760232</td>\n",
       "      <td>21.000</td>\n",
       "      <td>21.00000</td>\n",
       "      <td>21.00000</td>\n",
       "      <td>22.000</td>\n",
       "      <td>24.00000</td>\n",
       "      <td>29.000000</td>\n",
       "      <td>41.000000</td>\n",
       "      <td>42.600000</td>\n",
       "      <td>51.0000</td>\n",
       "      <td>58.00000</td>\n",
       "      <td>67.00000</td>\n",
       "      <td>81.00</td>\n",
       "    </tr>\n",
       "    <tr>\n",
       "      <th>Outcome</th>\n",
       "      <td>768.0</td>\n",
       "      <td>0.348958</td>\n",
       "      <td>0.476951</td>\n",
       "      <td>0.000</td>\n",
       "      <td>0.00000</td>\n",
       "      <td>0.00000</td>\n",
       "      <td>0.000</td>\n",
       "      <td>0.00000</td>\n",
       "      <td>0.000000</td>\n",
       "      <td>1.000000</td>\n",
       "      <td>1.000000</td>\n",
       "      <td>1.0000</td>\n",
       "      <td>1.00000</td>\n",
       "      <td>1.00000</td>\n",
       "      <td>1.00</td>\n",
       "    </tr>\n",
       "  </tbody>\n",
       "</table>\n",
       "</div>"
      ],
      "text/plain": [
       "                          count        mean        std     min        1%  \\\n",
       "Pregnancies               768.0    3.845052   3.369578   0.000   0.00000   \n",
       "Glucose                   768.0  121.697358  30.462008  44.000  67.67000   \n",
       "BloodPressure             768.0   72.428141  12.106044  24.000  44.00000   \n",
       "SkinThickness             768.0   29.247042   8.923908   7.000  10.00000   \n",
       "Insulin                   768.0  157.003527  88.860914  14.000  24.34000   \n",
       "BMI                       768.0   32.446420   6.878970  18.200  19.50000   \n",
       "DiabetesPedigreeFunction  768.0    0.471876   0.331329   0.078   0.09468   \n",
       "Age                       768.0   33.240885  11.760232  21.000  21.00000   \n",
       "Outcome                   768.0    0.348958   0.476951   0.000   0.00000   \n",
       "\n",
       "                                5%     10%        25%         50%         75%  \\\n",
       "Pregnancies                0.00000   0.000    1.00000    3.000000    6.000000   \n",
       "Glucose                   80.00000  86.700   99.75000  117.000000  141.000000   \n",
       "BloodPressure             52.00000  58.000   64.00000   72.000000   80.000000   \n",
       "SkinThickness             14.35000  18.000   25.00000   28.000000   33.000000   \n",
       "Insulin                   50.00000  67.000  121.50000  130.287879  206.846154   \n",
       "BMI                       22.23500  24.000   27.50000   32.050000   36.600000   \n",
       "DiabetesPedigreeFunction   0.14035   0.165    0.24375    0.372500    0.626250   \n",
       "Age                       21.00000  22.000   24.00000   29.000000   41.000000   \n",
       "Outcome                    0.00000   0.000    0.00000    0.000000    1.000000   \n",
       "\n",
       "                                 80%       90%        95%        99%     max  \n",
       "Pregnancies                 7.000000    9.0000   10.00000   13.00000   17.00  \n",
       "Glucose                   147.000000  167.0000  181.00000  196.00000  199.00  \n",
       "BloodPressure              82.000000   88.0000   90.00000  106.00000  122.00  \n",
       "SkinThickness              35.000000   40.0000   44.00000   51.33000   99.00  \n",
       "Insulin                   206.846154  210.0000  293.00000  519.90000  846.00  \n",
       "BMI                        37.800000   41.5000   44.39500   50.75900   67.10  \n",
       "DiabetesPedigreeFunction    0.687000    0.8786    1.13285    1.69833    2.42  \n",
       "Age                        42.600000   51.0000   58.00000   67.00000   81.00  \n",
       "Outcome                     1.000000    1.0000    1.00000    1.00000    1.00  "
      ]
     },
     "execution_count": 19,
     "metadata": {},
     "output_type": "execute_result"
    }
   ],
   "source": [
    "df.describe([0.01,0.05,0.10,0.25,0.50,0.75,0.80,0.90,0.95,0.99]).T"
   ]
  },
  {
   "cell_type": "code",
   "execution_count": 20,
   "metadata": {
    "execution": {
     "iopub.execute_input": "2020-08-18T01:10:41.932391Z",
     "iopub.status.busy": "2020-08-18T01:10:41.931231Z",
     "iopub.status.idle": "2020-08-18T01:10:42.117786Z",
     "shell.execute_reply": "2020-08-18T01:10:42.117005Z"
    },
    "papermill": {
     "duration": 0.243837,
     "end_time": "2020-08-18T01:10:42.118074",
     "exception": false,
     "start_time": "2020-08-18T01:10:41.874237",
     "status": "completed"
    },
    "tags": []
   },
   "outputs": [
    {
     "data": {
      "text/plain": [
       "<matplotlib.collections.PathCollection at 0x7fcc3513e110>"
      ]
     },
     "execution_count": 20,
     "metadata": {},
     "output_type": "execute_result"
    },
    {
     "data": {
      "image/png": "[encoded data removed]",
      "text/plain": [
       "<Figure size 432x288 with 1 Axes>"
      ]
     },
     "metadata": {
      "needs_background": "light"
     },
     "output_type": "display_data"
    }
   ],
   "source": [
    "plt.scatter(df.Glucose,df.Insulin)"
   ]
  },
  {
   "cell_type": "code",
   "execution_count": 21,
   "metadata": {
    "execution": {
     "iopub.execute_input": "2020-08-18T01:10:42.218842Z",
     "iopub.status.busy": "2020-08-18T01:10:42.217701Z",
     "iopub.status.idle": "2020-08-18T01:10:42.423102Z",
     "shell.execute_reply": "2020-08-18T01:10:42.423709Z"
    },
    "papermill": {
     "duration": 0.266995,
     "end_time": "2020-08-18T01:10:42.423944",
     "exception": false,
     "start_time": "2020-08-18T01:10:42.156949",
     "status": "completed"
    },
    "tags": []
   },
   "outputs": [
    {
     "data": {
      "image/png": "[encoded data removed]",
      "text/plain": [
       "<Figure size 360x360 with 1 Axes>"
      ]
     },
     "metadata": {
      "needs_background": "light"
     },
     "output_type": "display_data"
    }
   ],
   "source": [
    "sns.catplot(x = \"Outcome\", y = \"Glucose\", data = df);"
   ]
  },
  {
   "cell_type": "code",
   "execution_count": 22,
   "metadata": {
    "execution": {
     "iopub.execute_input": "2020-08-18T01:10:42.520503Z",
     "iopub.status.busy": "2020-08-18T01:10:42.514856Z",
     "iopub.status.idle": "2020-08-18T01:10:42.704012Z",
     "shell.execute_reply": "2020-08-18T01:10:42.703153Z"
    },
    "papermill": {
     "duration": 0.240007,
     "end_time": "2020-08-18T01:10:42.704180",
     "exception": false,
     "start_time": "2020-08-18T01:10:42.464173",
     "status": "completed"
    },
    "tags": []
   },
   "outputs": [
    {
     "data": {
      "image/png": "[encoded data removed]",
      "text/plain": [
       "<Figure size 360x360 with 1 Axes>"
      ]
     },
     "metadata": {
      "needs_background": "light"
     },
     "output_type": "display_data"
    }
   ],
   "source": [
    "sns.catplot(x = \"Outcome\", y = \"Insulin\", data = df);"
   ]
  },
  {
   "cell_type": "code",
   "execution_count": 23,
   "metadata": {
    "execution": {
     "iopub.execute_input": "2020-08-18T01:10:42.801702Z",
     "iopub.status.busy": "2020-08-18T01:10:42.794428Z",
     "iopub.status.idle": "2020-08-18T01:10:42.994366Z",
     "shell.execute_reply": "2020-08-18T01:10:42.993435Z"
    },
    "papermill": {
     "duration": 0.250146,
     "end_time": "2020-08-18T01:10:42.994512",
     "exception": false,
     "start_time": "2020-08-18T01:10:42.744366",
     "status": "completed"
    },
    "tags": []
   },
   "outputs": [
    {
     "data": {
      "image/png": "[encoded data removed]",
      "text/plain": [
       "<Figure size 360x360 with 1 Axes>"
      ]
     },
     "metadata": {
      "needs_background": "light"
     },
     "output_type": "display_data"
    }
   ],
   "source": [
    "sns.catplot(x = \"Outcome\", y = \"BloodPressure\", data = df);"
   ]
  },
  {
   "cell_type": "code",
   "execution_count": 24,
   "metadata": {
    "execution": {
     "iopub.execute_input": "2020-08-18T01:10:43.087647Z",
     "iopub.status.busy": "2020-08-18T01:10:43.086517Z",
     "iopub.status.idle": "2020-08-18T01:10:43.276282Z",
     "shell.execute_reply": "2020-08-18T01:10:43.275497Z"
    },
    "papermill": {
     "duration": 0.239074,
     "end_time": "2020-08-18T01:10:43.276417",
     "exception": false,
     "start_time": "2020-08-18T01:10:43.037343",
     "status": "completed"
    },
    "tags": []
   },
   "outputs": [
    {
     "data": {
      "image/png": "[encoded data removed]",
      "text/plain": [
       "<Figure size 360x360 with 1 Axes>"
      ]
     },
     "metadata": {
      "needs_background": "light"
     },
     "output_type": "display_data"
    }
   ],
   "source": [
    "sns.catplot(x = \"Outcome\", y = \"BMI\", data = df);#the 0 value for outcome feature is more dense around 20 BMI. Healthy people are more generally 0."
   ]
  },
  {
   "cell_type": "code",
   "execution_count": 25,
   "metadata": {
    "execution": {
     "iopub.execute_input": "2020-08-18T01:10:43.488300Z",
     "iopub.status.busy": "2020-08-18T01:10:43.487459Z",
     "iopub.status.idle": "2020-08-18T01:10:43.601429Z",
     "shell.execute_reply": "2020-08-18T01:10:43.601996Z"
    },
    "papermill": {
     "duration": 0.285616,
     "end_time": "2020-08-18T01:10:43.602203",
     "exception": false,
     "start_time": "2020-08-18T01:10:43.316587",
     "status": "completed"
    },
    "tags": []
   },
   "outputs": [
    {
     "data": {
      "text/plain": [
       "<matplotlib.axes._subplots.AxesSubplot at 0x7fcc3502a450>"
      ]
     },
     "execution_count": 25,
     "metadata": {},
     "output_type": "execute_result"
    },
    {
     "data": {
      "image/png": "[encoded data removed]",
      "text/plain": [
       "<Figure size 432x288 with 1 Axes>"
      ]
     },
     "metadata": {
      "needs_background": "light"
     },
     "output_type": "display_data"
    }
   ],
   "source": [
    "sns.boxplot(df)"
   ]
  },
  {
   "cell_type": "code",
   "execution_count": 26,
   "metadata": {
    "execution": {
     "iopub.execute_input": "2020-08-18T01:10:43.692703Z",
     "iopub.status.busy": "2020-08-18T01:10:43.691902Z",
     "iopub.status.idle": "2020-08-18T01:10:43.712415Z",
     "shell.execute_reply": "2020-08-18T01:10:43.711652Z"
    },
    "papermill": {
     "duration": 0.069306,
     "end_time": "2020-08-18T01:10:43.712570",
     "exception": false,
     "start_time": "2020-08-18T01:10:43.643264",
     "status": "completed"
    },
    "tags": []
   },
   "outputs": [
    {
     "data": {
      "text/html": [
       "<div>\n",
       "<style scoped>\n",
       "    .dataframe tbody tr th:only-of-type {\n",
       "        vertical-align: middle;\n",
       "    }\n",
       "\n",
       "    .dataframe tbody tr th {\n",
       "        vertical-align: top;\n",
       "    }\n",
       "\n",
       "    .dataframe thead th {\n",
       "        text-align: right;\n",
       "    }\n",
       "</style>\n",
       "<table border=\"1\" class=\"dataframe\">\n",
       "  <thead>\n",
       "    <tr style=\"text-align: right;\">\n",
       "      <th></th>\n",
       "      <th>Pregnancies</th>\n",
       "      <th>Glucose</th>\n",
       "      <th>BloodPressure</th>\n",
       "      <th>SkinThickness</th>\n",
       "      <th>Insulin</th>\n",
       "      <th>BMI</th>\n",
       "      <th>DiabetesPedigreeFunction</th>\n",
       "      <th>Age</th>\n",
       "      <th>Outcome</th>\n",
       "    </tr>\n",
       "  </thead>\n",
       "  <tbody>\n",
       "    <tr>\n",
       "      <th>Pregnancies</th>\n",
       "      <td>1.000000</td>\n",
       "      <td>0.129867</td>\n",
       "      <td>0.208935</td>\n",
       "      <td>0.094172</td>\n",
       "      <td>0.093546</td>\n",
       "      <td>0.024127</td>\n",
       "      <td>-0.033523</td>\n",
       "      <td>0.544341</td>\n",
       "      <td>0.221898</td>\n",
       "    </tr>\n",
       "    <tr>\n",
       "      <th>Glucose</th>\n",
       "      <td>0.129867</td>\n",
       "      <td>1.000000</td>\n",
       "      <td>0.224356</td>\n",
       "      <td>0.235040</td>\n",
       "      <td>0.497789</td>\n",
       "      <td>0.235253</td>\n",
       "      <td>0.138125</td>\n",
       "      <td>0.268566</td>\n",
       "      <td>0.495954</td>\n",
       "    </tr>\n",
       "    <tr>\n",
       "      <th>BloodPressure</th>\n",
       "      <td>0.208935</td>\n",
       "      <td>0.224356</td>\n",
       "      <td>1.000000</td>\n",
       "      <td>0.203453</td>\n",
       "      <td>0.099996</td>\n",
       "      <td>0.286518</td>\n",
       "      <td>-0.002264</td>\n",
       "      <td>0.324439</td>\n",
       "      <td>0.175087</td>\n",
       "    </tr>\n",
       "    <tr>\n",
       "      <th>SkinThickness</th>\n",
       "      <td>0.094172</td>\n",
       "      <td>0.235040</td>\n",
       "      <td>0.203453</td>\n",
       "      <td>1.000000</td>\n",
       "      <td>0.212573</td>\n",
       "      <td>0.565443</td>\n",
       "      <td>0.102426</td>\n",
       "      <td>0.135916</td>\n",
       "      <td>0.308094</td>\n",
       "    </tr>\n",
       "    <tr>\n",
       "      <th>Insulin</th>\n",
       "      <td>0.093546</td>\n",
       "      <td>0.497789</td>\n",
       "      <td>0.099996</td>\n",
       "      <td>0.212573</td>\n",
       "      <td>1.000000</td>\n",
       "      <td>0.231533</td>\n",
       "      <td>0.121716</td>\n",
       "      <td>0.165149</td>\n",
       "      <td>0.410918</td>\n",
       "    </tr>\n",
       "    <tr>\n",
       "      <th>BMI</th>\n",
       "      <td>0.024127</td>\n",
       "      <td>0.235253</td>\n",
       "      <td>0.286518</td>\n",
       "      <td>0.565443</td>\n",
       "      <td>0.231533</td>\n",
       "      <td>1.000000</td>\n",
       "      <td>0.152530</td>\n",
       "      <td>0.027578</td>\n",
       "      <td>0.315271</td>\n",
       "    </tr>\n",
       "    <tr>\n",
       "      <th>DiabetesPedigreeFunction</th>\n",
       "      <td>-0.033523</td>\n",
       "      <td>0.138125</td>\n",
       "      <td>-0.002264</td>\n",
       "      <td>0.102426</td>\n",
       "      <td>0.121716</td>\n",
       "      <td>0.152530</td>\n",
       "      <td>1.000000</td>\n",
       "      <td>0.033561</td>\n",
       "      <td>0.173844</td>\n",
       "    </tr>\n",
       "    <tr>\n",
       "      <th>Age</th>\n",
       "      <td>0.544341</td>\n",
       "      <td>0.268566</td>\n",
       "      <td>0.324439</td>\n",
       "      <td>0.135916</td>\n",
       "      <td>0.165149</td>\n",
       "      <td>0.027578</td>\n",
       "      <td>0.033561</td>\n",
       "      <td>1.000000</td>\n",
       "      <td>0.238356</td>\n",
       "    </tr>\n",
       "    <tr>\n",
       "      <th>Outcome</th>\n",
       "      <td>0.221898</td>\n",
       "      <td>0.495954</td>\n",
       "      <td>0.175087</td>\n",
       "      <td>0.308094</td>\n",
       "      <td>0.410918</td>\n",
       "      <td>0.315271</td>\n",
       "      <td>0.173844</td>\n",
       "      <td>0.238356</td>\n",
       "      <td>1.000000</td>\n",
       "    </tr>\n",
       "  </tbody>\n",
       "</table>\n",
       "</div>"
      ],
      "text/plain": [
       "                          Pregnancies   Glucose  BloodPressure  SkinThickness  \\\n",
       "Pregnancies                  1.000000  0.129867       0.208935       0.094172   \n",
       "Glucose                      0.129867  1.000000       0.224356       0.235040   \n",
       "BloodPressure                0.208935  0.224356       1.000000       0.203453   \n",
       "SkinThickness                0.094172  0.235040       0.203453       1.000000   \n",
       "Insulin                      0.093546  0.497789       0.099996       0.212573   \n",
       "BMI                          0.024127  0.235253       0.286518       0.565443   \n",
       "DiabetesPedigreeFunction    -0.033523  0.138125      -0.002264       0.102426   \n",
       "Age                          0.544341  0.268566       0.324439       0.135916   \n",
       "Outcome                      0.221898  0.495954       0.175087       0.308094   \n",
       "\n",
       "                           Insulin       BMI  DiabetesPedigreeFunction  \\\n",
       "Pregnancies               0.093546  0.024127                 -0.033523   \n",
       "Glucose                   0.497789  0.235253                  0.138125   \n",
       "BloodPressure             0.099996  0.286518                 -0.002264   \n",
       "SkinThickness             0.212573  0.565443                  0.102426   \n",
       "Insulin                   1.000000  0.231533                  0.121716   \n",
       "BMI                       0.231533  1.000000                  0.152530   \n",
       "DiabetesPedigreeFunction  0.121716  0.152530                  1.000000   \n",
       "Age                       0.165149  0.027578                  0.033561   \n",
       "Outcome                   0.410918  0.315271                  0.173844   \n",
       "\n",
       "                               Age   Outcome  \n",
       "Pregnancies               0.544341  0.221898  \n",
       "Glucose                   0.268566  0.495954  \n",
       "BloodPressure             0.324439  0.175087  \n",
       "SkinThickness             0.135916  0.308094  \n",
       "Insulin                   0.165149  0.410918  \n",
       "BMI                       0.027578  0.315271  \n",
       "DiabetesPedigreeFunction  0.033561  0.173844  \n",
       "Age                       1.000000  0.238356  \n",
       "Outcome                   0.238356  1.000000  "
      ]
     },
     "execution_count": 26,
     "metadata": {},
     "output_type": "execute_result"
    }
   ],
   "source": [
    "df.corr()"
   ]
  },
  {
   "cell_type": "code",
   "execution_count": 27,
   "metadata": {
    "execution": {
     "iopub.execute_input": "2020-08-18T01:10:43.808066Z",
     "iopub.status.busy": "2020-08-18T01:10:43.806514Z",
     "iopub.status.idle": "2020-08-18T01:10:44.434594Z",
     "shell.execute_reply": "2020-08-18T01:10:44.433892Z"
    },
    "papermill": {
     "duration": 0.681295,
     "end_time": "2020-08-18T01:10:44.434731",
     "exception": false,
     "start_time": "2020-08-18T01:10:43.753436",
     "status": "completed"
    },
    "tags": []
   },
   "outputs": [
    {
     "data": {
      "text/plain": [
       "<matplotlib.axes._subplots.AxesSubplot at 0x7fcc34f7e810>"
      ]
     },
     "execution_count": 27,
     "metadata": {},
     "output_type": "execute_result"
    },
    {
     "data": {
      "image/png": "[encoded data removed]",
      "text/plain": [
       "<Figure size 1440x1080 with 2 Axes>"
      ]
     },
     "metadata": {
      "needs_background": "light"
     },
     "output_type": "display_data"
    }
   ],
   "source": [
    "f, ax = plt.subplots(figsize= [20,15])\n",
    "sns.heatmap(df.corr(),annot=True,ax=ax)"
   ]
  },
  {
   "cell_type": "markdown",
   "metadata": {
    "papermill": {
     "duration": 0.041837,
     "end_time": "2020-08-18T01:10:44.518617",
     "exception": false,
     "start_time": "2020-08-18T01:10:44.476780",
     "status": "completed"
    },
    "tags": []
   },
   "source": [
    "# ALGORITHMS"
   ]
  },
  {
   "cell_type": "code",
   "execution_count": 28,
   "metadata": {
    "execution": {
     "iopub.execute_input": "2020-08-18T01:10:44.613521Z",
     "iopub.status.busy": "2020-08-18T01:10:44.611966Z",
     "iopub.status.idle": "2020-08-18T01:10:44.654019Z",
     "shell.execute_reply": "2020-08-18T01:10:44.654626Z"
    },
    "papermill": {
     "duration": 0.094346,
     "end_time": "2020-08-18T01:10:44.654810",
     "exception": false,
     "start_time": "2020-08-18T01:10:44.560464",
     "status": "completed"
    },
    "tags": []
   },
   "outputs": [
    {
     "data": {
      "text/html": [
       "<div>\n",
       "<style scoped>\n",
       "    .dataframe tbody tr th:only-of-type {\n",
       "        vertical-align: middle;\n",
       "    }\n",
       "\n",
       "    .dataframe tbody tr th {\n",
       "        vertical-align: top;\n",
       "    }\n",
       "\n",
       "    .dataframe thead th {\n",
       "        text-align: right;\n",
       "    }\n",
       "</style>\n",
       "<table border=\"1\" class=\"dataframe\">\n",
       "  <thead>\n",
       "    <tr style=\"text-align: right;\">\n",
       "      <th></th>\n",
       "      <th>count</th>\n",
       "      <th>mean</th>\n",
       "      <th>std</th>\n",
       "      <th>min</th>\n",
       "      <th>25%</th>\n",
       "      <th>50%</th>\n",
       "      <th>75%</th>\n",
       "      <th>max</th>\n",
       "    </tr>\n",
       "  </thead>\n",
       "  <tbody>\n",
       "    <tr>\n",
       "      <th>Pregnancies</th>\n",
       "      <td>768.0</td>\n",
       "      <td>3.845052</td>\n",
       "      <td>3.369578</td>\n",
       "      <td>0.000</td>\n",
       "      <td>1.00000</td>\n",
       "      <td>3.000000</td>\n",
       "      <td>6.000000</td>\n",
       "      <td>17.00</td>\n",
       "    </tr>\n",
       "    <tr>\n",
       "      <th>Glucose</th>\n",
       "      <td>768.0</td>\n",
       "      <td>121.697358</td>\n",
       "      <td>30.462008</td>\n",
       "      <td>44.000</td>\n",
       "      <td>99.75000</td>\n",
       "      <td>117.000000</td>\n",
       "      <td>141.000000</td>\n",
       "      <td>199.00</td>\n",
       "    </tr>\n",
       "    <tr>\n",
       "      <th>BloodPressure</th>\n",
       "      <td>768.0</td>\n",
       "      <td>72.428141</td>\n",
       "      <td>12.106044</td>\n",
       "      <td>24.000</td>\n",
       "      <td>64.00000</td>\n",
       "      <td>72.000000</td>\n",
       "      <td>80.000000</td>\n",
       "      <td>122.00</td>\n",
       "    </tr>\n",
       "    <tr>\n",
       "      <th>SkinThickness</th>\n",
       "      <td>768.0</td>\n",
       "      <td>29.247042</td>\n",
       "      <td>8.923908</td>\n",
       "      <td>7.000</td>\n",
       "      <td>25.00000</td>\n",
       "      <td>28.000000</td>\n",
       "      <td>33.000000</td>\n",
       "      <td>99.00</td>\n",
       "    </tr>\n",
       "    <tr>\n",
       "      <th>Insulin</th>\n",
       "      <td>768.0</td>\n",
       "      <td>157.003527</td>\n",
       "      <td>88.860914</td>\n",
       "      <td>14.000</td>\n",
       "      <td>121.50000</td>\n",
       "      <td>130.287879</td>\n",
       "      <td>206.846154</td>\n",
       "      <td>846.00</td>\n",
       "    </tr>\n",
       "    <tr>\n",
       "      <th>BMI</th>\n",
       "      <td>768.0</td>\n",
       "      <td>32.446420</td>\n",
       "      <td>6.878970</td>\n",
       "      <td>18.200</td>\n",
       "      <td>27.50000</td>\n",
       "      <td>32.050000</td>\n",
       "      <td>36.600000</td>\n",
       "      <td>67.10</td>\n",
       "    </tr>\n",
       "    <tr>\n",
       "      <th>DiabetesPedigreeFunction</th>\n",
       "      <td>768.0</td>\n",
       "      <td>0.471876</td>\n",
       "      <td>0.331329</td>\n",
       "      <td>0.078</td>\n",
       "      <td>0.24375</td>\n",
       "      <td>0.372500</td>\n",
       "      <td>0.626250</td>\n",
       "      <td>2.42</td>\n",
       "    </tr>\n",
       "    <tr>\n",
       "      <th>Age</th>\n",
       "      <td>768.0</td>\n",
       "      <td>33.240885</td>\n",
       "      <td>11.760232</td>\n",
       "      <td>21.000</td>\n",
       "      <td>24.00000</td>\n",
       "      <td>29.000000</td>\n",
       "      <td>41.000000</td>\n",
       "      <td>81.00</td>\n",
       "    </tr>\n",
       "    <tr>\n",
       "      <th>Outcome</th>\n",
       "      <td>768.0</td>\n",
       "      <td>0.348958</td>\n",
       "      <td>0.476951</td>\n",
       "      <td>0.000</td>\n",
       "      <td>0.00000</td>\n",
       "      <td>0.000000</td>\n",
       "      <td>1.000000</td>\n",
       "      <td>1.00</td>\n",
       "    </tr>\n",
       "  </tbody>\n",
       "</table>\n",
       "</div>"
      ],
      "text/plain": [
       "                          count        mean        std     min        25%  \\\n",
       "Pregnancies               768.0    3.845052   3.369578   0.000    1.00000   \n",
       "Glucose                   768.0  121.697358  30.462008  44.000   99.75000   \n",
       "BloodPressure             768.0   72.428141  12.106044  24.000   64.00000   \n",
       "SkinThickness             768.0   29.247042   8.923908   7.000   25.00000   \n",
       "Insulin                   768.0  157.003527  88.860914  14.000  121.50000   \n",
       "BMI                       768.0   32.446420   6.878970  18.200   27.50000   \n",
       "DiabetesPedigreeFunction  768.0    0.471876   0.331329   0.078    0.24375   \n",
       "Age                       768.0   33.240885  11.760232  21.000   24.00000   \n",
       "Outcome                   768.0    0.348958   0.476951   0.000    0.00000   \n",
       "\n",
       "                                 50%         75%     max  \n",
       "Pregnancies                 3.000000    6.000000   17.00  \n",
       "Glucose                   117.000000  141.000000  199.00  \n",
       "BloodPressure              72.000000   80.000000  122.00  \n",
       "SkinThickness              28.000000   33.000000   99.00  \n",
       "Insulin                   130.287879  206.846154  846.00  \n",
       "BMI                        32.050000   36.600000   67.10  \n",
       "DiabetesPedigreeFunction    0.372500    0.626250    2.42  \n",
       "Age                        29.000000   41.000000   81.00  \n",
       "Outcome                     0.000000    1.000000    1.00  "
      ]
     },
     "execution_count": 28,
     "metadata": {},
     "output_type": "execute_result"
    }
   ],
   "source": [
    "df.describe().T"
   ]
  },
  {
   "cell_type": "code",
   "execution_count": 29,
   "metadata": {
    "execution": {
     "iopub.execute_input": "2020-08-18T01:10:44.753871Z",
     "iopub.status.busy": "2020-08-18T01:10:44.752843Z",
     "iopub.status.idle": "2020-08-18T01:10:44.803986Z",
     "shell.execute_reply": "2020-08-18T01:10:44.804826Z"
    },
    "papermill": {
     "duration": 0.106856,
     "end_time": "2020-08-18T01:10:44.805060",
     "exception": false,
     "start_time": "2020-08-18T01:10:44.698204",
     "status": "completed"
    },
    "tags": []
   },
   "outputs": [
    {
     "name": "stdout",
     "output_type": "stream",
     "text": [
      "Pregnancies no\n",
      "Glucose no\n",
      "BloodPressure no\n",
      "SkinThickness yes\n",
      "1\n",
      "lower -30.124999999999993 \n",
      "upper 88.475\n",
      "Insulin yes\n",
      "3\n",
      "lower -314.5 \n",
      "upper 657.5\n",
      "BMI no\n",
      "DiabetesPedigreeFunction no\n",
      "Age no\n",
      "Outcome no\n"
     ]
    }
   ],
   "source": [
    "for feature in df:\n",
    "\n",
    "    Q1 = df[feature].quantile(0.05)\n",
    "    Q3 = df[feature].quantile(0.95)\n",
    "    IQR = Q3-Q1\n",
    "    upper = Q3 + 1.5*IQR\n",
    "    lower = Q1 - 1.5*IQR\n",
    "\n",
    "    if df[(df[feature] > upper) | (df[feature] < lower)].any(axis=None):\n",
    "        print(feature,\"yes\")\n",
    "        print(df[(df[feature] > upper) | (df[feature] < lower)].shape[0])\n",
    "        print(\"lower\",lower,\"\\nupper\",upper)\n",
    "        df.loc[df[feature] > upper,feature] = upper\n",
    "    else:\n",
    "        print(feature, \"no\")\n",
    "        "
   ]
  },
  {
   "cell_type": "code",
   "execution_count": 30,
   "metadata": {
    "execution": {
     "iopub.execute_input": "2020-08-18T01:10:44.899079Z",
     "iopub.status.busy": "2020-08-18T01:10:44.895405Z",
     "iopub.status.idle": "2020-08-18T01:10:44.941387Z",
     "shell.execute_reply": "2020-08-18T01:10:44.940613Z"
    },
    "papermill": {
     "duration": 0.093452,
     "end_time": "2020-08-18T01:10:44.941532",
     "exception": false,
     "start_time": "2020-08-18T01:10:44.848080",
     "status": "completed"
    },
    "tags": []
   },
   "outputs": [
    {
     "data": {
      "text/html": [
       "<div>\n",
       "<style scoped>\n",
       "    .dataframe tbody tr th:only-of-type {\n",
       "        vertical-align: middle;\n",
       "    }\n",
       "\n",
       "    .dataframe tbody tr th {\n",
       "        vertical-align: top;\n",
       "    }\n",
       "\n",
       "    .dataframe thead th {\n",
       "        text-align: right;\n",
       "    }\n",
       "</style>\n",
       "<table border=\"1\" class=\"dataframe\">\n",
       "  <thead>\n",
       "    <tr style=\"text-align: right;\">\n",
       "      <th></th>\n",
       "      <th>count</th>\n",
       "      <th>mean</th>\n",
       "      <th>std</th>\n",
       "      <th>min</th>\n",
       "      <th>25%</th>\n",
       "      <th>50%</th>\n",
       "      <th>75%</th>\n",
       "      <th>max</th>\n",
       "    </tr>\n",
       "  </thead>\n",
       "  <tbody>\n",
       "    <tr>\n",
       "      <th>Pregnancies</th>\n",
       "      <td>768.0</td>\n",
       "      <td>3.845052</td>\n",
       "      <td>3.369578</td>\n",
       "      <td>0.000</td>\n",
       "      <td>1.00000</td>\n",
       "      <td>3.000000</td>\n",
       "      <td>6.000000</td>\n",
       "      <td>17.000</td>\n",
       "    </tr>\n",
       "    <tr>\n",
       "      <th>Glucose</th>\n",
       "      <td>768.0</td>\n",
       "      <td>121.697358</td>\n",
       "      <td>30.462008</td>\n",
       "      <td>44.000</td>\n",
       "      <td>99.75000</td>\n",
       "      <td>117.000000</td>\n",
       "      <td>141.000000</td>\n",
       "      <td>199.000</td>\n",
       "    </tr>\n",
       "    <tr>\n",
       "      <th>BloodPressure</th>\n",
       "      <td>768.0</td>\n",
       "      <td>72.428141</td>\n",
       "      <td>12.106044</td>\n",
       "      <td>24.000</td>\n",
       "      <td>64.00000</td>\n",
       "      <td>72.000000</td>\n",
       "      <td>80.000000</td>\n",
       "      <td>122.000</td>\n",
       "    </tr>\n",
       "    <tr>\n",
       "      <th>SkinThickness</th>\n",
       "      <td>768.0</td>\n",
       "      <td>29.233338</td>\n",
       "      <td>8.824174</td>\n",
       "      <td>7.000</td>\n",
       "      <td>25.00000</td>\n",
       "      <td>28.000000</td>\n",
       "      <td>33.000000</td>\n",
       "      <td>88.475</td>\n",
       "    </tr>\n",
       "    <tr>\n",
       "      <th>Insulin</th>\n",
       "      <td>768.0</td>\n",
       "      <td>156.616157</td>\n",
       "      <td>86.319814</td>\n",
       "      <td>14.000</td>\n",
       "      <td>121.50000</td>\n",
       "      <td>130.287879</td>\n",
       "      <td>206.846154</td>\n",
       "      <td>657.500</td>\n",
       "    </tr>\n",
       "    <tr>\n",
       "      <th>BMI</th>\n",
       "      <td>768.0</td>\n",
       "      <td>32.446420</td>\n",
       "      <td>6.878970</td>\n",
       "      <td>18.200</td>\n",
       "      <td>27.50000</td>\n",
       "      <td>32.050000</td>\n",
       "      <td>36.600000</td>\n",
       "      <td>67.100</td>\n",
       "    </tr>\n",
       "    <tr>\n",
       "      <th>DiabetesPedigreeFunction</th>\n",
       "      <td>768.0</td>\n",
       "      <td>0.471876</td>\n",
       "      <td>0.331329</td>\n",
       "      <td>0.078</td>\n",
       "      <td>0.24375</td>\n",
       "      <td>0.372500</td>\n",
       "      <td>0.626250</td>\n",
       "      <td>2.420</td>\n",
       "    </tr>\n",
       "    <tr>\n",
       "      <th>Age</th>\n",
       "      <td>768.0</td>\n",
       "      <td>33.240885</td>\n",
       "      <td>11.760232</td>\n",
       "      <td>21.000</td>\n",
       "      <td>24.00000</td>\n",
       "      <td>29.000000</td>\n",
       "      <td>41.000000</td>\n",
       "      <td>81.000</td>\n",
       "    </tr>\n",
       "    <tr>\n",
       "      <th>Outcome</th>\n",
       "      <td>768.0</td>\n",
       "      <td>0.348958</td>\n",
       "      <td>0.476951</td>\n",
       "      <td>0.000</td>\n",
       "      <td>0.00000</td>\n",
       "      <td>0.000000</td>\n",
       "      <td>1.000000</td>\n",
       "      <td>1.000</td>\n",
       "    </tr>\n",
       "  </tbody>\n",
       "</table>\n",
       "</div>"
      ],
      "text/plain": [
       "                          count        mean        std     min        25%  \\\n",
       "Pregnancies               768.0    3.845052   3.369578   0.000    1.00000   \n",
       "Glucose                   768.0  121.697358  30.462008  44.000   99.75000   \n",
       "BloodPressure             768.0   72.428141  12.106044  24.000   64.00000   \n",
       "SkinThickness             768.0   29.233338   8.824174   7.000   25.00000   \n",
       "Insulin                   768.0  156.616157  86.319814  14.000  121.50000   \n",
       "BMI                       768.0   32.446420   6.878970  18.200   27.50000   \n",
       "DiabetesPedigreeFunction  768.0    0.471876   0.331329   0.078    0.24375   \n",
       "Age                       768.0   33.240885  11.760232  21.000   24.00000   \n",
       "Outcome                   768.0    0.348958   0.476951   0.000    0.00000   \n",
       "\n",
       "                                 50%         75%      max  \n",
       "Pregnancies                 3.000000    6.000000   17.000  \n",
       "Glucose                   117.000000  141.000000  199.000  \n",
       "BloodPressure              72.000000   80.000000  122.000  \n",
       "SkinThickness              28.000000   33.000000   88.475  \n",
       "Insulin                   130.287879  206.846154  657.500  \n",
       "BMI                        32.050000   36.600000   67.100  \n",
       "DiabetesPedigreeFunction    0.372500    0.626250    2.420  \n",
       "Age                        29.000000   41.000000   81.000  \n",
       "Outcome                     0.000000    1.000000    1.000  "
      ]
     },
     "execution_count": 30,
     "metadata": {},
     "output_type": "execute_result"
    }
   ],
   "source": [
    "df.describe().T"
   ]
  },
  {
   "cell_type": "code",
   "execution_count": 31,
   "metadata": {
    "execution": {
     "iopub.execute_input": "2020-08-18T01:10:45.104614Z",
     "iopub.status.busy": "2020-08-18T01:10:45.103388Z",
     "iopub.status.idle": "2020-08-18T01:10:45.108514Z",
     "shell.execute_reply": "2020-08-18T01:10:45.107857Z"
    },
    "papermill": {
     "duration": 0.06529,
     "end_time": "2020-08-18T01:10:45.108656",
     "exception": false,
     "start_time": "2020-08-18T01:10:45.043366",
     "status": "completed"
    },
    "tags": []
   },
   "outputs": [
    {
     "data": {
      "text/html": [
       "<div>\n",
       "<style scoped>\n",
       "    .dataframe tbody tr th:only-of-type {\n",
       "        vertical-align: middle;\n",
       "    }\n",
       "\n",
       "    .dataframe tbody tr th {\n",
       "        vertical-align: top;\n",
       "    }\n",
       "\n",
       "    .dataframe thead th {\n",
       "        text-align: right;\n",
       "    }\n",
       "</style>\n",
       "<table border=\"1\" class=\"dataframe\">\n",
       "  <thead>\n",
       "    <tr style=\"text-align: right;\">\n",
       "      <th></th>\n",
       "      <th>Pregnancies</th>\n",
       "      <th>Glucose</th>\n",
       "      <th>BloodPressure</th>\n",
       "      <th>SkinThickness</th>\n",
       "      <th>Insulin</th>\n",
       "      <th>BMI</th>\n",
       "      <th>DiabetesPedigreeFunction</th>\n",
       "      <th>Age</th>\n",
       "      <th>Outcome</th>\n",
       "    </tr>\n",
       "  </thead>\n",
       "  <tbody>\n",
       "    <tr>\n",
       "      <th>0</th>\n",
       "      <td>6</td>\n",
       "      <td>148.0</td>\n",
       "      <td>72.0</td>\n",
       "      <td>35.0</td>\n",
       "      <td>206.846154</td>\n",
       "      <td>33.6</td>\n",
       "      <td>0.627</td>\n",
       "      <td>50</td>\n",
       "      <td>1</td>\n",
       "    </tr>\n",
       "    <tr>\n",
       "      <th>1</th>\n",
       "      <td>1</td>\n",
       "      <td>85.0</td>\n",
       "      <td>66.0</td>\n",
       "      <td>29.0</td>\n",
       "      <td>130.287879</td>\n",
       "      <td>26.6</td>\n",
       "      <td>0.351</td>\n",
       "      <td>31</td>\n",
       "      <td>0</td>\n",
       "    </tr>\n",
       "    <tr>\n",
       "      <th>2</th>\n",
       "      <td>8</td>\n",
       "      <td>183.0</td>\n",
       "      <td>64.0</td>\n",
       "      <td>33.0</td>\n",
       "      <td>206.846154</td>\n",
       "      <td>23.3</td>\n",
       "      <td>0.672</td>\n",
       "      <td>32</td>\n",
       "      <td>1</td>\n",
       "    </tr>\n",
       "    <tr>\n",
       "      <th>3</th>\n",
       "      <td>1</td>\n",
       "      <td>89.0</td>\n",
       "      <td>66.0</td>\n",
       "      <td>23.0</td>\n",
       "      <td>94.000000</td>\n",
       "      <td>28.1</td>\n",
       "      <td>0.167</td>\n",
       "      <td>21</td>\n",
       "      <td>0</td>\n",
       "    </tr>\n",
       "    <tr>\n",
       "      <th>4</th>\n",
       "      <td>0</td>\n",
       "      <td>137.0</td>\n",
       "      <td>40.0</td>\n",
       "      <td>35.0</td>\n",
       "      <td>168.000000</td>\n",
       "      <td>43.1</td>\n",
       "      <td>2.288</td>\n",
       "      <td>33</td>\n",
       "      <td>1</td>\n",
       "    </tr>\n",
       "  </tbody>\n",
       "</table>\n",
       "</div>"
      ],
      "text/plain": [
       "   Pregnancies  Glucose  BloodPressure  SkinThickness     Insulin   BMI  \\\n",
       "0            6    148.0           72.0           35.0  206.846154  33.6   \n",
       "1            1     85.0           66.0           29.0  130.287879  26.6   \n",
       "2            8    183.0           64.0           33.0  206.846154  23.3   \n",
       "3            1     89.0           66.0           23.0   94.000000  28.1   \n",
       "4            0    137.0           40.0           35.0  168.000000  43.1   \n",
       "\n",
       "   DiabetesPedigreeFunction  Age  Outcome  \n",
       "0                     0.627   50        1  \n",
       "1                     0.351   31        0  \n",
       "2                     0.672   32        1  \n",
       "3                     0.167   21        0  \n",
       "4                     2.288   33        1  "
      ]
     },
     "execution_count": 31,
     "metadata": {},
     "output_type": "execute_result"
    }
   ],
   "source": [
    "df.head()"
   ]
  },
  {
   "cell_type": "markdown",
   "metadata": {
    "papermill": {
     "duration": 0.044032,
     "end_time": "2020-08-18T01:10:45.196544",
     "exception": false,
     "start_time": "2020-08-18T01:10:45.152512",
     "status": "completed"
    },
    "tags": []
   },
   "source": [
    "# Feature Engineering"
   ]
  },
  {
   "cell_type": "code",
   "execution_count": 32,
   "metadata": {
    "execution": {
     "iopub.execute_input": "2020-08-18T01:10:45.293736Z",
     "iopub.status.busy": "2020-08-18T01:10:45.291402Z",
     "iopub.status.idle": "2020-08-18T01:10:45.298714Z",
     "shell.execute_reply": "2020-08-18T01:10:45.299307Z"
    },
    "papermill": {
     "duration": 0.058694,
     "end_time": "2020-08-18T01:10:45.299511",
     "exception": false,
     "start_time": "2020-08-18T01:10:45.240817",
     "status": "completed"
    },
    "tags": []
   },
   "outputs": [],
   "source": [
    "df['BMIRanges'] = pd.cut(x=df['BMI'], bins=[0,18.5,25,30,100],labels = [\"Underweight\",\"Healthy\",\"Overweight\",\"Obese\"])"
   ]
  },
  {
   "cell_type": "code",
   "execution_count": 33,
   "metadata": {
    "execution": {
     "iopub.execute_input": "2020-08-18T01:10:45.406970Z",
     "iopub.status.busy": "2020-08-18T01:10:45.405880Z",
     "iopub.status.idle": "2020-08-18T01:10:45.411251Z",
     "shell.execute_reply": "2020-08-18T01:10:45.410496Z"
    },
    "papermill": {
     "duration": 0.068213,
     "end_time": "2020-08-18T01:10:45.411391",
     "exception": false,
     "start_time": "2020-08-18T01:10:45.343178",
     "status": "completed"
    },
    "tags": []
   },
   "outputs": [
    {
     "data": {
      "text/html": [
       "<div>\n",
       "<style scoped>\n",
       "    .dataframe tbody tr th:only-of-type {\n",
       "        vertical-align: middle;\n",
       "    }\n",
       "\n",
       "    .dataframe tbody tr th {\n",
       "        vertical-align: top;\n",
       "    }\n",
       "\n",
       "    .dataframe thead th {\n",
       "        text-align: right;\n",
       "    }\n",
       "</style>\n",
       "<table border=\"1\" class=\"dataframe\">\n",
       "  <thead>\n",
       "    <tr style=\"text-align: right;\">\n",
       "      <th></th>\n",
       "      <th>Pregnancies</th>\n",
       "      <th>Glucose</th>\n",
       "      <th>BloodPressure</th>\n",
       "      <th>SkinThickness</th>\n",
       "      <th>Insulin</th>\n",
       "      <th>BMI</th>\n",
       "      <th>DiabetesPedigreeFunction</th>\n",
       "      <th>Age</th>\n",
       "      <th>Outcome</th>\n",
       "      <th>BMIRanges</th>\n",
       "    </tr>\n",
       "  </thead>\n",
       "  <tbody>\n",
       "    <tr>\n",
       "      <th>0</th>\n",
       "      <td>6</td>\n",
       "      <td>148.0</td>\n",
       "      <td>72.0</td>\n",
       "      <td>35.0</td>\n",
       "      <td>206.846154</td>\n",
       "      <td>33.6</td>\n",
       "      <td>0.627</td>\n",
       "      <td>50</td>\n",
       "      <td>1</td>\n",
       "      <td>Obese</td>\n",
       "    </tr>\n",
       "    <tr>\n",
       "      <th>1</th>\n",
       "      <td>1</td>\n",
       "      <td>85.0</td>\n",
       "      <td>66.0</td>\n",
       "      <td>29.0</td>\n",
       "      <td>130.287879</td>\n",
       "      <td>26.6</td>\n",
       "      <td>0.351</td>\n",
       "      <td>31</td>\n",
       "      <td>0</td>\n",
       "      <td>Overweight</td>\n",
       "    </tr>\n",
       "    <tr>\n",
       "      <th>2</th>\n",
       "      <td>8</td>\n",
       "      <td>183.0</td>\n",
       "      <td>64.0</td>\n",
       "      <td>33.0</td>\n",
       "      <td>206.846154</td>\n",
       "      <td>23.3</td>\n",
       "      <td>0.672</td>\n",
       "      <td>32</td>\n",
       "      <td>1</td>\n",
       "      <td>Healthy</td>\n",
       "    </tr>\n",
       "    <tr>\n",
       "      <th>3</th>\n",
       "      <td>1</td>\n",
       "      <td>89.0</td>\n",
       "      <td>66.0</td>\n",
       "      <td>23.0</td>\n",
       "      <td>94.000000</td>\n",
       "      <td>28.1</td>\n",
       "      <td>0.167</td>\n",
       "      <td>21</td>\n",
       "      <td>0</td>\n",
       "      <td>Overweight</td>\n",
       "    </tr>\n",
       "    <tr>\n",
       "      <th>4</th>\n",
       "      <td>0</td>\n",
       "      <td>137.0</td>\n",
       "      <td>40.0</td>\n",
       "      <td>35.0</td>\n",
       "      <td>168.000000</td>\n",
       "      <td>43.1</td>\n",
       "      <td>2.288</td>\n",
       "      <td>33</td>\n",
       "      <td>1</td>\n",
       "      <td>Obese</td>\n",
       "    </tr>\n",
       "  </tbody>\n",
       "</table>\n",
       "</div>"
      ],
      "text/plain": [
       "   Pregnancies  Glucose  BloodPressure  SkinThickness     Insulin   BMI  \\\n",
       "0            6    148.0           72.0           35.0  206.846154  33.6   \n",
       "1            1     85.0           66.0           29.0  130.287879  26.6   \n",
       "2            8    183.0           64.0           33.0  206.846154  23.3   \n",
       "3            1     89.0           66.0           23.0   94.000000  28.1   \n",
       "4            0    137.0           40.0           35.0  168.000000  43.1   \n",
       "\n",
       "   DiabetesPedigreeFunction  Age  Outcome   BMIRanges  \n",
       "0                     0.627   50        1       Obese  \n",
       "1                     0.351   31        0  Overweight  \n",
       "2                     0.672   32        1     Healthy  \n",
       "3                     0.167   21        0  Overweight  \n",
       "4                     2.288   33        1       Obese  "
      ]
     },
     "execution_count": 33,
     "metadata": {},
     "output_type": "execute_result"
    }
   ],
   "source": [
    "df.head()"
   ]
  },
  {
   "cell_type": "code",
   "execution_count": 34,
   "metadata": {
    "execution": {
     "iopub.execute_input": "2020-08-18T01:10:45.509311Z",
     "iopub.status.busy": "2020-08-18T01:10:45.508449Z",
     "iopub.status.idle": "2020-08-18T01:10:45.718791Z",
     "shell.execute_reply": "2020-08-18T01:10:45.719553Z"
    },
    "papermill": {
     "duration": 0.264196,
     "end_time": "2020-08-18T01:10:45.719734",
     "exception": false,
     "start_time": "2020-08-18T01:10:45.455538",
     "status": "completed"
    },
    "tags": []
   },
   "outputs": [
    {
     "data": {
      "text/html": [
       "<div>\n",
       "<style scoped>\n",
       "    .dataframe tbody tr th:only-of-type {\n",
       "        vertical-align: middle;\n",
       "    }\n",
       "\n",
       "    .dataframe tbody tr th {\n",
       "        vertical-align: top;\n",
       "    }\n",
       "\n",
       "    .dataframe thead tr th {\n",
       "        text-align: left;\n",
       "    }\n",
       "\n",
       "    .dataframe thead tr:last-of-type th {\n",
       "        text-align: right;\n",
       "    }\n",
       "</style>\n",
       "<table border=\"1\" class=\"dataframe\">\n",
       "  <thead>\n",
       "    <tr>\n",
       "      <th></th>\n",
       "      <th></th>\n",
       "      <th colspan=\"8\" halign=\"left\">Pregnancies</th>\n",
       "      <th colspan=\"2\" halign=\"left\">Glucose</th>\n",
       "      <th>...</th>\n",
       "      <th colspan=\"2\" halign=\"left\">DiabetesPedigreeFunction</th>\n",
       "      <th colspan=\"8\" halign=\"left\">Age</th>\n",
       "    </tr>\n",
       "    <tr>\n",
       "      <th></th>\n",
       "      <th></th>\n",
       "      <th>count</th>\n",
       "      <th>mean</th>\n",
       "      <th>std</th>\n",
       "      <th>min</th>\n",
       "      <th>25%</th>\n",
       "      <th>50%</th>\n",
       "      <th>75%</th>\n",
       "      <th>max</th>\n",
       "      <th>count</th>\n",
       "      <th>mean</th>\n",
       "      <th>...</th>\n",
       "      <th>75%</th>\n",
       "      <th>max</th>\n",
       "      <th>count</th>\n",
       "      <th>mean</th>\n",
       "      <th>std</th>\n",
       "      <th>min</th>\n",
       "      <th>25%</th>\n",
       "      <th>50%</th>\n",
       "      <th>75%</th>\n",
       "      <th>max</th>\n",
       "    </tr>\n",
       "    <tr>\n",
       "      <th>Outcome</th>\n",
       "      <th>BMIRanges</th>\n",
       "      <th></th>\n",
       "      <th></th>\n",
       "      <th></th>\n",
       "      <th></th>\n",
       "      <th></th>\n",
       "      <th></th>\n",
       "      <th></th>\n",
       "      <th></th>\n",
       "      <th></th>\n",
       "      <th></th>\n",
       "      <th></th>\n",
       "      <th></th>\n",
       "      <th></th>\n",
       "      <th></th>\n",
       "      <th></th>\n",
       "      <th></th>\n",
       "      <th></th>\n",
       "      <th></th>\n",
       "      <th></th>\n",
       "      <th></th>\n",
       "      <th></th>\n",
       "    </tr>\n",
       "  </thead>\n",
       "  <tbody>\n",
       "    <tr>\n",
       "      <th rowspan=\"4\" valign=\"top\">0</th>\n",
       "      <th>Underweight</th>\n",
       "      <td>4.0</td>\n",
       "      <td>0.750000</td>\n",
       "      <td>0.500000</td>\n",
       "      <td>0.0</td>\n",
       "      <td>0.75</td>\n",
       "      <td>1.0</td>\n",
       "      <td>1.0</td>\n",
       "      <td>1.0</td>\n",
       "      <td>4.0</td>\n",
       "      <td>95.250000</td>\n",
       "      <td>...</td>\n",
       "      <td>0.59250</td>\n",
       "      <td>0.624</td>\n",
       "      <td>4.0</td>\n",
       "      <td>24.000000</td>\n",
       "      <td>3.464102</td>\n",
       "      <td>21.0</td>\n",
       "      <td>21.00</td>\n",
       "      <td>24.0</td>\n",
       "      <td>27.0</td>\n",
       "      <td>27.0</td>\n",
       "    </tr>\n",
       "    <tr>\n",
       "      <th>Healthy</th>\n",
       "      <td>101.0</td>\n",
       "      <td>3.138614</td>\n",
       "      <td>2.959830</td>\n",
       "      <td>0.0</td>\n",
       "      <td>1.00</td>\n",
       "      <td>2.0</td>\n",
       "      <td>5.0</td>\n",
       "      <td>13.0</td>\n",
       "      <td>101.0</td>\n",
       "      <td>104.689543</td>\n",
       "      <td>...</td>\n",
       "      <td>0.49100</td>\n",
       "      <td>1.698</td>\n",
       "      <td>101.0</td>\n",
       "      <td>31.099010</td>\n",
       "      <td>12.903879</td>\n",
       "      <td>21.0</td>\n",
       "      <td>22.00</td>\n",
       "      <td>26.0</td>\n",
       "      <td>35.0</td>\n",
       "      <td>72.0</td>\n",
       "    </tr>\n",
       "    <tr>\n",
       "      <th>Overweight</th>\n",
       "      <td>136.0</td>\n",
       "      <td>3.279412</td>\n",
       "      <td>2.769386</td>\n",
       "      <td>0.0</td>\n",
       "      <td>1.00</td>\n",
       "      <td>2.0</td>\n",
       "      <td>5.0</td>\n",
       "      <td>12.0</td>\n",
       "      <td>136.0</td>\n",
       "      <td>113.482675</td>\n",
       "      <td>...</td>\n",
       "      <td>0.56800</td>\n",
       "      <td>1.699</td>\n",
       "      <td>136.0</td>\n",
       "      <td>31.360294</td>\n",
       "      <td>12.994969</td>\n",
       "      <td>21.0</td>\n",
       "      <td>22.00</td>\n",
       "      <td>27.0</td>\n",
       "      <td>36.0</td>\n",
       "      <td>81.0</td>\n",
       "    </tr>\n",
       "    <tr>\n",
       "      <th>Obese</th>\n",
       "      <td>259.0</td>\n",
       "      <td>3.409266</td>\n",
       "      <td>3.173667</td>\n",
       "      <td>0.0</td>\n",
       "      <td>1.00</td>\n",
       "      <td>2.0</td>\n",
       "      <td>5.0</td>\n",
       "      <td>13.0</td>\n",
       "      <td>259.0</td>\n",
       "      <td>111.712911</td>\n",
       "      <td>...</td>\n",
       "      <td>0.56500</td>\n",
       "      <td>2.329</td>\n",
       "      <td>259.0</td>\n",
       "      <td>31.247104</td>\n",
       "      <td>10.461110</td>\n",
       "      <td>21.0</td>\n",
       "      <td>24.00</td>\n",
       "      <td>27.0</td>\n",
       "      <td>38.0</td>\n",
       "      <td>69.0</td>\n",
       "    </tr>\n",
       "    <tr>\n",
       "      <th rowspan=\"3\" valign=\"top\">1</th>\n",
       "      <th>Healthy</th>\n",
       "      <td>7.0</td>\n",
       "      <td>5.285714</td>\n",
       "      <td>2.811541</td>\n",
       "      <td>1.0</td>\n",
       "      <td>3.50</td>\n",
       "      <td>6.0</td>\n",
       "      <td>7.0</td>\n",
       "      <td>9.0</td>\n",
       "      <td>7.0</td>\n",
       "      <td>157.571429</td>\n",
       "      <td>...</td>\n",
       "      <td>0.55950</td>\n",
       "      <td>0.678</td>\n",
       "      <td>7.0</td>\n",
       "      <td>44.285714</td>\n",
       "      <td>14.738999</td>\n",
       "      <td>23.0</td>\n",
       "      <td>32.50</td>\n",
       "      <td>50.0</td>\n",
       "      <td>56.0</td>\n",
       "      <td>60.0</td>\n",
       "    </tr>\n",
       "    <tr>\n",
       "      <th>Overweight</th>\n",
       "      <td>44.0</td>\n",
       "      <td>5.818182</td>\n",
       "      <td>3.315031</td>\n",
       "      <td>0.0</td>\n",
       "      <td>3.00</td>\n",
       "      <td>6.0</td>\n",
       "      <td>8.0</td>\n",
       "      <td>13.0</td>\n",
       "      <td>44.0</td>\n",
       "      <td>131.840909</td>\n",
       "      <td>...</td>\n",
       "      <td>0.72425</td>\n",
       "      <td>1.318</td>\n",
       "      <td>44.0</td>\n",
       "      <td>37.931818</td>\n",
       "      <td>9.879266</td>\n",
       "      <td>22.0</td>\n",
       "      <td>29.75</td>\n",
       "      <td>36.0</td>\n",
       "      <td>46.0</td>\n",
       "      <td>62.0</td>\n",
       "    </tr>\n",
       "    <tr>\n",
       "      <th>Obese</th>\n",
       "      <td>217.0</td>\n",
       "      <td>4.658986</td>\n",
       "      <td>3.828962</td>\n",
       "      <td>0.0</td>\n",
       "      <td>1.00</td>\n",
       "      <td>4.0</td>\n",
       "      <td>7.0</td>\n",
       "      <td>17.0</td>\n",
       "      <td>217.0</td>\n",
       "      <td>143.952254</td>\n",
       "      <td>...</td>\n",
       "      <td>0.74200</td>\n",
       "      <td>2.420</td>\n",
       "      <td>217.0</td>\n",
       "      <td>36.658986</td>\n",
       "      <td>11.010678</td>\n",
       "      <td>21.0</td>\n",
       "      <td>27.00</td>\n",
       "      <td>36.0</td>\n",
       "      <td>43.0</td>\n",
       "      <td>70.0</td>\n",
       "    </tr>\n",
       "  </tbody>\n",
       "</table>\n",
       "<p>7 rows × 64 columns</p>\n",
       "</div>"
      ],
      "text/plain": [
       "                    Pregnancies                                           \\\n",
       "                          count      mean       std  min   25%  50%  75%   \n",
       "Outcome BMIRanges                                                          \n",
       "0       Underweight         4.0  0.750000  0.500000  0.0  0.75  1.0  1.0   \n",
       "        Healthy           101.0  3.138614  2.959830  0.0  1.00  2.0  5.0   \n",
       "        Overweight        136.0  3.279412  2.769386  0.0  1.00  2.0  5.0   \n",
       "        Obese             259.0  3.409266  3.173667  0.0  1.00  2.0  5.0   \n",
       "1       Healthy             7.0  5.285714  2.811541  1.0  3.50  6.0  7.0   \n",
       "        Overweight         44.0  5.818182  3.315031  0.0  3.00  6.0  8.0   \n",
       "        Obese             217.0  4.658986  3.828962  0.0  1.00  4.0  7.0   \n",
       "\n",
       "                          Glucose              ... DiabetesPedigreeFunction  \\\n",
       "                      max   count        mean  ...                      75%   \n",
       "Outcome BMIRanges                              ...                            \n",
       "0       Underweight   1.0     4.0   95.250000  ...                  0.59250   \n",
       "        Healthy      13.0   101.0  104.689543  ...                  0.49100   \n",
       "        Overweight   12.0   136.0  113.482675  ...                  0.56800   \n",
       "        Obese        13.0   259.0  111.712911  ...                  0.56500   \n",
       "1       Healthy       9.0     7.0  157.571429  ...                  0.55950   \n",
       "        Overweight   13.0    44.0  131.840909  ...                  0.72425   \n",
       "        Obese        17.0   217.0  143.952254  ...                  0.74200   \n",
       "\n",
       "                              Age                                           \\\n",
       "                       max  count       mean        std   min    25%   50%   \n",
       "Outcome BMIRanges                                                            \n",
       "0       Underweight  0.624    4.0  24.000000   3.464102  21.0  21.00  24.0   \n",
       "        Healthy      1.698  101.0  31.099010  12.903879  21.0  22.00  26.0   \n",
       "        Overweight   1.699  136.0  31.360294  12.994969  21.0  22.00  27.0   \n",
       "        Obese        2.329  259.0  31.247104  10.461110  21.0  24.00  27.0   \n",
       "1       Healthy      0.678    7.0  44.285714  14.738999  23.0  32.50  50.0   \n",
       "        Overweight   1.318   44.0  37.931818   9.879266  22.0  29.75  36.0   \n",
       "        Obese        2.420  217.0  36.658986  11.010678  21.0  27.00  36.0   \n",
       "\n",
       "                                 \n",
       "                      75%   max  \n",
       "Outcome BMIRanges                \n",
       "0       Underweight  27.0  27.0  \n",
       "        Healthy      35.0  72.0  \n",
       "        Overweight   36.0  81.0  \n",
       "        Obese        38.0  69.0  \n",
       "1       Healthy      56.0  60.0  \n",
       "        Overweight   46.0  62.0  \n",
       "        Obese        43.0  70.0  \n",
       "\n",
       "[7 rows x 64 columns]"
      ]
     },
     "execution_count": 34,
     "metadata": {},
     "output_type": "execute_result"
    }
   ],
   "source": [
    "df.groupby([\"Outcome\",\"BMIRanges\"]).describe()"
   ]
  },
  {
   "cell_type": "code",
   "execution_count": null,
   "metadata": {
    "papermill": {
     "duration": 0.04394,
     "end_time": "2020-08-18T01:10:45.809080",
     "exception": false,
     "start_time": "2020-08-18T01:10:45.765140",
     "status": "completed"
    },
    "tags": []
   },
   "outputs": [],
   "source": []
  },
  {
   "cell_type": "code",
   "execution_count": 35,
   "metadata": {
    "execution": {
     "iopub.execute_input": "2020-08-18T01:10:45.918675Z",
     "iopub.status.busy": "2020-08-18T01:10:45.917544Z",
     "iopub.status.idle": "2020-08-18T01:10:45.923001Z",
     "shell.execute_reply": "2020-08-18T01:10:45.922233Z"
    },
    "papermill": {
     "duration": 0.068629,
     "end_time": "2020-08-18T01:10:45.923157",
     "exception": false,
     "start_time": "2020-08-18T01:10:45.854528",
     "status": "completed"
    },
    "tags": []
   },
   "outputs": [
    {
     "data": {
      "text/html": [
       "<div>\n",
       "<style scoped>\n",
       "    .dataframe tbody tr th:only-of-type {\n",
       "        vertical-align: middle;\n",
       "    }\n",
       "\n",
       "    .dataframe tbody tr th {\n",
       "        vertical-align: top;\n",
       "    }\n",
       "\n",
       "    .dataframe thead th {\n",
       "        text-align: right;\n",
       "    }\n",
       "</style>\n",
       "<table border=\"1\" class=\"dataframe\">\n",
       "  <thead>\n",
       "    <tr style=\"text-align: right;\">\n",
       "      <th></th>\n",
       "      <th>Pregnancies</th>\n",
       "      <th>Glucose</th>\n",
       "      <th>BloodPressure</th>\n",
       "      <th>SkinThickness</th>\n",
       "      <th>Insulin</th>\n",
       "      <th>BMI</th>\n",
       "      <th>DiabetesPedigreeFunction</th>\n",
       "      <th>Age</th>\n",
       "      <th>Outcome</th>\n",
       "      <th>BMIRanges</th>\n",
       "    </tr>\n",
       "  </thead>\n",
       "  <tbody>\n",
       "    <tr>\n",
       "      <th>0</th>\n",
       "      <td>6</td>\n",
       "      <td>148.0</td>\n",
       "      <td>72.0</td>\n",
       "      <td>35.0</td>\n",
       "      <td>206.846154</td>\n",
       "      <td>33.6</td>\n",
       "      <td>0.627</td>\n",
       "      <td>50</td>\n",
       "      <td>1</td>\n",
       "      <td>Obese</td>\n",
       "    </tr>\n",
       "    <tr>\n",
       "      <th>1</th>\n",
       "      <td>1</td>\n",
       "      <td>85.0</td>\n",
       "      <td>66.0</td>\n",
       "      <td>29.0</td>\n",
       "      <td>130.287879</td>\n",
       "      <td>26.6</td>\n",
       "      <td>0.351</td>\n",
       "      <td>31</td>\n",
       "      <td>0</td>\n",
       "      <td>Overweight</td>\n",
       "    </tr>\n",
       "    <tr>\n",
       "      <th>2</th>\n",
       "      <td>8</td>\n",
       "      <td>183.0</td>\n",
       "      <td>64.0</td>\n",
       "      <td>33.0</td>\n",
       "      <td>206.846154</td>\n",
       "      <td>23.3</td>\n",
       "      <td>0.672</td>\n",
       "      <td>32</td>\n",
       "      <td>1</td>\n",
       "      <td>Healthy</td>\n",
       "    </tr>\n",
       "    <tr>\n",
       "      <th>3</th>\n",
       "      <td>1</td>\n",
       "      <td>89.0</td>\n",
       "      <td>66.0</td>\n",
       "      <td>23.0</td>\n",
       "      <td>94.000000</td>\n",
       "      <td>28.1</td>\n",
       "      <td>0.167</td>\n",
       "      <td>21</td>\n",
       "      <td>0</td>\n",
       "      <td>Overweight</td>\n",
       "    </tr>\n",
       "    <tr>\n",
       "      <th>4</th>\n",
       "      <td>0</td>\n",
       "      <td>137.0</td>\n",
       "      <td>40.0</td>\n",
       "      <td>35.0</td>\n",
       "      <td>168.000000</td>\n",
       "      <td>43.1</td>\n",
       "      <td>2.288</td>\n",
       "      <td>33</td>\n",
       "      <td>1</td>\n",
       "      <td>Obese</td>\n",
       "    </tr>\n",
       "  </tbody>\n",
       "</table>\n",
       "</div>"
      ],
      "text/plain": [
       "   Pregnancies  Glucose  BloodPressure  SkinThickness     Insulin   BMI  \\\n",
       "0            6    148.0           72.0           35.0  206.846154  33.6   \n",
       "1            1     85.0           66.0           29.0  130.287879  26.6   \n",
       "2            8    183.0           64.0           33.0  206.846154  23.3   \n",
       "3            1     89.0           66.0           23.0   94.000000  28.1   \n",
       "4            0    137.0           40.0           35.0  168.000000  43.1   \n",
       "\n",
       "   DiabetesPedigreeFunction  Age  Outcome   BMIRanges  \n",
       "0                     0.627   50        1       Obese  \n",
       "1                     0.351   31        0  Overweight  \n",
       "2                     0.672   32        1     Healthy  \n",
       "3                     0.167   21        0  Overweight  \n",
       "4                     2.288   33        1       Obese  "
      ]
     },
     "execution_count": 35,
     "metadata": {},
     "output_type": "execute_result"
    }
   ],
   "source": [
    "df.head()"
   ]
  },
  {
   "cell_type": "code",
   "execution_count": 36,
   "metadata": {
    "execution": {
     "iopub.execute_input": "2020-08-18T01:10:46.028038Z",
     "iopub.status.busy": "2020-08-18T01:10:46.026911Z",
     "iopub.status.idle": "2020-08-18T01:10:46.031632Z",
     "shell.execute_reply": "2020-08-18T01:10:46.030825Z"
    },
    "papermill": {
     "duration": 0.063117,
     "end_time": "2020-08-18T01:10:46.031779",
     "exception": false,
     "start_time": "2020-08-18T01:10:45.968662",
     "status": "completed"
    },
    "tags": []
   },
   "outputs": [
    {
     "data": {
      "text/plain": [
       "count    768.000000\n",
       "mean     156.616157\n",
       "std       86.319814\n",
       "min       14.000000\n",
       "25%      121.500000\n",
       "50%      130.287879\n",
       "75%      206.846154\n",
       "max      657.500000\n",
       "Name: Insulin, dtype: float64"
      ]
     },
     "execution_count": 36,
     "metadata": {},
     "output_type": "execute_result"
    }
   ],
   "source": [
    "df[\"Insulin\"].describe().T"
   ]
  },
  {
   "cell_type": "code",
   "execution_count": 37,
   "metadata": {
    "execution": {
     "iopub.execute_input": "2020-08-18T01:10:46.130325Z",
     "iopub.status.busy": "2020-08-18T01:10:46.129088Z",
     "iopub.status.idle": "2020-08-18T01:10:46.132839Z",
     "shell.execute_reply": "2020-08-18T01:10:46.132157Z"
    },
    "papermill": {
     "duration": 0.055389,
     "end_time": "2020-08-18T01:10:46.132978",
     "exception": false,
     "start_time": "2020-08-18T01:10:46.077589",
     "status": "completed"
    },
    "tags": []
   },
   "outputs": [],
   "source": [
    "def set_insulin(row):\n",
    "    if row[\"Insulin\"] >= 16 and row[\"Insulin\"] <= 166:\n",
    "        return \"Normal\"\n",
    "    else:\n",
    "        return \"Abnormal\""
   ]
  },
  {
   "cell_type": "code",
   "execution_count": 38,
   "metadata": {
    "execution": {
     "iopub.execute_input": "2020-08-18T01:10:46.231804Z",
     "iopub.status.busy": "2020-08-18T01:10:46.230652Z",
     "iopub.status.idle": "2020-08-18T01:10:46.350206Z",
     "shell.execute_reply": "2020-08-18T01:10:46.349316Z"
    },
    "papermill": {
     "duration": 0.171765,
     "end_time": "2020-08-18T01:10:46.350355",
     "exception": false,
     "start_time": "2020-08-18T01:10:46.178590",
     "status": "completed"
    },
    "tags": []
   },
   "outputs": [],
   "source": [
    "df = df.assign(INSULIN_DESC=df.apply(set_insulin, axis=1))\n"
   ]
  },
  {
   "cell_type": "code",
   "execution_count": 39,
   "metadata": {
    "execution": {
     "iopub.execute_input": "2020-08-18T01:10:46.462667Z",
     "iopub.status.busy": "2020-08-18T01:10:46.453941Z",
     "iopub.status.idle": "2020-08-18T01:10:46.468415Z",
     "shell.execute_reply": "2020-08-18T01:10:46.467731Z"
    },
    "papermill": {
     "duration": 0.072825,
     "end_time": "2020-08-18T01:10:46.468567",
     "exception": false,
     "start_time": "2020-08-18T01:10:46.395742",
     "status": "completed"
    },
    "tags": []
   },
   "outputs": [
    {
     "data": {
      "text/html": [
       "<div>\n",
       "<style scoped>\n",
       "    .dataframe tbody tr th:only-of-type {\n",
       "        vertical-align: middle;\n",
       "    }\n",
       "\n",
       "    .dataframe tbody tr th {\n",
       "        vertical-align: top;\n",
       "    }\n",
       "\n",
       "    .dataframe thead th {\n",
       "        text-align: right;\n",
       "    }\n",
       "</style>\n",
       "<table border=\"1\" class=\"dataframe\">\n",
       "  <thead>\n",
       "    <tr style=\"text-align: right;\">\n",
       "      <th></th>\n",
       "      <th>Pregnancies</th>\n",
       "      <th>Glucose</th>\n",
       "      <th>BloodPressure</th>\n",
       "      <th>SkinThickness</th>\n",
       "      <th>Insulin</th>\n",
       "      <th>BMI</th>\n",
       "      <th>DiabetesPedigreeFunction</th>\n",
       "      <th>Age</th>\n",
       "      <th>Outcome</th>\n",
       "      <th>BMIRanges</th>\n",
       "      <th>INSULIN_DESC</th>\n",
       "    </tr>\n",
       "  </thead>\n",
       "  <tbody>\n",
       "    <tr>\n",
       "      <th>0</th>\n",
       "      <td>6</td>\n",
       "      <td>148.0</td>\n",
       "      <td>72.0</td>\n",
       "      <td>35.0</td>\n",
       "      <td>206.846154</td>\n",
       "      <td>33.6</td>\n",
       "      <td>0.627</td>\n",
       "      <td>50</td>\n",
       "      <td>1</td>\n",
       "      <td>Obese</td>\n",
       "      <td>Abnormal</td>\n",
       "    </tr>\n",
       "    <tr>\n",
       "      <th>1</th>\n",
       "      <td>1</td>\n",
       "      <td>85.0</td>\n",
       "      <td>66.0</td>\n",
       "      <td>29.0</td>\n",
       "      <td>130.287879</td>\n",
       "      <td>26.6</td>\n",
       "      <td>0.351</td>\n",
       "      <td>31</td>\n",
       "      <td>0</td>\n",
       "      <td>Overweight</td>\n",
       "      <td>Normal</td>\n",
       "    </tr>\n",
       "    <tr>\n",
       "      <th>2</th>\n",
       "      <td>8</td>\n",
       "      <td>183.0</td>\n",
       "      <td>64.0</td>\n",
       "      <td>33.0</td>\n",
       "      <td>206.846154</td>\n",
       "      <td>23.3</td>\n",
       "      <td>0.672</td>\n",
       "      <td>32</td>\n",
       "      <td>1</td>\n",
       "      <td>Healthy</td>\n",
       "      <td>Abnormal</td>\n",
       "    </tr>\n",
       "    <tr>\n",
       "      <th>3</th>\n",
       "      <td>1</td>\n",
       "      <td>89.0</td>\n",
       "      <td>66.0</td>\n",
       "      <td>23.0</td>\n",
       "      <td>94.000000</td>\n",
       "      <td>28.1</td>\n",
       "      <td>0.167</td>\n",
       "      <td>21</td>\n",
       "      <td>0</td>\n",
       "      <td>Overweight</td>\n",
       "      <td>Normal</td>\n",
       "    </tr>\n",
       "    <tr>\n",
       "      <th>4</th>\n",
       "      <td>0</td>\n",
       "      <td>137.0</td>\n",
       "      <td>40.0</td>\n",
       "      <td>35.0</td>\n",
       "      <td>168.000000</td>\n",
       "      <td>43.1</td>\n",
       "      <td>2.288</td>\n",
       "      <td>33</td>\n",
       "      <td>1</td>\n",
       "      <td>Obese</td>\n",
       "      <td>Abnormal</td>\n",
       "    </tr>\n",
       "  </tbody>\n",
       "</table>\n",
       "</div>"
      ],
      "text/plain": [
       "   Pregnancies  Glucose  BloodPressure  SkinThickness     Insulin   BMI  \\\n",
       "0            6    148.0           72.0           35.0  206.846154  33.6   \n",
       "1            1     85.0           66.0           29.0  130.287879  26.6   \n",
       "2            8    183.0           64.0           33.0  206.846154  23.3   \n",
       "3            1     89.0           66.0           23.0   94.000000  28.1   \n",
       "4            0    137.0           40.0           35.0  168.000000  43.1   \n",
       "\n",
       "   DiabetesPedigreeFunction  Age  Outcome   BMIRanges INSULIN_DESC  \n",
       "0                     0.627   50        1       Obese     Abnormal  \n",
       "1                     0.351   31        0  Overweight       Normal  \n",
       "2                     0.672   32        1     Healthy     Abnormal  \n",
       "3                     0.167   21        0  Overweight       Normal  \n",
       "4                     2.288   33        1       Obese     Abnormal  "
      ]
     },
     "execution_count": 39,
     "metadata": {},
     "output_type": "execute_result"
    }
   ],
   "source": [
    "df.head()"
   ]
  },
  {
   "cell_type": "code",
   "execution_count": 40,
   "metadata": {
    "execution": {
     "iopub.execute_input": "2020-08-18T01:10:46.570622Z",
     "iopub.status.busy": "2020-08-18T01:10:46.569442Z",
     "iopub.status.idle": "2020-08-18T01:10:46.573380Z",
     "shell.execute_reply": "2020-08-18T01:10:46.572704Z"
    },
    "papermill": {
     "duration": 0.059513,
     "end_time": "2020-08-18T01:10:46.573520",
     "exception": false,
     "start_time": "2020-08-18T01:10:46.514007",
     "status": "completed"
    },
    "tags": []
   },
   "outputs": [],
   "source": [
    "df['NewGlucose'] = pd.cut(x=df['Glucose'], bins=[0,70,99,126,200],labels = [\"Low\",\"Normal\",\"Secret\",\"High\"])"
   ]
  },
  {
   "cell_type": "code",
   "execution_count": 41,
   "metadata": {
    "execution": {
     "iopub.execute_input": "2020-08-18T01:10:46.687450Z",
     "iopub.status.busy": "2020-08-18T01:10:46.686270Z",
     "iopub.status.idle": "2020-08-18T01:10:46.691850Z",
     "shell.execute_reply": "2020-08-18T01:10:46.691060Z"
    },
    "papermill": {
     "duration": 0.072814,
     "end_time": "2020-08-18T01:10:46.691982",
     "exception": false,
     "start_time": "2020-08-18T01:10:46.619168",
     "status": "completed"
    },
    "tags": []
   },
   "outputs": [
    {
     "data": {
      "text/html": [
       "<div>\n",
       "<style scoped>\n",
       "    .dataframe tbody tr th:only-of-type {\n",
       "        vertical-align: middle;\n",
       "    }\n",
       "\n",
       "    .dataframe tbody tr th {\n",
       "        vertical-align: top;\n",
       "    }\n",
       "\n",
       "    .dataframe thead th {\n",
       "        text-align: right;\n",
       "    }\n",
       "</style>\n",
       "<table border=\"1\" class=\"dataframe\">\n",
       "  <thead>\n",
       "    <tr style=\"text-align: right;\">\n",
       "      <th></th>\n",
       "      <th>Pregnancies</th>\n",
       "      <th>Glucose</th>\n",
       "      <th>BloodPressure</th>\n",
       "      <th>SkinThickness</th>\n",
       "      <th>Insulin</th>\n",
       "      <th>BMI</th>\n",
       "      <th>DiabetesPedigreeFunction</th>\n",
       "      <th>Age</th>\n",
       "      <th>Outcome</th>\n",
       "      <th>BMIRanges</th>\n",
       "      <th>INSULIN_DESC</th>\n",
       "      <th>NewGlucose</th>\n",
       "    </tr>\n",
       "  </thead>\n",
       "  <tbody>\n",
       "    <tr>\n",
       "      <th>0</th>\n",
       "      <td>6</td>\n",
       "      <td>148.0</td>\n",
       "      <td>72.0</td>\n",
       "      <td>35.0</td>\n",
       "      <td>206.846154</td>\n",
       "      <td>33.6</td>\n",
       "      <td>0.627</td>\n",
       "      <td>50</td>\n",
       "      <td>1</td>\n",
       "      <td>Obese</td>\n",
       "      <td>Abnormal</td>\n",
       "      <td>High</td>\n",
       "    </tr>\n",
       "    <tr>\n",
       "      <th>1</th>\n",
       "      <td>1</td>\n",
       "      <td>85.0</td>\n",
       "      <td>66.0</td>\n",
       "      <td>29.0</td>\n",
       "      <td>130.287879</td>\n",
       "      <td>26.6</td>\n",
       "      <td>0.351</td>\n",
       "      <td>31</td>\n",
       "      <td>0</td>\n",
       "      <td>Overweight</td>\n",
       "      <td>Normal</td>\n",
       "      <td>Normal</td>\n",
       "    </tr>\n",
       "    <tr>\n",
       "      <th>2</th>\n",
       "      <td>8</td>\n",
       "      <td>183.0</td>\n",
       "      <td>64.0</td>\n",
       "      <td>33.0</td>\n",
       "      <td>206.846154</td>\n",
       "      <td>23.3</td>\n",
       "      <td>0.672</td>\n",
       "      <td>32</td>\n",
       "      <td>1</td>\n",
       "      <td>Healthy</td>\n",
       "      <td>Abnormal</td>\n",
       "      <td>High</td>\n",
       "    </tr>\n",
       "    <tr>\n",
       "      <th>3</th>\n",
       "      <td>1</td>\n",
       "      <td>89.0</td>\n",
       "      <td>66.0</td>\n",
       "      <td>23.0</td>\n",
       "      <td>94.000000</td>\n",
       "      <td>28.1</td>\n",
       "      <td>0.167</td>\n",
       "      <td>21</td>\n",
       "      <td>0</td>\n",
       "      <td>Overweight</td>\n",
       "      <td>Normal</td>\n",
       "      <td>Normal</td>\n",
       "    </tr>\n",
       "    <tr>\n",
       "      <th>4</th>\n",
       "      <td>0</td>\n",
       "      <td>137.0</td>\n",
       "      <td>40.0</td>\n",
       "      <td>35.0</td>\n",
       "      <td>168.000000</td>\n",
       "      <td>43.1</td>\n",
       "      <td>2.288</td>\n",
       "      <td>33</td>\n",
       "      <td>1</td>\n",
       "      <td>Obese</td>\n",
       "      <td>Abnormal</td>\n",
       "      <td>High</td>\n",
       "    </tr>\n",
       "  </tbody>\n",
       "</table>\n",
       "</div>"
      ],
      "text/plain": [
       "   Pregnancies  Glucose  BloodPressure  SkinThickness     Insulin   BMI  \\\n",
       "0            6    148.0           72.0           35.0  206.846154  33.6   \n",
       "1            1     85.0           66.0           29.0  130.287879  26.6   \n",
       "2            8    183.0           64.0           33.0  206.846154  23.3   \n",
       "3            1     89.0           66.0           23.0   94.000000  28.1   \n",
       "4            0    137.0           40.0           35.0  168.000000  43.1   \n",
       "\n",
       "   DiabetesPedigreeFunction  Age  Outcome   BMIRanges INSULIN_DESC NewGlucose  \n",
       "0                     0.627   50        1       Obese     Abnormal       High  \n",
       "1                     0.351   31        0  Overweight       Normal     Normal  \n",
       "2                     0.672   32        1     Healthy     Abnormal       High  \n",
       "3                     0.167   21        0  Overweight       Normal     Normal  \n",
       "4                     2.288   33        1       Obese     Abnormal       High  "
      ]
     },
     "execution_count": 41,
     "metadata": {},
     "output_type": "execute_result"
    }
   ],
   "source": [
    "df.head()"
   ]
  },
  {
   "cell_type": "code",
   "execution_count": 42,
   "metadata": {
    "execution": {
     "iopub.execute_input": "2020-08-18T01:10:46.803517Z",
     "iopub.status.busy": "2020-08-18T01:10:46.800438Z",
     "iopub.status.idle": "2020-08-18T01:10:46.807817Z",
     "shell.execute_reply": "2020-08-18T01:10:46.807025Z"
    },
    "papermill": {
     "duration": 0.069241,
     "end_time": "2020-08-18T01:10:46.807976",
     "exception": false,
     "start_time": "2020-08-18T01:10:46.738735",
     "status": "completed"
    },
    "tags": []
   },
   "outputs": [],
   "source": [
    "df = pd.get_dummies(df,drop_first=True)"
   ]
  },
  {
   "cell_type": "code",
   "execution_count": 43,
   "metadata": {
    "execution": {
     "iopub.execute_input": "2020-08-18T01:10:46.913697Z",
     "iopub.status.busy": "2020-08-18T01:10:46.912546Z",
     "iopub.status.idle": "2020-08-18T01:10:46.928094Z",
     "shell.execute_reply": "2020-08-18T01:10:46.927318Z"
    },
    "papermill": {
     "duration": 0.074223,
     "end_time": "2020-08-18T01:10:46.928251",
     "exception": false,
     "start_time": "2020-08-18T01:10:46.854028",
     "status": "completed"
    },
    "tags": []
   },
   "outputs": [
    {
     "data": {
      "text/html": [
       "<div>\n",
       "<style scoped>\n",
       "    .dataframe tbody tr th:only-of-type {\n",
       "        vertical-align: middle;\n",
       "    }\n",
       "\n",
       "    .dataframe tbody tr th {\n",
       "        vertical-align: top;\n",
       "    }\n",
       "\n",
       "    .dataframe thead th {\n",
       "        text-align: right;\n",
       "    }\n",
       "</style>\n",
       "<table border=\"1\" class=\"dataframe\">\n",
       "  <thead>\n",
       "    <tr style=\"text-align: right;\">\n",
       "      <th></th>\n",
       "      <th>Pregnancies</th>\n",
       "      <th>Glucose</th>\n",
       "      <th>BloodPressure</th>\n",
       "      <th>SkinThickness</th>\n",
       "      <th>Insulin</th>\n",
       "      <th>BMI</th>\n",
       "      <th>DiabetesPedigreeFunction</th>\n",
       "      <th>Age</th>\n",
       "      <th>Outcome</th>\n",
       "      <th>BMIRanges_Healthy</th>\n",
       "      <th>BMIRanges_Overweight</th>\n",
       "      <th>BMIRanges_Obese</th>\n",
       "      <th>INSULIN_DESC_Normal</th>\n",
       "      <th>NewGlucose_Normal</th>\n",
       "      <th>NewGlucose_Secret</th>\n",
       "      <th>NewGlucose_High</th>\n",
       "    </tr>\n",
       "  </thead>\n",
       "  <tbody>\n",
       "    <tr>\n",
       "      <th>0</th>\n",
       "      <td>6</td>\n",
       "      <td>148.0</td>\n",
       "      <td>72.0</td>\n",
       "      <td>35.0</td>\n",
       "      <td>206.846154</td>\n",
       "      <td>33.6</td>\n",
       "      <td>0.627</td>\n",
       "      <td>50</td>\n",
       "      <td>1</td>\n",
       "      <td>0</td>\n",
       "      <td>0</td>\n",
       "      <td>1</td>\n",
       "      <td>0</td>\n",
       "      <td>0</td>\n",
       "      <td>0</td>\n",
       "      <td>1</td>\n",
       "    </tr>\n",
       "    <tr>\n",
       "      <th>1</th>\n",
       "      <td>1</td>\n",
       "      <td>85.0</td>\n",
       "      <td>66.0</td>\n",
       "      <td>29.0</td>\n",
       "      <td>130.287879</td>\n",
       "      <td>26.6</td>\n",
       "      <td>0.351</td>\n",
       "      <td>31</td>\n",
       "      <td>0</td>\n",
       "      <td>0</td>\n",
       "      <td>1</td>\n",
       "      <td>0</td>\n",
       "      <td>1</td>\n",
       "      <td>1</td>\n",
       "      <td>0</td>\n",
       "      <td>0</td>\n",
       "    </tr>\n",
       "    <tr>\n",
       "      <th>2</th>\n",
       "      <td>8</td>\n",
       "      <td>183.0</td>\n",
       "      <td>64.0</td>\n",
       "      <td>33.0</td>\n",
       "      <td>206.846154</td>\n",
       "      <td>23.3</td>\n",
       "      <td>0.672</td>\n",
       "      <td>32</td>\n",
       "      <td>1</td>\n",
       "      <td>1</td>\n",
       "      <td>0</td>\n",
       "      <td>0</td>\n",
       "      <td>0</td>\n",
       "      <td>0</td>\n",
       "      <td>0</td>\n",
       "      <td>1</td>\n",
       "    </tr>\n",
       "    <tr>\n",
       "      <th>3</th>\n",
       "      <td>1</td>\n",
       "      <td>89.0</td>\n",
       "      <td>66.0</td>\n",
       "      <td>23.0</td>\n",
       "      <td>94.000000</td>\n",
       "      <td>28.1</td>\n",
       "      <td>0.167</td>\n",
       "      <td>21</td>\n",
       "      <td>0</td>\n",
       "      <td>0</td>\n",
       "      <td>1</td>\n",
       "      <td>0</td>\n",
       "      <td>1</td>\n",
       "      <td>1</td>\n",
       "      <td>0</td>\n",
       "      <td>0</td>\n",
       "    </tr>\n",
       "    <tr>\n",
       "      <th>4</th>\n",
       "      <td>0</td>\n",
       "      <td>137.0</td>\n",
       "      <td>40.0</td>\n",
       "      <td>35.0</td>\n",
       "      <td>168.000000</td>\n",
       "      <td>43.1</td>\n",
       "      <td>2.288</td>\n",
       "      <td>33</td>\n",
       "      <td>1</td>\n",
       "      <td>0</td>\n",
       "      <td>0</td>\n",
       "      <td>1</td>\n",
       "      <td>0</td>\n",
       "      <td>0</td>\n",
       "      <td>0</td>\n",
       "      <td>1</td>\n",
       "    </tr>\n",
       "  </tbody>\n",
       "</table>\n",
       "</div>"
      ],
      "text/plain": [
       "   Pregnancies  Glucose  BloodPressure  SkinThickness     Insulin   BMI  \\\n",
       "0            6    148.0           72.0           35.0  206.846154  33.6   \n",
       "1            1     85.0           66.0           29.0  130.287879  26.6   \n",
       "2            8    183.0           64.0           33.0  206.846154  23.3   \n",
       "3            1     89.0           66.0           23.0   94.000000  28.1   \n",
       "4            0    137.0           40.0           35.0  168.000000  43.1   \n",
       "\n",
       "   DiabetesPedigreeFunction  Age  Outcome  BMIRanges_Healthy  \\\n",
       "0                     0.627   50        1                  0   \n",
       "1                     0.351   31        0                  0   \n",
       "2                     0.672   32        1                  1   \n",
       "3                     0.167   21        0                  0   \n",
       "4                     2.288   33        1                  0   \n",
       "\n",
       "   BMIRanges_Overweight  BMIRanges_Obese  INSULIN_DESC_Normal  \\\n",
       "0                     0                1                    0   \n",
       "1                     1                0                    1   \n",
       "2                     0                0                    0   \n",
       "3                     1                0                    1   \n",
       "4                     0                1                    0   \n",
       "\n",
       "   NewGlucose_Normal  NewGlucose_Secret  NewGlucose_High  \n",
       "0                  0                  0                1  \n",
       "1                  1                  0                0  \n",
       "2                  0                  0                1  \n",
       "3                  1                  0                0  \n",
       "4                  0                  0                1  "
      ]
     },
     "execution_count": 43,
     "metadata": {},
     "output_type": "execute_result"
    }
   ],
   "source": [
    "df.head()"
   ]
  },
  {
   "cell_type": "raw",
   "metadata": {
    "papermill": {
     "duration": 0.04596,
     "end_time": "2020-08-18T01:10:47.021138",
     "exception": false,
     "start_time": "2020-08-18T01:10:46.975178",
     "status": "completed"
    },
    "tags": []
   },
   "source": [
    "# robust"
   ]
  },
  {
   "cell_type": "code",
   "execution_count": 44,
   "metadata": {
    "execution": {
     "iopub.execute_input": "2020-08-18T01:10:47.121816Z",
     "iopub.status.busy": "2020-08-18T01:10:47.120771Z",
     "iopub.status.idle": "2020-08-18T01:10:47.124077Z",
     "shell.execute_reply": "2020-08-18T01:10:47.123343Z"
    },
    "papermill": {
     "duration": 0.055716,
     "end_time": "2020-08-18T01:10:47.124227",
     "exception": false,
     "start_time": "2020-08-18T01:10:47.068511",
     "status": "completed"
    },
    "tags": []
   },
   "outputs": [],
   "source": [
    "from sklearn.preprocessing import RobustScaler\n"
   ]
  },
  {
   "cell_type": "code",
   "execution_count": 45,
   "metadata": {
    "execution": {
     "iopub.execute_input": "2020-08-18T01:10:47.230750Z",
     "iopub.status.busy": "2020-08-18T01:10:47.229918Z",
     "iopub.status.idle": "2020-08-18T01:10:47.241760Z",
     "shell.execute_reply": "2020-08-18T01:10:47.241025Z"
    },
    "papermill": {
     "duration": 0.070747,
     "end_time": "2020-08-18T01:10:47.241896",
     "exception": false,
     "start_time": "2020-08-18T01:10:47.171149",
     "status": "completed"
    },
    "tags": []
   },
   "outputs": [],
   "source": [
    "r_scaler = RobustScaler()\n",
    "df_r = r_scaler.fit_transform(df.drop([\"Outcome\",\"BMIRanges_Healthy\",\"BMIRanges_Overweight\",\"BMIRanges_Obese\",\"INSULIN_DESC_Normal\",\"NewGlucose_Normal\",\"NewGlucose_Secret\",\"NewGlucose_High\"],axis=1))\n",
    "\n",
    "df_r = pd.DataFrame(df_r, columns=[\"Pregnancies\",\"Glucose\",\"BloodPressure\",\"SkinThickness\",\"Insulin\",\"BMI\",\"DiabetesPedigreeFunction\",\"Age\"])"
   ]
  },
  {
   "cell_type": "code",
   "execution_count": 46,
   "metadata": {
    "execution": {
     "iopub.execute_input": "2020-08-18T01:10:47.355522Z",
     "iopub.status.busy": "2020-08-18T01:10:47.353586Z",
     "iopub.status.idle": "2020-08-18T01:10:47.360313Z",
     "shell.execute_reply": "2020-08-18T01:10:47.360869Z"
    },
    "papermill": {
     "duration": 0.07274,
     "end_time": "2020-08-18T01:10:47.361056",
     "exception": false,
     "start_time": "2020-08-18T01:10:47.288316",
     "status": "completed"
    },
    "tags": []
   },
   "outputs": [
    {
     "data": {
      "text/html": [
       "<div>\n",
       "<style scoped>\n",
       "    .dataframe tbody tr th:only-of-type {\n",
       "        vertical-align: middle;\n",
       "    }\n",
       "\n",
       "    .dataframe tbody tr th {\n",
       "        vertical-align: top;\n",
       "    }\n",
       "\n",
       "    .dataframe thead th {\n",
       "        text-align: right;\n",
       "    }\n",
       "</style>\n",
       "<table border=\"1\" class=\"dataframe\">\n",
       "  <thead>\n",
       "    <tr style=\"text-align: right;\">\n",
       "      <th></th>\n",
       "      <th>Pregnancies</th>\n",
       "      <th>Glucose</th>\n",
       "      <th>BloodPressure</th>\n",
       "      <th>SkinThickness</th>\n",
       "      <th>Insulin</th>\n",
       "      <th>BMI</th>\n",
       "      <th>DiabetesPedigreeFunction</th>\n",
       "      <th>Age</th>\n",
       "    </tr>\n",
       "  </thead>\n",
       "  <tbody>\n",
       "    <tr>\n",
       "      <th>0</th>\n",
       "      <td>0.6</td>\n",
       "      <td>0.751515</td>\n",
       "      <td>0.000</td>\n",
       "      <td>0.875</td>\n",
       "      <td>0.897033</td>\n",
       "      <td>0.170330</td>\n",
       "      <td>0.665359</td>\n",
       "      <td>1.235294</td>\n",
       "    </tr>\n",
       "    <tr>\n",
       "      <th>1</th>\n",
       "      <td>-0.4</td>\n",
       "      <td>-0.775758</td>\n",
       "      <td>-0.375</td>\n",
       "      <td>0.125</td>\n",
       "      <td>0.000000</td>\n",
       "      <td>-0.598901</td>\n",
       "      <td>-0.056209</td>\n",
       "      <td>0.117647</td>\n",
       "    </tr>\n",
       "    <tr>\n",
       "      <th>2</th>\n",
       "      <td>1.0</td>\n",
       "      <td>1.600000</td>\n",
       "      <td>-0.500</td>\n",
       "      <td>0.625</td>\n",
       "      <td>0.897033</td>\n",
       "      <td>-0.961538</td>\n",
       "      <td>0.783007</td>\n",
       "      <td>0.176471</td>\n",
       "    </tr>\n",
       "    <tr>\n",
       "      <th>3</th>\n",
       "      <td>-0.4</td>\n",
       "      <td>-0.678788</td>\n",
       "      <td>-0.375</td>\n",
       "      <td>-0.625</td>\n",
       "      <td>-0.425185</td>\n",
       "      <td>-0.434066</td>\n",
       "      <td>-0.537255</td>\n",
       "      <td>-0.470588</td>\n",
       "    </tr>\n",
       "    <tr>\n",
       "      <th>4</th>\n",
       "      <td>-0.6</td>\n",
       "      <td>0.484848</td>\n",
       "      <td>-2.000</td>\n",
       "      <td>0.875</td>\n",
       "      <td>0.441873</td>\n",
       "      <td>1.214286</td>\n",
       "      <td>5.007843</td>\n",
       "      <td>0.235294</td>\n",
       "    </tr>\n",
       "    <tr>\n",
       "      <th>...</th>\n",
       "      <td>...</td>\n",
       "      <td>...</td>\n",
       "      <td>...</td>\n",
       "      <td>...</td>\n",
       "      <td>...</td>\n",
       "      <td>...</td>\n",
       "      <td>...</td>\n",
       "      <td>...</td>\n",
       "    </tr>\n",
       "    <tr>\n",
       "      <th>763</th>\n",
       "      <td>1.4</td>\n",
       "      <td>-0.387879</td>\n",
       "      <td>0.250</td>\n",
       "      <td>2.500</td>\n",
       "      <td>0.582476</td>\n",
       "      <td>0.093407</td>\n",
       "      <td>-0.526797</td>\n",
       "      <td>2.000000</td>\n",
       "    </tr>\n",
       "    <tr>\n",
       "      <th>764</th>\n",
       "      <td>-0.2</td>\n",
       "      <td>0.121212</td>\n",
       "      <td>-0.125</td>\n",
       "      <td>-0.125</td>\n",
       "      <td>0.000000</td>\n",
       "      <td>0.521978</td>\n",
       "      <td>-0.084967</td>\n",
       "      <td>-0.117647</td>\n",
       "    </tr>\n",
       "    <tr>\n",
       "      <th>765</th>\n",
       "      <td>0.4</td>\n",
       "      <td>0.096970</td>\n",
       "      <td>0.000</td>\n",
       "      <td>-0.625</td>\n",
       "      <td>-0.214279</td>\n",
       "      <td>-0.642857</td>\n",
       "      <td>-0.333333</td>\n",
       "      <td>0.058824</td>\n",
       "    </tr>\n",
       "    <tr>\n",
       "      <th>766</th>\n",
       "      <td>-0.4</td>\n",
       "      <td>0.218182</td>\n",
       "      <td>-0.750</td>\n",
       "      <td>0.625</td>\n",
       "      <td>0.897033</td>\n",
       "      <td>-0.214286</td>\n",
       "      <td>-0.061438</td>\n",
       "      <td>1.058824</td>\n",
       "    </tr>\n",
       "    <tr>\n",
       "      <th>767</th>\n",
       "      <td>-0.4</td>\n",
       "      <td>-0.581818</td>\n",
       "      <td>-0.125</td>\n",
       "      <td>0.375</td>\n",
       "      <td>0.000000</td>\n",
       "      <td>-0.181319</td>\n",
       "      <td>-0.150327</td>\n",
       "      <td>-0.352941</td>\n",
       "    </tr>\n",
       "  </tbody>\n",
       "</table>\n",
       "<p>768 rows × 8 columns</p>\n",
       "</div>"
      ],
      "text/plain": [
       "     Pregnancies   Glucose  BloodPressure  SkinThickness   Insulin       BMI  \\\n",
       "0            0.6  0.751515          0.000          0.875  0.897033  0.170330   \n",
       "1           -0.4 -0.775758         -0.375          0.125  0.000000 -0.598901   \n",
       "2            1.0  1.600000         -0.500          0.625  0.897033 -0.961538   \n",
       "3           -0.4 -0.678788         -0.375         -0.625 -0.425185 -0.434066   \n",
       "4           -0.6  0.484848         -2.000          0.875  0.441873  1.214286   \n",
       "..           ...       ...            ...            ...       ...       ...   \n",
       "763          1.4 -0.387879          0.250          2.500  0.582476  0.093407   \n",
       "764         -0.2  0.121212         -0.125         -0.125  0.000000  0.521978   \n",
       "765          0.4  0.096970          0.000         -0.625 -0.214279 -0.642857   \n",
       "766         -0.4  0.218182         -0.750          0.625  0.897033 -0.214286   \n",
       "767         -0.4 -0.581818         -0.125          0.375  0.000000 -0.181319   \n",
       "\n",
       "     DiabetesPedigreeFunction       Age  \n",
       "0                    0.665359  1.235294  \n",
       "1                   -0.056209  0.117647  \n",
       "2                    0.783007  0.176471  \n",
       "3                   -0.537255 -0.470588  \n",
       "4                    5.007843  0.235294  \n",
       "..                        ...       ...  \n",
       "763                 -0.526797  2.000000  \n",
       "764                 -0.084967 -0.117647  \n",
       "765                 -0.333333  0.058824  \n",
       "766                 -0.061438  1.058824  \n",
       "767                 -0.150327 -0.352941  \n",
       "\n",
       "[768 rows x 8 columns]"
      ]
     },
     "execution_count": 46,
     "metadata": {},
     "output_type": "execute_result"
    }
   ],
   "source": [
    "df_r"
   ]
  },
  {
   "cell_type": "code",
   "execution_count": 47,
   "metadata": {
    "execution": {
     "iopub.execute_input": "2020-08-18T01:10:47.465008Z",
     "iopub.status.busy": "2020-08-18T01:10:47.463881Z",
     "iopub.status.idle": "2020-08-18T01:10:47.467637Z",
     "shell.execute_reply": "2020-08-18T01:10:47.466883Z"
    },
    "papermill": {
     "duration": 0.059677,
     "end_time": "2020-08-18T01:10:47.467769",
     "exception": false,
     "start_time": "2020-08-18T01:10:47.408092",
     "status": "completed"
    },
    "tags": []
   },
   "outputs": [],
   "source": [
    "df = pd.concat([df_r,df[[\"Outcome\",\"BMIRanges_Healthy\",\"BMIRanges_Overweight\",\"BMIRanges_Obese\",\"INSULIN_DESC_Normal\",\"NewGlucose_Normal\",\"NewGlucose_Secret\",\"NewGlucose_High\"]]],axis=1)"
   ]
  },
  {
   "cell_type": "code",
   "execution_count": 48,
   "metadata": {
    "execution": {
     "iopub.execute_input": "2020-08-18T01:10:47.589814Z",
     "iopub.status.busy": "2020-08-18T01:10:47.575456Z",
     "iopub.status.idle": "2020-08-18T01:10:47.596868Z",
     "shell.execute_reply": "2020-08-18T01:10:47.596178Z"
    },
    "papermill": {
     "duration": 0.082686,
     "end_time": "2020-08-18T01:10:47.597014",
     "exception": false,
     "start_time": "2020-08-18T01:10:47.514328",
     "status": "completed"
    },
    "tags": []
   },
   "outputs": [
    {
     "data": {
      "text/html": [
       "<div>\n",
       "<style scoped>\n",
       "    .dataframe tbody tr th:only-of-type {\n",
       "        vertical-align: middle;\n",
       "    }\n",
       "\n",
       "    .dataframe tbody tr th {\n",
       "        vertical-align: top;\n",
       "    }\n",
       "\n",
       "    .dataframe thead th {\n",
       "        text-align: right;\n",
       "    }\n",
       "</style>\n",
       "<table border=\"1\" class=\"dataframe\">\n",
       "  <thead>\n",
       "    <tr style=\"text-align: right;\">\n",
       "      <th></th>\n",
       "      <th>Pregnancies</th>\n",
       "      <th>Glucose</th>\n",
       "      <th>BloodPressure</th>\n",
       "      <th>SkinThickness</th>\n",
       "      <th>Insulin</th>\n",
       "      <th>BMI</th>\n",
       "      <th>DiabetesPedigreeFunction</th>\n",
       "      <th>Age</th>\n",
       "      <th>Outcome</th>\n",
       "      <th>BMIRanges_Healthy</th>\n",
       "      <th>BMIRanges_Overweight</th>\n",
       "      <th>BMIRanges_Obese</th>\n",
       "      <th>INSULIN_DESC_Normal</th>\n",
       "      <th>NewGlucose_Normal</th>\n",
       "      <th>NewGlucose_Secret</th>\n",
       "      <th>NewGlucose_High</th>\n",
       "    </tr>\n",
       "  </thead>\n",
       "  <tbody>\n",
       "    <tr>\n",
       "      <th>0</th>\n",
       "      <td>0.6</td>\n",
       "      <td>0.751515</td>\n",
       "      <td>0.000</td>\n",
       "      <td>0.875</td>\n",
       "      <td>0.897033</td>\n",
       "      <td>0.170330</td>\n",
       "      <td>0.665359</td>\n",
       "      <td>1.235294</td>\n",
       "      <td>1</td>\n",
       "      <td>0</td>\n",
       "      <td>0</td>\n",
       "      <td>1</td>\n",
       "      <td>0</td>\n",
       "      <td>0</td>\n",
       "      <td>0</td>\n",
       "      <td>1</td>\n",
       "    </tr>\n",
       "    <tr>\n",
       "      <th>1</th>\n",
       "      <td>-0.4</td>\n",
       "      <td>-0.775758</td>\n",
       "      <td>-0.375</td>\n",
       "      <td>0.125</td>\n",
       "      <td>0.000000</td>\n",
       "      <td>-0.598901</td>\n",
       "      <td>-0.056209</td>\n",
       "      <td>0.117647</td>\n",
       "      <td>0</td>\n",
       "      <td>0</td>\n",
       "      <td>1</td>\n",
       "      <td>0</td>\n",
       "      <td>1</td>\n",
       "      <td>1</td>\n",
       "      <td>0</td>\n",
       "      <td>0</td>\n",
       "    </tr>\n",
       "    <tr>\n",
       "      <th>2</th>\n",
       "      <td>1.0</td>\n",
       "      <td>1.600000</td>\n",
       "      <td>-0.500</td>\n",
       "      <td>0.625</td>\n",
       "      <td>0.897033</td>\n",
       "      <td>-0.961538</td>\n",
       "      <td>0.783007</td>\n",
       "      <td>0.176471</td>\n",
       "      <td>1</td>\n",
       "      <td>1</td>\n",
       "      <td>0</td>\n",
       "      <td>0</td>\n",
       "      <td>0</td>\n",
       "      <td>0</td>\n",
       "      <td>0</td>\n",
       "      <td>1</td>\n",
       "    </tr>\n",
       "    <tr>\n",
       "      <th>3</th>\n",
       "      <td>-0.4</td>\n",
       "      <td>-0.678788</td>\n",
       "      <td>-0.375</td>\n",
       "      <td>-0.625</td>\n",
       "      <td>-0.425185</td>\n",
       "      <td>-0.434066</td>\n",
       "      <td>-0.537255</td>\n",
       "      <td>-0.470588</td>\n",
       "      <td>0</td>\n",
       "      <td>0</td>\n",
       "      <td>1</td>\n",
       "      <td>0</td>\n",
       "      <td>1</td>\n",
       "      <td>1</td>\n",
       "      <td>0</td>\n",
       "      <td>0</td>\n",
       "    </tr>\n",
       "    <tr>\n",
       "      <th>4</th>\n",
       "      <td>-0.6</td>\n",
       "      <td>0.484848</td>\n",
       "      <td>-2.000</td>\n",
       "      <td>0.875</td>\n",
       "      <td>0.441873</td>\n",
       "      <td>1.214286</td>\n",
       "      <td>5.007843</td>\n",
       "      <td>0.235294</td>\n",
       "      <td>1</td>\n",
       "      <td>0</td>\n",
       "      <td>0</td>\n",
       "      <td>1</td>\n",
       "      <td>0</td>\n",
       "      <td>0</td>\n",
       "      <td>0</td>\n",
       "      <td>1</td>\n",
       "    </tr>\n",
       "    <tr>\n",
       "      <th>...</th>\n",
       "      <td>...</td>\n",
       "      <td>...</td>\n",
       "      <td>...</td>\n",
       "      <td>...</td>\n",
       "      <td>...</td>\n",
       "      <td>...</td>\n",
       "      <td>...</td>\n",
       "      <td>...</td>\n",
       "      <td>...</td>\n",
       "      <td>...</td>\n",
       "      <td>...</td>\n",
       "      <td>...</td>\n",
       "      <td>...</td>\n",
       "      <td>...</td>\n",
       "      <td>...</td>\n",
       "      <td>...</td>\n",
       "    </tr>\n",
       "    <tr>\n",
       "      <th>763</th>\n",
       "      <td>1.4</td>\n",
       "      <td>-0.387879</td>\n",
       "      <td>0.250</td>\n",
       "      <td>2.500</td>\n",
       "      <td>0.582476</td>\n",
       "      <td>0.093407</td>\n",
       "      <td>-0.526797</td>\n",
       "      <td>2.000000</td>\n",
       "      <td>0</td>\n",
       "      <td>0</td>\n",
       "      <td>0</td>\n",
       "      <td>1</td>\n",
       "      <td>0</td>\n",
       "      <td>0</td>\n",
       "      <td>1</td>\n",
       "      <td>0</td>\n",
       "    </tr>\n",
       "    <tr>\n",
       "      <th>764</th>\n",
       "      <td>-0.2</td>\n",
       "      <td>0.121212</td>\n",
       "      <td>-0.125</td>\n",
       "      <td>-0.125</td>\n",
       "      <td>0.000000</td>\n",
       "      <td>0.521978</td>\n",
       "      <td>-0.084967</td>\n",
       "      <td>-0.117647</td>\n",
       "      <td>0</td>\n",
       "      <td>0</td>\n",
       "      <td>0</td>\n",
       "      <td>1</td>\n",
       "      <td>1</td>\n",
       "      <td>0</td>\n",
       "      <td>1</td>\n",
       "      <td>0</td>\n",
       "    </tr>\n",
       "    <tr>\n",
       "      <th>765</th>\n",
       "      <td>0.4</td>\n",
       "      <td>0.096970</td>\n",
       "      <td>0.000</td>\n",
       "      <td>-0.625</td>\n",
       "      <td>-0.214279</td>\n",
       "      <td>-0.642857</td>\n",
       "      <td>-0.333333</td>\n",
       "      <td>0.058824</td>\n",
       "      <td>0</td>\n",
       "      <td>0</td>\n",
       "      <td>1</td>\n",
       "      <td>0</td>\n",
       "      <td>1</td>\n",
       "      <td>0</td>\n",
       "      <td>1</td>\n",
       "      <td>0</td>\n",
       "    </tr>\n",
       "    <tr>\n",
       "      <th>766</th>\n",
       "      <td>-0.4</td>\n",
       "      <td>0.218182</td>\n",
       "      <td>-0.750</td>\n",
       "      <td>0.625</td>\n",
       "      <td>0.897033</td>\n",
       "      <td>-0.214286</td>\n",
       "      <td>-0.061438</td>\n",
       "      <td>1.058824</td>\n",
       "      <td>1</td>\n",
       "      <td>0</td>\n",
       "      <td>0</td>\n",
       "      <td>1</td>\n",
       "      <td>0</td>\n",
       "      <td>0</td>\n",
       "      <td>1</td>\n",
       "      <td>0</td>\n",
       "    </tr>\n",
       "    <tr>\n",
       "      <th>767</th>\n",
       "      <td>-0.4</td>\n",
       "      <td>-0.581818</td>\n",
       "      <td>-0.125</td>\n",
       "      <td>0.375</td>\n",
       "      <td>0.000000</td>\n",
       "      <td>-0.181319</td>\n",
       "      <td>-0.150327</td>\n",
       "      <td>-0.352941</td>\n",
       "      <td>0</td>\n",
       "      <td>0</td>\n",
       "      <td>0</td>\n",
       "      <td>1</td>\n",
       "      <td>1</td>\n",
       "      <td>1</td>\n",
       "      <td>0</td>\n",
       "      <td>0</td>\n",
       "    </tr>\n",
       "  </tbody>\n",
       "</table>\n",
       "<p>768 rows × 16 columns</p>\n",
       "</div>"
      ],
      "text/plain": [
       "     Pregnancies   Glucose  BloodPressure  SkinThickness   Insulin       BMI  \\\n",
       "0            0.6  0.751515          0.000          0.875  0.897033  0.170330   \n",
       "1           -0.4 -0.775758         -0.375          0.125  0.000000 -0.598901   \n",
       "2            1.0  1.600000         -0.500          0.625  0.897033 -0.961538   \n",
       "3           -0.4 -0.678788         -0.375         -0.625 -0.425185 -0.434066   \n",
       "4           -0.6  0.484848         -2.000          0.875  0.441873  1.214286   \n",
       "..           ...       ...            ...            ...       ...       ...   \n",
       "763          1.4 -0.387879          0.250          2.500  0.582476  0.093407   \n",
       "764         -0.2  0.121212         -0.125         -0.125  0.000000  0.521978   \n",
       "765          0.4  0.096970          0.000         -0.625 -0.214279 -0.642857   \n",
       "766         -0.4  0.218182         -0.750          0.625  0.897033 -0.214286   \n",
       "767         -0.4 -0.581818         -0.125          0.375  0.000000 -0.181319   \n",
       "\n",
       "     DiabetesPedigreeFunction       Age  Outcome  BMIRanges_Healthy  \\\n",
       "0                    0.665359  1.235294        1                  0   \n",
       "1                   -0.056209  0.117647        0                  0   \n",
       "2                    0.783007  0.176471        1                  1   \n",
       "3                   -0.537255 -0.470588        0                  0   \n",
       "4                    5.007843  0.235294        1                  0   \n",
       "..                        ...       ...      ...                ...   \n",
       "763                 -0.526797  2.000000        0                  0   \n",
       "764                 -0.084967 -0.117647        0                  0   \n",
       "765                 -0.333333  0.058824        0                  0   \n",
       "766                 -0.061438  1.058824        1                  0   \n",
       "767                 -0.150327 -0.352941        0                  0   \n",
       "\n",
       "     BMIRanges_Overweight  BMIRanges_Obese  INSULIN_DESC_Normal  \\\n",
       "0                       0                1                    0   \n",
       "1                       1                0                    1   \n",
       "2                       0                0                    0   \n",
       "3                       1                0                    1   \n",
       "4                       0                1                    0   \n",
       "..                    ...              ...                  ...   \n",
       "763                     0                1                    0   \n",
       "764                     0                1                    1   \n",
       "765                     1                0                    1   \n",
       "766                     0                1                    0   \n",
       "767                     0                1                    1   \n",
       "\n",
       "     NewGlucose_Normal  NewGlucose_Secret  NewGlucose_High  \n",
       "0                    0                  0                1  \n",
       "1                    1                  0                0  \n",
       "2                    0                  0                1  \n",
       "3                    1                  0                0  \n",
       "4                    0                  0                1  \n",
       "..                 ...                ...              ...  \n",
       "763                  0                  1                0  \n",
       "764                  0                  1                0  \n",
       "765                  0                  1                0  \n",
       "766                  0                  1                0  \n",
       "767                  1                  0                0  \n",
       "\n",
       "[768 rows x 16 columns]"
      ]
     },
     "execution_count": 48,
     "metadata": {},
     "output_type": "execute_result"
    }
   ],
   "source": [
    "df"
   ]
  },
  {
   "cell_type": "code",
   "execution_count": 49,
   "metadata": {
    "execution": {
     "iopub.execute_input": "2020-08-18T01:10:47.699709Z",
     "iopub.status.busy": "2020-08-18T01:10:47.698855Z",
     "iopub.status.idle": "2020-08-18T01:10:47.715012Z",
     "shell.execute_reply": "2020-08-18T01:10:47.714021Z"
    },
    "papermill": {
     "duration": 0.07026,
     "end_time": "2020-08-18T01:10:47.715232",
     "exception": false,
     "start_time": "2020-08-18T01:10:47.644972",
     "status": "completed"
    },
    "tags": []
   },
   "outputs": [
    {
     "name": "stdout",
     "output_type": "stream",
     "text": [
      "<class 'pandas.core.frame.DataFrame'>\n",
      "RangeIndex: 768 entries, 0 to 767\n",
      "Data columns (total 16 columns):\n",
      " #   Column                    Non-Null Count  Dtype  \n",
      "---  ------                    --------------  -----  \n",
      " 0   Pregnancies               768 non-null    float64\n",
      " 1   Glucose                   768 non-null    float64\n",
      " 2   BloodPressure             768 non-null    float64\n",
      " 3   SkinThickness             768 non-null    float64\n",
      " 4   Insulin                   768 non-null    float64\n",
      " 5   BMI                       768 non-null    float64\n",
      " 6   DiabetesPedigreeFunction  768 non-null    float64\n",
      " 7   Age                       768 non-null    float64\n",
      " 8   Outcome                   768 non-null    int64  \n",
      " 9   BMIRanges_Healthy         768 non-null    uint8  \n",
      " 10  BMIRanges_Overweight      768 non-null    uint8  \n",
      " 11  BMIRanges_Obese           768 non-null    uint8  \n",
      " 12  INSULIN_DESC_Normal       768 non-null    uint8  \n",
      " 13  NewGlucose_Normal         768 non-null    uint8  \n",
      " 14  NewGlucose_Secret         768 non-null    uint8  \n",
      " 15  NewGlucose_High           768 non-null    uint8  \n",
      "dtypes: float64(8), int64(1), uint8(7)\n",
      "memory usage: 59.4 KB\n"
     ]
    }
   ],
   "source": [
    "df.info()"
   ]
  },
  {
   "cell_type": "code",
   "execution_count": null,
   "metadata": {
    "papermill": {
     "duration": 0.047394,
     "end_time": "2020-08-18T01:10:47.813062",
     "exception": false,
     "start_time": "2020-08-18T01:10:47.765668",
     "status": "completed"
    },
    "tags": []
   },
   "outputs": [],
   "source": []
  },
  {
   "cell_type": "code",
   "execution_count": 50,
   "metadata": {
    "execution": {
     "iopub.execute_input": "2020-08-18T01:10:47.922722Z",
     "iopub.status.busy": "2020-08-18T01:10:47.919021Z",
     "iopub.status.idle": "2020-08-18T01:10:55.846093Z",
     "shell.execute_reply": "2020-08-18T01:10:55.846939Z"
    },
    "papermill": {
     "duration": 7.985427,
     "end_time": "2020-08-18T01:10:55.847224",
     "exception": false,
     "start_time": "2020-08-18T01:10:47.861797",
     "status": "completed"
    },
    "tags": []
   },
   "outputs": [
    {
     "name": "stdout",
     "output_type": "stream",
     "text": [
      "Holdout Method: LR 0.8571428571428571\n",
      "Cross Val Score LR 0.8462576896787424\n",
      "------------------------------------\n",
      "Holdout Method: KNN 0.7922077922077922\n",
      "Cross Val Score KNN 0.8268113465481888\n",
      "------------------------------------\n",
      "Holdout Method: SVR 0.8506493506493507\n",
      "Cross Val Score SVR 0.8436773752563227\n",
      "------------------------------------\n",
      "Holdout Method: CART 0.7727272727272727\n",
      "Cross Val Score CART 0.8607484620642515\n",
      "------------------------------------\n",
      "Holdout Method: RandomForests 0.8376623376623377\n",
      "Cross Val Score RandomForests 0.878879015721121\n",
      "------------------------------------\n",
      "Holdout Method: GradientBoosting 0.8636363636363636\n",
      "Cross Val Score GradientBoosting 0.8984962406015038\n",
      "------------------------------------\n",
      "Holdout Method: XGBoost 0.8441558441558441\n",
      "Cross Val Score XGBoost 0.8868079289131922\n",
      "------------------------------------\n",
      "Holdout Method: Light GBM 0.8701298701298701\n",
      "Cross Val Score Light GBM 0.8920027341079972\n",
      "------------------------------------\n"
     ]
    }
   ],
   "source": [
    "X = df.drop(\"Outcome\",axis=1)\n",
    "y = df[\"Outcome\"]\n",
    "\n",
    "X_train, X_test, y_train, y_test = train_test_split(X,y,test_size=0.2,random_state=46)\n",
    "\n",
    "for name,model in models:\n",
    "    mod = model.fit(X_train,y_train) #trainleri modele fit etmek\n",
    "    y_pred = mod.predict(X_test) # tahmin\n",
    "    acc = accuracy_score(y_test, y_pred) #rmse hesabı\n",
    "    cvscore = cross_val_score(model, X,y, cv = 10).mean()\n",
    "    print(\"Holdout Method:\",end=\" \")\n",
    "    print(name,acc) #yazdırılacak kısım\n",
    "    print(\"Cross Val Score\",end=\" \")\n",
    "    print(name,cvscore)\n",
    "    print(\"------------------------------------\")"
   ]
  },
  {
   "cell_type": "code",
   "execution_count": null,
   "metadata": {
    "papermill": {
     "duration": 0.075917,
     "end_time": "2020-08-18T01:10:55.984007",
     "exception": false,
     "start_time": "2020-08-18T01:10:55.908090",
     "status": "completed"
    },
    "tags": []
   },
   "outputs": [],
   "source": []
  },
  {
   "cell_type": "markdown",
   "metadata": {
    "papermill": {
     "duration": 0.047592,
     "end_time": "2020-08-18T01:10:56.089332",
     "exception": false,
     "start_time": "2020-08-18T01:10:56.041740",
     "status": "completed"
    },
    "tags": []
   },
   "source": [
    "# KNN Model Tuning"
   ]
  },
  {
   "cell_type": "code",
   "execution_count": 51,
   "metadata": {
    "execution": {
     "iopub.execute_input": "2020-08-18T01:10:56.197699Z",
     "iopub.status.busy": "2020-08-18T01:10:56.196783Z",
     "iopub.status.idle": "2020-08-18T01:11:00.022657Z",
     "shell.execute_reply": "2020-08-18T01:11:00.021896Z"
    },
    "papermill": {
     "duration": 3.885591,
     "end_time": "2020-08-18T01:11:00.022819",
     "exception": false,
     "start_time": "2020-08-18T01:10:56.137228",
     "status": "completed"
    },
    "tags": []
   },
   "outputs": [],
   "source": [
    "knn_params = {\"n_neighbors\": np.arange(2,30,1)}\n",
    "\n",
    "knn_model = KNeighborsClassifier()\n",
    "\n",
    "knn_cv_model = GridSearchCV(knn_model, knn_params, cv = 10).fit(X,y)"
   ]
  },
  {
   "cell_type": "code",
   "execution_count": 52,
   "metadata": {
    "execution": {
     "iopub.execute_input": "2020-08-18T01:11:00.127458Z",
     "iopub.status.busy": "2020-08-18T01:11:00.126494Z",
     "iopub.status.idle": "2020-08-18T01:11:00.130650Z",
     "shell.execute_reply": "2020-08-18T01:11:00.131391Z"
    },
    "papermill": {
     "duration": 0.059427,
     "end_time": "2020-08-18T01:11:00.131566",
     "exception": false,
     "start_time": "2020-08-18T01:11:00.072139",
     "status": "completed"
    },
    "tags": []
   },
   "outputs": [
    {
     "data": {
      "text/plain": [
       "{'n_neighbors': 27}"
      ]
     },
     "execution_count": 52,
     "metadata": {},
     "output_type": "execute_result"
    }
   ],
   "source": [
    "knn_cv_model.best_params_"
   ]
  },
  {
   "cell_type": "code",
   "execution_count": 53,
   "metadata": {
    "execution": {
     "iopub.execute_input": "2020-08-18T01:11:00.237422Z",
     "iopub.status.busy": "2020-08-18T01:11:00.236558Z",
     "iopub.status.idle": "2020-08-18T01:11:00.241601Z",
     "shell.execute_reply": "2020-08-18T01:11:00.242188Z"
    },
    "papermill": {
     "duration": 0.062376,
     "end_time": "2020-08-18T01:11:00.242367",
     "exception": false,
     "start_time": "2020-08-18T01:11:00.179991",
     "status": "completed"
    },
    "tags": []
   },
   "outputs": [],
   "source": [
    "knn_tuned = KNeighborsClassifier(**knn_cv_model.best_params_).fit(X,y)\n"
   ]
  },
  {
   "cell_type": "code",
   "execution_count": 54,
   "metadata": {
    "execution": {
     "iopub.execute_input": "2020-08-18T01:11:00.356629Z",
     "iopub.status.busy": "2020-08-18T01:11:00.355745Z",
     "iopub.status.idle": "2020-08-18T01:11:00.520496Z",
     "shell.execute_reply": "2020-08-18T01:11:00.519509Z"
    },
    "papermill": {
     "duration": 0.229623,
     "end_time": "2020-08-18T01:11:00.520673",
     "exception": false,
     "start_time": "2020-08-18T01:11:00.291050",
     "status": "completed"
    },
    "tags": []
   },
   "outputs": [
    {
     "data": {
      "text/plain": [
       "0.8489747095010254"
      ]
     },
     "execution_count": 54,
     "metadata": {},
     "output_type": "execute_result"
    }
   ],
   "source": [
    "cross_val_score(knn_tuned, X,y, cv = 10).mean()"
   ]
  },
  {
   "cell_type": "markdown",
   "metadata": {
    "papermill": {
     "duration": 0.048129,
     "end_time": "2020-08-18T01:11:00.618201",
     "exception": false,
     "start_time": "2020-08-18T01:11:00.570072",
     "status": "completed"
    },
    "tags": []
   },
   "source": [
    "# CART Model Tuning"
   ]
  },
  {
   "cell_type": "code",
   "execution_count": 55,
   "metadata": {
    "execution": {
     "iopub.execute_input": "2020-08-18T01:11:00.723230Z",
     "iopub.status.busy": "2020-08-18T01:11:00.722009Z",
     "iopub.status.idle": "2020-08-18T01:11:00.725830Z",
     "shell.execute_reply": "2020-08-18T01:11:00.725037Z"
    },
    "papermill": {
     "duration": 0.059167,
     "end_time": "2020-08-18T01:11:00.725977",
     "exception": false,
     "start_time": "2020-08-18T01:11:00.666810",
     "status": "completed"
    },
    "tags": []
   },
   "outputs": [],
   "source": [
    "cart_model = DecisionTreeClassifier()"
   ]
  },
  {
   "cell_type": "code",
   "execution_count": 56,
   "metadata": {
    "execution": {
     "iopub.execute_input": "2020-08-18T01:11:00.830502Z",
     "iopub.status.busy": "2020-08-18T01:11:00.829535Z",
     "iopub.status.idle": "2020-08-18T01:11:00.832998Z",
     "shell.execute_reply": "2020-08-18T01:11:00.832249Z"
    },
    "papermill": {
     "duration": 0.058227,
     "end_time": "2020-08-18T01:11:00.833146",
     "exception": false,
     "start_time": "2020-08-18T01:11:00.774919",
     "status": "completed"
    },
    "tags": []
   },
   "outputs": [],
   "source": [
    "cart_params = {\"max_depth\": [2,3,4,5,10,20,100, 1000],\n",
    "              \"min_samples_split\": [2,10,5,30,50,10]}"
   ]
  },
  {
   "cell_type": "code",
   "execution_count": 57,
   "metadata": {
    "execution": {
     "iopub.execute_input": "2020-08-18T01:11:00.938510Z",
     "iopub.status.busy": "2020-08-18T01:11:00.937571Z",
     "iopub.status.idle": "2020-08-18T01:11:04.666213Z",
     "shell.execute_reply": "2020-08-18T01:11:04.665449Z"
    },
    "papermill": {
     "duration": 3.785095,
     "end_time": "2020-08-18T01:11:04.666357",
     "exception": false,
     "start_time": "2020-08-18T01:11:00.881262",
     "status": "completed"
    },
    "tags": []
   },
   "outputs": [
    {
     "name": "stdout",
     "output_type": "stream",
     "text": [
      "Fitting 10 folds for each of 48 candidates, totalling 480 fits\n"
     ]
    },
    {
     "name": "stderr",
     "output_type": "stream",
     "text": [
      "[Parallel(n_jobs=-1)]: Using backend LokyBackend with 4 concurrent workers.\n",
      "[Parallel(n_jobs=-1)]: Done  38 tasks      | elapsed:    1.8s\n",
      "[Parallel(n_jobs=-1)]: Done 480 out of 480 | elapsed:    3.7s finished\n"
     ]
    }
   ],
   "source": [
    "cart_cv_model = GridSearchCV(cart_model, cart_params, cv = 10, n_jobs = -1, verbose =  2).fit(X,y)"
   ]
  },
  {
   "cell_type": "code",
   "execution_count": 58,
   "metadata": {
    "execution": {
     "iopub.execute_input": "2020-08-18T01:11:04.772833Z",
     "iopub.status.busy": "2020-08-18T01:11:04.771542Z",
     "iopub.status.idle": "2020-08-18T01:11:04.776299Z",
     "shell.execute_reply": "2020-08-18T01:11:04.775695Z"
    },
    "papermill": {
     "duration": 0.060355,
     "end_time": "2020-08-18T01:11:04.776440",
     "exception": false,
     "start_time": "2020-08-18T01:11:04.716085",
     "status": "completed"
    },
    "tags": []
   },
   "outputs": [
    {
     "data": {
      "text/plain": [
       "{'max_depth': 4, 'min_samples_split': 30}"
      ]
     },
     "execution_count": 58,
     "metadata": {},
     "output_type": "execute_result"
    }
   ],
   "source": [
    "cart_cv_model.best_params_"
   ]
  },
  {
   "cell_type": "code",
   "execution_count": 59,
   "metadata": {
    "execution": {
     "iopub.execute_input": "2020-08-18T01:11:04.884190Z",
     "iopub.status.busy": "2020-08-18T01:11:04.883057Z",
     "iopub.status.idle": "2020-08-18T01:11:04.890179Z",
     "shell.execute_reply": "2020-08-18T01:11:04.889542Z"
    },
    "papermill": {
     "duration": 0.064857,
     "end_time": "2020-08-18T01:11:04.890320",
     "exception": false,
     "start_time": "2020-08-18T01:11:04.825463",
     "status": "completed"
    },
    "tags": []
   },
   "outputs": [],
   "source": [
    "cart_tuned = DecisionTreeClassifier(**cart_cv_model.best_params_).fit(X,y)"
   ]
  },
  {
   "cell_type": "code",
   "execution_count": 60,
   "metadata": {
    "execution": {
     "iopub.execute_input": "2020-08-18T01:11:04.995639Z",
     "iopub.status.busy": "2020-08-18T01:11:04.994697Z",
     "iopub.status.idle": "2020-08-18T01:11:05.094279Z",
     "shell.execute_reply": "2020-08-18T01:11:05.093561Z"
    },
    "papermill": {
     "duration": 0.154723,
     "end_time": "2020-08-18T01:11:05.094422",
     "exception": false,
     "start_time": "2020-08-18T01:11:04.939699",
     "status": "completed"
    },
    "tags": []
   },
   "outputs": [
    {
     "data": {
      "text/plain": [
       "0.876332877648667"
      ]
     },
     "execution_count": 60,
     "metadata": {},
     "output_type": "execute_result"
    }
   ],
   "source": [
    "cross_val_score(cart_tuned, X,y, cv = 10).mean()"
   ]
  },
  {
   "cell_type": "markdown",
   "metadata": {
    "papermill": {
     "duration": 0.049621,
     "end_time": "2020-08-18T01:11:05.194494",
     "exception": false,
     "start_time": "2020-08-18T01:11:05.144873",
     "status": "completed"
    },
    "tags": []
   },
   "source": [
    "# RF Model Tuning"
   ]
  },
  {
   "cell_type": "code",
   "execution_count": 61,
   "metadata": {
    "execution": {
     "iopub.execute_input": "2020-08-18T01:11:05.303216Z",
     "iopub.status.busy": "2020-08-18T01:11:05.302023Z",
     "iopub.status.idle": "2020-08-18T01:11:05.305685Z",
     "shell.execute_reply": "2020-08-18T01:11:05.304901Z"
    },
    "papermill": {
     "duration": 0.059977,
     "end_time": "2020-08-18T01:11:05.305824",
     "exception": false,
     "start_time": "2020-08-18T01:11:05.245847",
     "status": "completed"
    },
    "tags": []
   },
   "outputs": [],
   "source": [
    "rf_params = {\"max_depth\": [5,10,None],\n",
    "            \"max_features\": [2,5,10],\n",
    "            \"n_estimators\": [100, 500, 900],\n",
    "            \"min_samples_split\": [2,10,30]}"
   ]
  },
  {
   "cell_type": "code",
   "execution_count": 62,
   "metadata": {
    "execution": {
     "iopub.execute_input": "2020-08-18T01:11:05.412917Z",
     "iopub.status.busy": "2020-08-18T01:11:05.411805Z",
     "iopub.status.idle": "2020-08-18T01:11:05.415518Z",
     "shell.execute_reply": "2020-08-18T01:11:05.414688Z"
    },
    "papermill": {
     "duration": 0.06039,
     "end_time": "2020-08-18T01:11:05.415657",
     "exception": false,
     "start_time": "2020-08-18T01:11:05.355267",
     "status": "completed"
    },
    "tags": []
   },
   "outputs": [],
   "source": [
    "rf_model = RandomForestClassifier()"
   ]
  },
  {
   "cell_type": "code",
   "execution_count": 63,
   "metadata": {
    "execution": {
     "iopub.execute_input": "2020-08-18T01:11:05.523739Z",
     "iopub.status.busy": "2020-08-18T01:11:05.522516Z",
     "iopub.status.idle": "2020-08-18T01:18:32.181355Z",
     "shell.execute_reply": "2020-08-18T01:18:32.181990Z"
    },
    "papermill": {
     "duration": 446.716694,
     "end_time": "2020-08-18T01:18:32.182473",
     "exception": false,
     "start_time": "2020-08-18T01:11:05.465779",
     "status": "completed"
    },
    "tags": []
   },
   "outputs": [
    {
     "name": "stdout",
     "output_type": "stream",
     "text": [
      "Fitting 10 folds for each of 81 candidates, totalling 810 fits\n"
     ]
    },
    {
     "name": "stderr",
     "output_type": "stream",
     "text": [
      "[Parallel(n_jobs=-1)]: Using backend LokyBackend with 4 concurrent workers.\n",
      "[Parallel(n_jobs=-1)]: Done  33 tasks      | elapsed:   14.1s\n",
      "[Parallel(n_jobs=-1)]: Done 154 tasks      | elapsed:  1.2min\n",
      "[Parallel(n_jobs=-1)]: Done 357 tasks      | elapsed:  3.1min\n",
      "[Parallel(n_jobs=-1)]: Done 640 tasks      | elapsed:  5.6min\n",
      "[Parallel(n_jobs=-1)]: Done 810 out of 810 | elapsed:  7.4min finished\n"
     ]
    }
   ],
   "source": [
    "rf_cv_model = GridSearchCV(rf_model, rf_params, cv = 10, n_jobs = -1, verbose = 2).fit(X,y)"
   ]
  },
  {
   "cell_type": "code",
   "execution_count": 64,
   "metadata": {
    "execution": {
     "iopub.execute_input": "2020-08-18T01:18:32.293729Z",
     "iopub.status.busy": "2020-08-18T01:18:32.292513Z",
     "iopub.status.idle": "2020-08-18T01:18:32.297446Z",
     "shell.execute_reply": "2020-08-18T01:18:32.296662Z"
    },
    "papermill": {
     "duration": 0.063539,
     "end_time": "2020-08-18T01:18:32.297583",
     "exception": false,
     "start_time": "2020-08-18T01:18:32.234044",
     "status": "completed"
    },
    "tags": []
   },
   "outputs": [
    {
     "data": {
      "text/plain": [
       "{'max_depth': 10,\n",
       " 'max_features': 10,\n",
       " 'min_samples_split': 2,\n",
       " 'n_estimators': 900}"
      ]
     },
     "execution_count": 64,
     "metadata": {},
     "output_type": "execute_result"
    }
   ],
   "source": [
    "rf_cv_model.best_params_"
   ]
  },
  {
   "cell_type": "code",
   "execution_count": 65,
   "metadata": {
    "execution": {
     "iopub.execute_input": "2020-08-18T01:18:32.410325Z",
     "iopub.status.busy": "2020-08-18T01:18:32.409373Z",
     "iopub.status.idle": "2020-08-18T01:18:35.588337Z",
     "shell.execute_reply": "2020-08-18T01:18:35.587578Z"
    },
    "papermill": {
     "duration": 3.240005,
     "end_time": "2020-08-18T01:18:35.588495",
     "exception": false,
     "start_time": "2020-08-18T01:18:32.348490",
     "status": "completed"
    },
    "tags": []
   },
   "outputs": [],
   "source": [
    "rf_tuned = RandomForestClassifier(**rf_cv_model.best_params_).fit(X,y)"
   ]
  },
  {
   "cell_type": "code",
   "execution_count": 66,
   "metadata": {
    "execution": {
     "iopub.execute_input": "2020-08-18T01:18:35.701286Z",
     "iopub.status.busy": "2020-08-18T01:18:35.700444Z",
     "iopub.status.idle": "2020-08-18T01:19:06.917493Z",
     "shell.execute_reply": "2020-08-18T01:19:06.918139Z"
    },
    "papermill": {
     "duration": 31.277931,
     "end_time": "2020-08-18T01:19:06.918336",
     "exception": false,
     "start_time": "2020-08-18T01:18:35.640405",
     "status": "completed"
    },
    "tags": []
   },
   "outputs": [
    {
     "data": {
      "text/plain": [
       "0.8893711551606287"
      ]
     },
     "execution_count": 66,
     "metadata": {},
     "output_type": "execute_result"
    }
   ],
   "source": [
    "cross_val_score(rf_tuned, X,y, cv = 10).mean()"
   ]
  },
  {
   "cell_type": "markdown",
   "metadata": {
    "papermill": {
     "duration": 0.05006,
     "end_time": "2020-08-18T01:19:07.019392",
     "exception": false,
     "start_time": "2020-08-18T01:19:06.969332",
     "status": "completed"
    },
    "tags": []
   },
   "source": [
    "# SVC Model Tuning"
   ]
  },
  {
   "cell_type": "code",
   "execution_count": 67,
   "metadata": {
    "execution": {
     "iopub.execute_input": "2020-08-18T01:19:07.127444Z",
     "iopub.status.busy": "2020-08-18T01:19:07.126441Z",
     "iopub.status.idle": "2020-08-18T01:19:07.128990Z",
     "shell.execute_reply": "2020-08-18T01:19:07.129568Z"
    },
    "papermill": {
     "duration": 0.05954,
     "end_time": "2020-08-18T01:19:07.129745",
     "exception": false,
     "start_time": "2020-08-18T01:19:07.070205",
     "status": "completed"
    },
    "tags": []
   },
   "outputs": [],
   "source": [
    "svc_model = SVC()"
   ]
  },
  {
   "cell_type": "code",
   "execution_count": 68,
   "metadata": {
    "execution": {
     "iopub.execute_input": "2020-08-18T01:19:07.252656Z",
     "iopub.status.busy": "2020-08-18T01:19:07.251503Z",
     "iopub.status.idle": "2020-08-18T01:19:08.766396Z",
     "shell.execute_reply": "2020-08-18T01:19:08.767173Z"
    },
    "papermill": {
     "duration": 1.584569,
     "end_time": "2020-08-18T01:19:08.767402",
     "exception": false,
     "start_time": "2020-08-18T01:19:07.182833",
     "status": "completed"
    },
    "tags": []
   },
   "outputs": [
    {
     "name": "stdout",
     "output_type": "stream",
     "text": [
      "Fitting 10 folds for each of 12 candidates, totalling 120 fits\n"
     ]
    },
    {
     "name": "stderr",
     "output_type": "stream",
     "text": [
      "[Parallel(n_jobs=-1)]: Using backend LokyBackend with 4 concurrent workers.\n",
      "[Parallel(n_jobs=-1)]: Done  92 tasks      | elapsed:    1.1s\n",
      "[Parallel(n_jobs=-1)]: Done 120 out of 120 | elapsed:    1.5s finished\n"
     ]
    }
   ],
   "source": [
    "svc_params = {\"C\": [0.01,0.001, 0.2, 0.1,0.5,0.8,0.9,1, 10, 100, 500,1000]}\n",
    "\n",
    "svc_cv_model = GridSearchCV(svc_model, svc_params, cv = 10, n_jobs = -1, verbose =  2).fit(X,y)"
   ]
  },
  {
   "cell_type": "code",
   "execution_count": 69,
   "metadata": {
    "execution": {
     "iopub.execute_input": "2020-08-18T01:19:08.878330Z",
     "iopub.status.busy": "2020-08-18T01:19:08.877083Z",
     "iopub.status.idle": "2020-08-18T01:19:08.881955Z",
     "shell.execute_reply": "2020-08-18T01:19:08.881295Z"
    },
    "papermill": {
     "duration": 0.062261,
     "end_time": "2020-08-18T01:19:08.882091",
     "exception": false,
     "start_time": "2020-08-18T01:19:08.819830",
     "status": "completed"
    },
    "tags": []
   },
   "outputs": [
    {
     "data": {
      "text/plain": [
       "{'C': 1}"
      ]
     },
     "execution_count": 69,
     "metadata": {},
     "output_type": "execute_result"
    }
   ],
   "source": [
    "svc_cv_model.best_params_"
   ]
  },
  {
   "cell_type": "code",
   "execution_count": 70,
   "metadata": {
    "execution": {
     "iopub.execute_input": "2020-08-18T01:19:08.993971Z",
     "iopub.status.busy": "2020-08-18T01:19:08.993188Z",
     "iopub.status.idle": "2020-08-18T01:19:09.016722Z",
     "shell.execute_reply": "2020-08-18T01:19:09.016016Z"
    },
    "papermill": {
     "duration": 0.083408,
     "end_time": "2020-08-18T01:19:09.016870",
     "exception": false,
     "start_time": "2020-08-18T01:19:08.933462",
     "status": "completed"
    },
    "tags": []
   },
   "outputs": [],
   "source": [
    "svc_tuned = SVC(**svc_cv_model.best_params_).fit(X,y)"
   ]
  },
  {
   "cell_type": "code",
   "execution_count": 71,
   "metadata": {
    "execution": {
     "iopub.execute_input": "2020-08-18T01:19:09.129855Z",
     "iopub.status.busy": "2020-08-18T01:19:09.128996Z",
     "iopub.status.idle": "2020-08-18T01:19:09.370501Z",
     "shell.execute_reply": "2020-08-18T01:19:09.369861Z"
    },
    "papermill": {
     "duration": 0.300564,
     "end_time": "2020-08-18T01:19:09.370647",
     "exception": false,
     "start_time": "2020-08-18T01:19:09.070083",
     "status": "completed"
    },
    "tags": []
   },
   "outputs": [
    {
     "data": {
      "text/plain": [
       "0.8436773752563227"
      ]
     },
     "execution_count": 71,
     "metadata": {},
     "output_type": "execute_result"
    }
   ],
   "source": [
    "cross_val_score(svc_tuned, X,y, cv = 10).mean()"
   ]
  },
  {
   "cell_type": "code",
   "execution_count": null,
   "metadata": {
    "papermill": {
     "duration": 0.051066,
     "end_time": "2020-08-18T01:19:09.473404",
     "exception": false,
     "start_time": "2020-08-18T01:19:09.422338",
     "status": "completed"
    },
    "tags": []
   },
   "outputs": [],
   "source": []
  },
  {
   "cell_type": "markdown",
   "metadata": {
    "papermill": {
     "duration": 0.051058,
     "end_time": "2020-08-18T01:19:09.576046",
     "exception": false,
     "start_time": "2020-08-18T01:19:09.524988",
     "status": "completed"
    },
    "tags": []
   },
   "source": [
    "# GB Model Tuning"
   ]
  },
  {
   "cell_type": "code",
   "execution_count": 72,
   "metadata": {
    "execution": {
     "iopub.execute_input": "2020-08-18T01:19:09.685671Z",
     "iopub.status.busy": "2020-08-18T01:19:09.684897Z",
     "iopub.status.idle": "2020-08-18T01:19:09.688621Z",
     "shell.execute_reply": "2020-08-18T01:19:09.687840Z"
    },
    "papermill": {
     "duration": 0.060487,
     "end_time": "2020-08-18T01:19:09.688779",
     "exception": false,
     "start_time": "2020-08-18T01:19:09.628292",
     "status": "completed"
    },
    "tags": []
   },
   "outputs": [],
   "source": [
    "gb_model = GradientBoostingClassifier()"
   ]
  },
  {
   "cell_type": "code",
   "execution_count": 73,
   "metadata": {
    "execution": {
     "iopub.execute_input": "2020-08-18T01:19:09.800135Z",
     "iopub.status.busy": "2020-08-18T01:19:09.799317Z",
     "iopub.status.idle": "2020-08-18T01:19:09.803081Z",
     "shell.execute_reply": "2020-08-18T01:19:09.802314Z"
    },
    "papermill": {
     "duration": 0.062299,
     "end_time": "2020-08-18T01:19:09.803240",
     "exception": false,
     "start_time": "2020-08-18T01:19:09.740941",
     "status": "completed"
    },
    "tags": []
   },
   "outputs": [],
   "source": [
    "gbm_params = {\"learning_rate\": [0.001,0.1,0.01],\n",
    "             \"max_depth\": [3,5,8,10],\n",
    "             \"n_estimators\": [200,500,1000],\n",
    "             \"subsample\": [1,0.5,0.8]}"
   ]
  },
  {
   "cell_type": "code",
   "execution_count": 74,
   "metadata": {
    "execution": {
     "iopub.execute_input": "2020-08-18T01:19:09.916824Z",
     "iopub.status.busy": "2020-08-18T01:19:09.915892Z",
     "iopub.status.idle": "2020-08-18T01:39:09.090686Z",
     "shell.execute_reply": "2020-08-18T01:39:09.089578Z"
    },
    "papermill": {
     "duration": 1199.234763,
     "end_time": "2020-08-18T01:39:09.090938",
     "exception": false,
     "start_time": "2020-08-18T01:19:09.856175",
     "status": "completed"
    },
    "tags": []
   },
   "outputs": [
    {
     "name": "stdout",
     "output_type": "stream",
     "text": [
      "Fitting 10 folds for each of 108 candidates, totalling 1080 fits\n"
     ]
    },
    {
     "name": "stderr",
     "output_type": "stream",
     "text": [
      "[Parallel(n_jobs=-1)]: Using backend LokyBackend with 4 concurrent workers.\n",
      "[Parallel(n_jobs=-1)]: Done  33 tasks      | elapsed:    5.9s\n",
      "[Parallel(n_jobs=-1)]: Done 154 tasks      | elapsed:  1.1min\n",
      "[Parallel(n_jobs=-1)]: Done 357 tasks      | elapsed:  6.9min\n",
      "[Parallel(n_jobs=-1)]: Done 640 tasks      | elapsed: 10.8min\n",
      "[Parallel(n_jobs=-1)]: Done 1005 tasks      | elapsed: 17.1min\n",
      "[Parallel(n_jobs=-1)]: Done 1080 out of 1080 | elapsed: 20.0min finished\n"
     ]
    }
   ],
   "source": [
    "gbm_cv_model = GridSearchCV(gb_model, \n",
    "                            gbm_params, \n",
    "                            cv = 10, \n",
    "                            n_jobs=-1, \n",
    "                            verbose = 2).fit(X,y)"
   ]
  },
  {
   "cell_type": "code",
   "execution_count": 75,
   "metadata": {
    "execution": {
     "iopub.execute_input": "2020-08-18T01:39:09.206027Z",
     "iopub.status.busy": "2020-08-18T01:39:09.204865Z",
     "iopub.status.idle": "2020-08-18T01:39:09.209313Z",
     "shell.execute_reply": "2020-08-18T01:39:09.209917Z"
    },
    "papermill": {
     "duration": 0.06621,
     "end_time": "2020-08-18T01:39:09.210096",
     "exception": false,
     "start_time": "2020-08-18T01:39:09.143886",
     "status": "completed"
    },
    "tags": []
   },
   "outputs": [
    {
     "data": {
      "text/plain": [
       "{'learning_rate': 0.01, 'max_depth': 5, 'n_estimators': 500, 'subsample': 1}"
      ]
     },
     "execution_count": 75,
     "metadata": {},
     "output_type": "execute_result"
    }
   ],
   "source": [
    "gbm_cv_model.best_params_\n"
   ]
  },
  {
   "cell_type": "code",
   "execution_count": 76,
   "metadata": {
    "execution": {
     "iopub.execute_input": "2020-08-18T01:39:09.325343Z",
     "iopub.status.busy": "2020-08-18T01:39:09.324416Z",
     "iopub.status.idle": "2020-08-18T01:39:11.206775Z",
     "shell.execute_reply": "2020-08-18T01:39:11.207449Z"
    },
    "papermill": {
     "duration": 1.944596,
     "end_time": "2020-08-18T01:39:11.207630",
     "exception": false,
     "start_time": "2020-08-18T01:39:09.263034",
     "status": "completed"
    },
    "tags": []
   },
   "outputs": [],
   "source": [
    "gbm_tuned = GradientBoostingClassifier(**gbm_cv_model.best_params_).fit(X,y)"
   ]
  },
  {
   "cell_type": "code",
   "execution_count": 77,
   "metadata": {
    "execution": {
     "iopub.execute_input": "2020-08-18T01:39:11.323591Z",
     "iopub.status.busy": "2020-08-18T01:39:11.322732Z",
     "iopub.status.idle": "2020-08-18T01:39:28.822086Z",
     "shell.execute_reply": "2020-08-18T01:39:28.821341Z"
    },
    "papermill": {
     "duration": 17.560737,
     "end_time": "2020-08-18T01:39:28.822238",
     "exception": false,
     "start_time": "2020-08-18T01:39:11.261501",
     "status": "completed"
    },
    "tags": []
   },
   "outputs": [
    {
     "data": {
      "text/plain": [
       "0.903691045796309"
      ]
     },
     "execution_count": 77,
     "metadata": {},
     "output_type": "execute_result"
    }
   ],
   "source": [
    "cross_val_score(gbm_tuned, X,y, cv = 10).mean()"
   ]
  },
  {
   "cell_type": "markdown",
   "metadata": {
    "papermill": {
     "duration": 0.052774,
     "end_time": "2020-08-18T01:39:28.928411",
     "exception": false,
     "start_time": "2020-08-18T01:39:28.875637",
     "status": "completed"
    },
    "tags": []
   },
   "source": [
    "# Light GBM Model Tuning"
   ]
  },
  {
   "cell_type": "code",
   "execution_count": 78,
   "metadata": {
    "execution": {
     "iopub.execute_input": "2020-08-18T01:39:29.042347Z",
     "iopub.status.busy": "2020-08-18T01:39:29.041194Z",
     "iopub.status.idle": "2020-08-18T01:39:29.044681Z",
     "shell.execute_reply": "2020-08-18T01:39:29.043922Z"
    },
    "papermill": {
     "duration": 0.063543,
     "end_time": "2020-08-18T01:39:29.044813",
     "exception": false,
     "start_time": "2020-08-18T01:39:28.981270",
     "status": "completed"
    },
    "tags": []
   },
   "outputs": [],
   "source": [
    "lgbm_params = {\"learning_rate\": [0.01, 0.05, 0.1],\n",
    "              \"n_estimators\": [200, 500, 1000],\n",
    "              \"max_depth\":[5,8,10],\n",
    "              \"colsample_bytree\": [1,0.5,0.3]}\n"
   ]
  },
  {
   "cell_type": "code",
   "execution_count": 79,
   "metadata": {
    "execution": {
     "iopub.execute_input": "2020-08-18T01:39:29.156930Z",
     "iopub.status.busy": "2020-08-18T01:39:29.156097Z",
     "iopub.status.idle": "2020-08-18T01:39:29.159143Z",
     "shell.execute_reply": "2020-08-18T01:39:29.159725Z"
    },
    "papermill": {
     "duration": 0.062047,
     "end_time": "2020-08-18T01:39:29.159912",
     "exception": false,
     "start_time": "2020-08-18T01:39:29.097865",
     "status": "completed"
    },
    "tags": []
   },
   "outputs": [],
   "source": [
    "lgbm_model = LGBMClassifier()"
   ]
  },
  {
   "cell_type": "code",
   "execution_count": 80,
   "metadata": {
    "execution": {
     "iopub.execute_input": "2020-08-18T01:39:29.275124Z",
     "iopub.status.busy": "2020-08-18T01:39:29.274164Z",
     "iopub.status.idle": "2020-08-18T01:41:03.718623Z",
     "shell.execute_reply": "2020-08-18T01:41:03.719379Z"
    },
    "papermill": {
     "duration": 94.505702,
     "end_time": "2020-08-18T01:41:03.719612",
     "exception": false,
     "start_time": "2020-08-18T01:39:29.213910",
     "status": "completed"
    },
    "tags": []
   },
   "outputs": [
    {
     "name": "stdout",
     "output_type": "stream",
     "text": [
      "Fitting 10 folds for each of 81 candidates, totalling 810 fits\n"
     ]
    },
    {
     "name": "stderr",
     "output_type": "stream",
     "text": [
      "[Parallel(n_jobs=-1)]: Using backend LokyBackend with 4 concurrent workers.\n",
      "[Parallel(n_jobs=-1)]: Done  33 tasks      | elapsed:    3.8s\n",
      "[Parallel(n_jobs=-1)]: Done 154 tasks      | elapsed:   21.9s\n",
      "[Parallel(n_jobs=-1)]: Done 357 tasks      | elapsed:   47.4s\n",
      "[Parallel(n_jobs=-1)]: Done 640 tasks      | elapsed:  1.3min\n",
      "[Parallel(n_jobs=-1)]: Done 810 out of 810 | elapsed:  1.6min finished\n"
     ]
    }
   ],
   "source": [
    "lgbm_cv_model = GridSearchCV(lgbm_model, \n",
    "                     lgbm_params, \n",
    "                     cv = 10, \n",
    "                     n_jobs = -1, \n",
    "                     verbose = 2).fit(X,y)"
   ]
  },
  {
   "cell_type": "code",
   "execution_count": 81,
   "metadata": {
    "execution": {
     "iopub.execute_input": "2020-08-18T01:41:03.857215Z",
     "iopub.status.busy": "2020-08-18T01:41:03.856035Z",
     "iopub.status.idle": "2020-08-18T01:41:03.861425Z",
     "shell.execute_reply": "2020-08-18T01:41:03.860655Z"
    },
    "papermill": {
     "duration": 0.072593,
     "end_time": "2020-08-18T01:41:03.861564",
     "exception": false,
     "start_time": "2020-08-18T01:41:03.788971",
     "status": "completed"
    },
    "tags": []
   },
   "outputs": [
    {
     "data": {
      "text/plain": [
       "{'colsample_bytree': 1,\n",
       " 'learning_rate': 0.05,\n",
       " 'max_depth': 5,\n",
       " 'n_estimators': 500}"
      ]
     },
     "execution_count": 81,
     "metadata": {},
     "output_type": "execute_result"
    }
   ],
   "source": [
    "lgbm_cv_model.best_params_\n"
   ]
  },
  {
   "cell_type": "code",
   "execution_count": 82,
   "metadata": {
    "execution": {
     "iopub.execute_input": "2020-08-18T01:41:03.975438Z",
     "iopub.status.busy": "2020-08-18T01:41:03.974436Z",
     "iopub.status.idle": "2020-08-18T01:41:04.161414Z",
     "shell.execute_reply": "2020-08-18T01:41:04.162191Z"
    },
    "papermill": {
     "duration": 0.247381,
     "end_time": "2020-08-18T01:41:04.162407",
     "exception": false,
     "start_time": "2020-08-18T01:41:03.915026",
     "status": "completed"
    },
    "tags": []
   },
   "outputs": [],
   "source": [
    "lgbm_tuned = LGBMClassifier(**lgbm_cv_model.best_params_).fit(X,y)\n"
   ]
  },
  {
   "cell_type": "code",
   "execution_count": 83,
   "metadata": {
    "execution": {
     "iopub.execute_input": "2020-08-18T01:41:04.311897Z",
     "iopub.status.busy": "2020-08-18T01:41:04.310979Z",
     "iopub.status.idle": "2020-08-18T01:41:06.179894Z",
     "shell.execute_reply": "2020-08-18T01:41:06.180736Z"
    },
    "papermill": {
     "duration": 1.952694,
     "end_time": "2020-08-18T01:41:06.180945",
     "exception": false,
     "start_time": "2020-08-18T01:41:04.228251",
     "status": "completed"
    },
    "tags": []
   },
   "outputs": [
    {
     "data": {
      "text/plain": [
       "0.8959159261790839"
      ]
     },
     "execution_count": 83,
     "metadata": {},
     "output_type": "execute_result"
    }
   ],
   "source": [
    "cross_val_score(lgbm_tuned, X,y, cv = 10).mean()"
   ]
  },
  {
   "cell_type": "markdown",
   "metadata": {
    "papermill": {
     "duration": 0.069845,
     "end_time": "2020-08-18T01:41:06.319522",
     "exception": false,
     "start_time": "2020-08-18T01:41:06.249677",
     "status": "completed"
    },
    "tags": []
   },
   "source": [
    "# XGB Model Tuning"
   ]
  },
  {
   "cell_type": "code",
   "execution_count": 84,
   "metadata": {
    "execution": {
     "iopub.execute_input": "2020-08-18T01:41:06.443974Z",
     "iopub.status.busy": "2020-08-18T01:41:06.442846Z",
     "iopub.status.idle": "2020-08-18T01:41:06.445955Z",
     "shell.execute_reply": "2020-08-18T01:41:06.445358Z"
    },
    "papermill": {
     "duration": 0.064086,
     "end_time": "2020-08-18T01:41:06.446091",
     "exception": false,
     "start_time": "2020-08-18T01:41:06.382005",
     "status": "completed"
    },
    "tags": []
   },
   "outputs": [],
   "source": [
    "xgb_model = XGBClassifier()"
   ]
  },
  {
   "cell_type": "code",
   "execution_count": 85,
   "metadata": {
    "execution": {
     "iopub.execute_input": "2020-08-18T01:41:06.661547Z",
     "iopub.status.busy": "2020-08-18T01:41:06.660315Z",
     "iopub.status.idle": "2020-08-18T01:41:06.667186Z",
     "shell.execute_reply": "2020-08-18T01:41:06.668065Z"
    },
    "papermill": {
     "duration": 0.167564,
     "end_time": "2020-08-18T01:41:06.668296",
     "exception": false,
     "start_time": "2020-08-18T01:41:06.500732",
     "status": "completed"
    },
    "tags": []
   },
   "outputs": [],
   "source": [
    "xgb_params = {\"learning_rate\": [0.1,0.01,1],\n",
    "             \"max_depth\": [2,5,8],\n",
    "             \"n_estimators\": [100,500,1000],\n",
    "             \"colsample_bytree\": [0.3,0.6,1]}"
   ]
  },
  {
   "cell_type": "code",
   "execution_count": 86,
   "metadata": {
    "execution": {
     "iopub.execute_input": "2020-08-18T01:41:06.803147Z",
     "iopub.status.busy": "2020-08-18T01:41:06.801996Z",
     "iopub.status.idle": "2020-08-18T01:42:38.980711Z",
     "shell.execute_reply": "2020-08-18T01:42:38.981479Z"
    },
    "papermill": {
     "duration": 92.250451,
     "end_time": "2020-08-18T01:42:38.981719",
     "exception": false,
     "start_time": "2020-08-18T01:41:06.731268",
     "status": "completed"
    },
    "tags": []
   },
   "outputs": [
    {
     "name": "stdout",
     "output_type": "stream",
     "text": [
      "Fitting 10 folds for each of 81 candidates, totalling 810 fits\n"
     ]
    },
    {
     "name": "stderr",
     "output_type": "stream",
     "text": [
      "[Parallel(n_jobs=-1)]: Using backend LokyBackend with 4 concurrent workers.\n",
      "[Parallel(n_jobs=-1)]: Done  33 tasks      | elapsed:    3.0s\n",
      "[Parallel(n_jobs=-1)]: Done 154 tasks      | elapsed:   13.8s\n",
      "[Parallel(n_jobs=-1)]: Done 357 tasks      | elapsed:   33.7s\n",
      "[Parallel(n_jobs=-1)]: Done 640 tasks      | elapsed:  1.1min\n",
      "[Parallel(n_jobs=-1)]: Done 810 out of 810 | elapsed:  1.5min finished\n"
     ]
    }
   ],
   "source": [
    "xgb_cv_model  = GridSearchCV(xgb_model,xgb_params, cv = 10, n_jobs = -1, verbose = 2).fit(X,y)"
   ]
  },
  {
   "cell_type": "code",
   "execution_count": 87,
   "metadata": {
    "execution": {
     "iopub.execute_input": "2020-08-18T01:42:39.121846Z",
     "iopub.status.busy": "2020-08-18T01:42:39.120949Z",
     "iopub.status.idle": "2020-08-18T01:42:39.124314Z",
     "shell.execute_reply": "2020-08-18T01:42:39.124977Z"
    },
    "papermill": {
     "duration": 0.077374,
     "end_time": "2020-08-18T01:42:39.125186",
     "exception": false,
     "start_time": "2020-08-18T01:42:39.047812",
     "status": "completed"
    },
    "tags": []
   },
   "outputs": [
    {
     "data": {
      "text/plain": [
       "{'colsample_bytree': 0.6,\n",
       " 'learning_rate': 0.01,\n",
       " 'max_depth': 2,\n",
       " 'n_estimators': 1000}"
      ]
     },
     "execution_count": 87,
     "metadata": {},
     "output_type": "execute_result"
    }
   ],
   "source": [
    "xgb_cv_model.best_params_\n"
   ]
  },
  {
   "cell_type": "code",
   "execution_count": 88,
   "metadata": {
    "execution": {
     "iopub.execute_input": "2020-08-18T01:42:39.249670Z",
     "iopub.status.busy": "2020-08-18T01:42:39.247935Z",
     "iopub.status.idle": "2020-08-18T01:42:39.470145Z",
     "shell.execute_reply": "2020-08-18T01:42:39.470848Z"
    },
    "papermill": {
     "duration": 0.28446,
     "end_time": "2020-08-18T01:42:39.471080",
     "exception": false,
     "start_time": "2020-08-18T01:42:39.186620",
     "status": "completed"
    },
    "tags": []
   },
   "outputs": [],
   "source": [
    "xgb_tuned = XGBClassifier(**xgb_cv_model.best_params_).fit(X,y)\n"
   ]
  },
  {
   "cell_type": "code",
   "execution_count": 89,
   "metadata": {
    "execution": {
     "iopub.execute_input": "2020-08-18T01:42:39.611641Z",
     "iopub.status.busy": "2020-08-18T01:42:39.610502Z",
     "iopub.status.idle": "2020-08-18T01:42:41.899665Z",
     "shell.execute_reply": "2020-08-18T01:42:41.900461Z"
    },
    "papermill": {
     "duration": 2.363097,
     "end_time": "2020-08-18T01:42:41.900662",
     "exception": false,
     "start_time": "2020-08-18T01:42:39.537565",
     "status": "completed"
    },
    "tags": []
   },
   "outputs": [
    {
     "data": {
      "text/plain": [
       "0.9036568694463429"
      ]
     },
     "execution_count": 89,
     "metadata": {},
     "output_type": "execute_result"
    }
   ],
   "source": [
    "cross_val_score(xgb_tuned, X,y, cv = 10).mean()"
   ]
  },
  {
   "cell_type": "code",
   "execution_count": null,
   "metadata": {
    "papermill": {
     "duration": 0.066824,
     "end_time": "2020-08-18T01:42:42.033881",
     "exception": false,
     "start_time": "2020-08-18T01:42:41.967057",
     "status": "completed"
    },
    "tags": []
   },
   "outputs": [],
   "source": []
  }
 ],
 "metadata": {
  "kernelspec": {
   "display_name": "Python 3",
   "language": "python",
   "name": "python3"
  },
  "language_info": {
   "codemirror_mode": {
    "name": "ipython",
    "version": 3
   },
   "file_extension": ".py",
   "mimetype": "text/x-python",
   "name": "python",
   "nbconvert_exporter": "python",
   "pygments_lexer": "ipython3",
   "version": "3.7.4"
  },
  "papermill": {
   "duration": 1939.813847,
   "end_time": "2020-08-18T01:42:42.208164",
   "environment_variables": {},
   "exception": null,
   "input_path": "__notebook__.ipynb",
   "output_path": "__notebook__.ipynb",
   "parameters": {},
   "start_time": "2020-08-18T01:10:22.394317",
   "version": "2.1.0"
  }
 },
 "nbformat": 4,
 "nbformat_minor": 4
}
